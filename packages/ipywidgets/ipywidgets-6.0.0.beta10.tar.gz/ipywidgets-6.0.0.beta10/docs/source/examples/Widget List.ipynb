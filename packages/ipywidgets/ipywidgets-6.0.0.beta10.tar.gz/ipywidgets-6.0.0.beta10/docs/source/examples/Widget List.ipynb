{
 "cells": [
  {
   "cell_type": "markdown",
   "metadata": {
    "nbsphinx": "hidden"
   },
   "source": [
    "[Index](Index.ipynb) - [Back](Widget Basics.ipynb) - [Next](Widget Events.ipynb)"
   ]
  },
  {
   "cell_type": "markdown",
   "metadata": {},
   "source": [
    "# Widget List"
   ]
  },
  {
   "cell_type": "markdown",
   "metadata": {},
   "source": [
    "## Complete list"
   ]
  },
  {
   "cell_type": "markdown",
   "metadata": {
    "slideshow": {
     "slide_type": "slide"
    }
   },
   "source": [
    "For a complete list of the GUI widgets available to you, you can list the registered widget types.  `Widget` and `DOMWidget`, not listed below, are base classes."
   ]
  },
  {
   "cell_type": "code",
   "execution_count": 1,
   "metadata": {
    "collapsed": false
   },
   "outputs": [
    {
     "data": {
      "text/plain": [
       "['Jupyter.Accordion',\n",
       " 'Jupyter.BoundedFloatText',\n",
       " 'Jupyter.BoundedIntText',\n",
       " 'Jupyter.Box',\n",
       " 'Jupyter.Button',\n",
       " 'Jupyter.Checkbox',\n",
       " 'Jupyter.ColorPicker',\n",
       " 'Jupyter.Controller',\n",
       " 'Jupyter.ControllerAxis',\n",
       " 'Jupyter.ControllerButton',\n",
       " 'Jupyter.DatePicker',\n",
       " 'Jupyter.Dropdown',\n",
       " 'Jupyter.FloatProgress',\n",
       " 'Jupyter.FloatRangeSlider',\n",
       " 'Jupyter.FloatSlider',\n",
       " 'Jupyter.FloatText',\n",
       " 'Jupyter.HBox',\n",
       " 'Jupyter.HTML',\n",
       " 'Jupyter.HTMLMath',\n",
       " 'Jupyter.Image',\n",
       " 'Jupyter.IntProgress',\n",
       " 'Jupyter.IntRangeSlider',\n",
       " 'Jupyter.IntSlider',\n",
       " 'Jupyter.IntText',\n",
       " 'Jupyter.Label',\n",
       " 'Jupyter.PlaceProxy',\n",
       " 'Jupyter.Play',\n",
       " 'Jupyter.Proxy',\n",
       " 'Jupyter.RadioButtons',\n",
       " 'Jupyter.Select',\n",
       " 'Jupyter.SelectMultiple',\n",
       " 'Jupyter.SelectionSlider',\n",
       " 'Jupyter.Tab',\n",
       " 'Jupyter.Text',\n",
       " 'Jupyter.Textarea',\n",
       " 'Jupyter.ToggleButton',\n",
       " 'Jupyter.ToggleButtons',\n",
       " 'Jupyter.VBox',\n",
       " 'Jupyter.Valid',\n",
       " 'jupyter.DirectionalLink',\n",
       " 'jupyter.Link']"
      ]
     },
     "execution_count": 1,
     "metadata": {},
     "output_type": "execute_result"
    }
   ],
   "source": [
    "import ipywidgets as widgets\n",
    "sorted(widgets.Widget.widget_types)"
   ]
  },
  {
   "cell_type": "markdown",
   "metadata": {
    "slideshow": {
     "slide_type": "slide"
    }
   },
   "source": [
    "## Numeric widgets"
   ]
  },
  {
   "cell_type": "markdown",
   "metadata": {},
   "source": [
    "There are 8 widgets distributed with IPython that are designed to display numeric values.  Widgets exist for displaying integers and floats, both bounded and unbounded.  The integer widgets share a similar naming scheme to their floating point counterparts.  By replacing `Float` with `Int` in the widget name, you can find the Integer equivalent."
   ]
  },
  {
   "cell_type": "markdown",
   "metadata": {},
   "source": [
    "### IntSlider"
   ]
  },
  {
   "cell_type": "code",
   "execution_count": 2,
   "metadata": {
    "collapsed": false
   },
   "outputs": [
    {
     "data": {
      "application/vnd.jupyter.widget-view+json": {
       "model_id": "cf8a8c4f5b66495abca0bbfd0b91691f"
      }
     },
     "metadata": {},
     "output_type": "display_data"
    }
   ],
   "source": [
    "widgets.IntSlider(\n",
    "    value=7,\n",
    "    min=0,\n",
    "    max=10,\n",
    "    step=1,\n",
    "    description='Test:',\n",
    "    disabled=False,\n",
    "    continuous_update=False,\n",
    "    orientation='horizontal',\n",
    "    readout=True,\n",
    "    readout_format='i',\n",
    "    slider_color='white'\n",
    ")"
   ]
  },
  {
   "cell_type": "markdown",
   "metadata": {
    "slideshow": {
     "slide_type": "slide"
    }
   },
   "source": [
    "### FloatSlider"
   ]
  },
  {
   "cell_type": "code",
   "execution_count": 3,
   "metadata": {
    "collapsed": false
   },
   "outputs": [
    {
     "data": {
      "application/vnd.jupyter.widget-view+json": {
       "model_id": "10c748f811d640188fe1c2ec60a8cf8b"
      }
     },
     "metadata": {},
     "output_type": "display_data"
    }
   ],
   "source": [
    "widgets.FloatSlider(\n",
    "    value=7.5,\n",
    "    min=0,\n",
    "    max=10.0,\n",
    "    step=0.1,\n",
    "    description='Test:',\n",
    "    disabled=False,\n",
    "    continuous_update=False,\n",
    "    orientation='horizontal',\n",
    "    readout=True,\n",
    "    readout_format='.1f',\n",
    "    slider_color='white'\n",
    ")"
   ]
  },
  {
   "cell_type": "markdown",
   "metadata": {},
   "source": [
    "Sliders can also be **displayed vertically**."
   ]
  },
  {
   "cell_type": "code",
   "execution_count": 4,
   "metadata": {
    "collapsed": false
   },
   "outputs": [
    {
     "data": {
      "application/vnd.jupyter.widget-view+json": {
       "model_id": "9f97890352bf41358bc5c4b876db177a"
      }
     },
     "metadata": {},
     "output_type": "display_data"
    }
   ],
   "source": [
    "widgets.FloatSlider(\n",
    "    value=7.5,\n",
    "    min=0,\n",
    "    max=10.0,\n",
    "    step=0.1,\n",
    "    description='Test:',\n",
    "    disabled=False,\n",
    "    continuous_update=False,\n",
    "    orientation='vertical',\n",
    "    readout=True,\n",
    "    readout_format='.1f',\n",
    "    slider_color='white'\n",
    ")"
   ]
  },
  {
   "cell_type": "markdown",
   "metadata": {},
   "source": [
    "### IntRangeSlider"
   ]
  },
  {
   "cell_type": "code",
   "execution_count": 5,
   "metadata": {
    "collapsed": false
   },
   "outputs": [
    {
     "data": {
      "application/vnd.jupyter.widget-view+json": {
       "model_id": "f4075b0d7a10486b896fac9caa3d858b"
      }
     },
     "metadata": {},
     "output_type": "display_data"
    }
   ],
   "source": [
    "widgets.IntRangeSlider(\n",
    "    value=[5, 7],\n",
    "    min=0,\n",
    "    max=10,\n",
    "    step=1,\n",
    "    description='Test:',\n",
    "    disabled=False,\n",
    "    continuous_update=False,\n",
    "    orientation='horizontal',\n",
    "    readout=True,\n",
    "    readout_format='i',\n",
    "    slider_color='white',\n",
    "    color='black'\n",
    ")"
   ]
  },
  {
   "cell_type": "markdown",
   "metadata": {},
   "source": [
    "### FloatRangeSlider"
   ]
  },
  {
   "cell_type": "code",
   "execution_count": 6,
   "metadata": {
    "collapsed": false
   },
   "outputs": [
    {
     "data": {
      "application/vnd.jupyter.widget-view+json": {
       "model_id": "0cd5e998de4e4ebdb416114da67c861a"
      }
     },
     "metadata": {},
     "output_type": "display_data"
    }
   ],
   "source": [
    "widgets.FloatRangeSlider(\n",
    "    value=[5, 7.5],\n",
    "    min=0,\n",
    "    max=10.0,\n",
    "    step=0.1,\n",
    "    description='Test:',\n",
    "    disabled=False,\n",
    "    continuous_update=False,\n",
    "    orientation='horizontal',\n",
    "    readout=True,\n",
    "    readout_format='i',\n",
    "    slider_color='white',\n",
    "    color='black'\n",
    ")"
   ]
  },
  {
   "cell_type": "markdown",
   "metadata": {},
   "source": [
    "### IntProgress"
   ]
  },
  {
   "cell_type": "code",
   "execution_count": 7,
   "metadata": {
    "collapsed": false
   },
   "outputs": [
    {
     "data": {
      "application/vnd.jupyter.widget-view+json": {
       "model_id": "eea4057979c44b619927a69b78e8a88b"
      }
     },
     "metadata": {},
     "output_type": "display_data"
    }
   ],
   "source": [
    "widgets.IntProgress(\n",
    "    value=7,\n",
    "    min=0,\n",
    "    max=10,\n",
    "    step=1,\n",
    "    description='Loading:',\n",
    "    bar_style='', # 'success', 'info', 'warning', 'danger' or ''\n",
    "    orientation='horizontal'\n",
    ")"
   ]
  },
  {
   "cell_type": "markdown",
   "metadata": {
    "slideshow": {
     "slide_type": "slide"
    }
   },
   "source": [
    "### FloatProgress"
   ]
  },
  {
   "cell_type": "code",
   "execution_count": 8,
   "metadata": {
    "collapsed": false
   },
   "outputs": [
    {
     "data": {
      "application/vnd.jupyter.widget-view+json": {
       "model_id": "c2789d1edb7e42cb9b62368980cbe771"
      }
     },
     "metadata": {},
     "output_type": "display_data"
    }
   ],
   "source": [
    "widgets.FloatProgress(\n",
    "    value=7.5,\n",
    "    min=0,\n",
    "    max=10.0,\n",
    "    step=0.1,\n",
    "    description='Loading:',\n",
    "    bar_style='info',\n",
    "    orientation='horizontal'\n",
    ")"
   ]
  },
  {
   "cell_type": "markdown",
   "metadata": {},
   "source": [
    "### BoundedIntText"
   ]
  },
  {
   "cell_type": "code",
   "execution_count": 9,
   "metadata": {
    "collapsed": false
   },
   "outputs": [
    {
     "data": {
      "application/vnd.jupyter.widget-view+json": {
       "model_id": "70f85ea577cb424299c5947f3c6cb158"
      }
     },
     "metadata": {},
     "output_type": "display_data"
    }
   ],
   "source": [
    "widgets.BoundedIntText(\n",
    "    value=7,\n",
    "    min=0,\n",
    "    max=10,\n",
    "    step=1,\n",
    "    description='Text:',\n",
    "    disabled=False\n",
    ")"
   ]
  },
  {
   "cell_type": "markdown",
   "metadata": {
    "slideshow": {
     "slide_type": "slide"
    }
   },
   "source": [
    "### BoundedFloatText"
   ]
  },
  {
   "cell_type": "code",
   "execution_count": 10,
   "metadata": {
    "collapsed": false
   },
   "outputs": [
    {
     "data": {
      "application/vnd.jupyter.widget-view+json": {
       "model_id": "3796fe9e75f7404588239c7b1e8ff95f"
      }
     },
     "metadata": {},
     "output_type": "display_data"
    }
   ],
   "source": [
    "widgets.BoundedFloatText(\n",
    "    value=7.5,\n",
    "    min=0,\n",
    "    max=10.0,\n",
    "    step=0.1,\n",
    "    description='Text:',\n",
    "    disabled=False,\n",
    "    color='black'\n",
    ")"
   ]
  },
  {
   "cell_type": "markdown",
   "metadata": {},
   "source": [
    "### IntText"
   ]
  },
  {
   "cell_type": "code",
   "execution_count": 11,
   "metadata": {
    "collapsed": false
   },
   "outputs": [
    {
     "data": {
      "application/vnd.jupyter.widget-view+json": {
       "model_id": "a18edc0d27014a9292ad45a394b83cd8"
      }
     },
     "metadata": {},
     "output_type": "display_data"
    }
   ],
   "source": [
    "widgets.IntText(\n",
    "    value=7,\n",
    "    description='Any:',\n",
    "    disabled=False\n",
    ")"
   ]
  },
  {
   "cell_type": "markdown",
   "metadata": {
    "slideshow": {
     "slide_type": "slide"
    }
   },
   "source": [
    "### FloatText"
   ]
  },
  {
   "cell_type": "code",
   "execution_count": 12,
   "metadata": {
    "collapsed": false
   },
   "outputs": [
    {
     "data": {
      "application/vnd.jupyter.widget-view+json": {
       "model_id": "16c5ff0af07e40b49ce8f6521df76a52"
      }
     },
     "metadata": {},
     "output_type": "display_data"
    }
   ],
   "source": [
    "widgets.FloatText(\n",
    "    value=7.5,\n",
    "    description='Any:',\n",
    "    disabled=False,\n",
    "    color='black'\n",
    ")"
   ]
  },
  {
   "cell_type": "markdown",
   "metadata": {
    "slideshow": {
     "slide_type": "slide"
    }
   },
   "source": [
    "## Boolean widgets"
   ]
  },
  {
   "cell_type": "markdown",
   "metadata": {},
   "source": [
    "There are three widgets that are designed to display a boolean value."
   ]
  },
  {
   "cell_type": "markdown",
   "metadata": {},
   "source": [
    "### ToggleButton"
   ]
  },
  {
   "cell_type": "code",
   "execution_count": 13,
   "metadata": {
    "collapsed": false
   },
   "outputs": [
    {
     "data": {
      "application/vnd.jupyter.widget-view+json": {
       "model_id": "4a52608b62ff4f988b930aedff5893c4"
      }
     },
     "metadata": {},
     "output_type": "display_data"
    }
   ],
   "source": [
    "widgets.ToggleButton(\n",
    "    value=False,\n",
    "    description='Click me',\n",
    "    disabled=False,\n",
    "    button_style='', # 'success', 'info', 'warning', 'danger' or ''\n",
    "    tooltip='Description',\n",
    "    icon='check'\n",
    ")"
   ]
  },
  {
   "cell_type": "markdown",
   "metadata": {
    "slideshow": {
     "slide_type": "slide"
    }
   },
   "source": [
    "### Checkbox"
   ]
  },
  {
   "cell_type": "code",
   "execution_count": 14,
   "metadata": {
    "collapsed": false
   },
   "outputs": [
    {
     "data": {
      "application/vnd.jupyter.widget-view+json": {
       "model_id": "3595676886b740aba20d9435f82e0b7d"
      }
     },
     "metadata": {},
     "output_type": "display_data"
    }
   ],
   "source": [
    "widgets.Checkbox(\n",
    "    value=False,\n",
    "    description='Check me',\n",
    "    disabled=False\n",
    ")"
   ]
  },
  {
   "cell_type": "markdown",
   "metadata": {},
   "source": [
    "### Valid\n",
    "\n",
    "The valid widget provides a read-only indicator."
   ]
  },
  {
   "cell_type": "code",
   "execution_count": 15,
   "metadata": {
    "collapsed": false
   },
   "outputs": [
    {
     "data": {
      "application/vnd.jupyter.widget-view+json": {
       "model_id": "c7c488de7bfe42dd92b5be043d25ef80"
      }
     },
     "metadata": {},
     "output_type": "display_data"
    }
   ],
   "source": [
    "widgets.Valid(\n",
    "    value=False,\n",
    "    description='Valid!',\n",
    "    disabled=False\n",
    ")"
   ]
  },
  {
   "cell_type": "markdown",
   "metadata": {
    "slideshow": {
     "slide_type": "slide"
    }
   },
   "source": [
    "## Selection widgets"
   ]
  },
  {
   "cell_type": "markdown",
   "metadata": {},
   "source": [
    "There are four widgets that can be used to display single selection lists, and one that can be used to display multiple selection lists.  All inherit from the same base class.  You can specify the **enumeration of selectable options by passing a list**.  You can **also specify the enumeration as a dictionary**, in which case the **keys will be used as the item displayed** in the list and the corresponding **value will be returned** when an item is selected."
   ]
  },
  {
   "cell_type": "markdown",
   "metadata": {
    "slideshow": {
     "slide_type": "slide"
    }
   },
   "source": [
    "### Dropdown"
   ]
  },
  {
   "cell_type": "code",
   "execution_count": 16,
   "metadata": {
    "collapsed": false
   },
   "outputs": [
    {
     "data": {
      "application/vnd.jupyter.widget-view+json": {
       "model_id": "fa82e817abfa4518b9349df5e77c33ec"
      }
     },
     "metadata": {},
     "output_type": "display_data"
    }
   ],
   "source": [
    "widgets.Dropdown(\n",
    "    options=['1', '2', '3'],\n",
    "    value='2',\n",
    "    description='Number:',\n",
    "    disabled=False,\n",
    "    button_style='' # 'success', 'info', 'warning', 'danger' or ''\n",
    ")"
   ]
  },
  {
   "cell_type": "markdown",
   "metadata": {},
   "source": [
    "The following is also valid:"
   ]
  },
  {
   "cell_type": "code",
   "execution_count": 17,
   "metadata": {
    "collapsed": false
   },
   "outputs": [
    {
     "data": {
      "application/vnd.jupyter.widget-view+json": {
       "model_id": "342c1d38ab584b32bd818b4af8b8668e"
      }
     },
     "metadata": {},
     "output_type": "display_data"
    }
   ],
   "source": [
    "widgets.Dropdown(\n",
    "    options={'One': 1, 'Two': 2, 'Three': 3},\n",
    "    value=2,\n",
    "    description='Number:',\n",
    ")"
   ]
  },
  {
   "cell_type": "markdown",
   "metadata": {
    "slideshow": {
     "slide_type": "slide"
    }
   },
   "source": [
    "### RadioButtons"
   ]
  },
  {
   "cell_type": "code",
   "execution_count": 18,
   "metadata": {
    "collapsed": false
   },
   "outputs": [
    {
     "data": {
      "application/vnd.jupyter.widget-view+json": {
       "model_id": "aa4be414e6d84ba88188180ba99d3b15"
      }
     },
     "metadata": {},
     "output_type": "display_data"
    }
   ],
   "source": [
    "widgets.RadioButtons(\n",
    "    options=['pepperoni', 'pineapple', 'anchovies'],\n",
    "#     value='pineapple',\n",
    "    description='Pizza topping:',\n",
    "    disabled=False\n",
    ")"
   ]
  },
  {
   "cell_type": "markdown",
   "metadata": {
    "slideshow": {
     "slide_type": "slide"
    }
   },
   "source": [
    "### Select"
   ]
  },
  {
   "cell_type": "code",
   "execution_count": 19,
   "metadata": {
    "collapsed": false
   },
   "outputs": [
    {
     "data": {
      "application/vnd.jupyter.widget-view+json": {
       "model_id": "c5f4ba41db5344149c75e7108de23abd"
      }
     },
     "metadata": {},
     "output_type": "display_data"
    }
   ],
   "source": [
    "widgets.Select(\n",
    "    options=['Linux', 'Windows', 'OSX'],\n",
    "#     value='OSX',\n",
    "    description='OS:',\n",
    "    disabled=False\n",
    ")"
   ]
  },
  {
   "cell_type": "markdown",
   "metadata": {},
   "source": [
    "### SelectionSlider"
   ]
  },
  {
   "cell_type": "code",
   "execution_count": 20,
   "metadata": {
    "collapsed": false
   },
   "outputs": [
    {
     "data": {
      "application/vnd.jupyter.widget-view+json": {
       "model_id": "2530ee0ec5014ff99fd736ce95cc5d29"
      }
     },
     "metadata": {},
     "output_type": "display_data"
    }
   ],
   "source": [
    "widgets.SelectionSlider(\n",
    "    options=['scrambled', 'sunny side up', 'poached', 'over easy'],\n",
    "    value='sunny side up',\n",
    "    description='I like my eggs ...',\n",
    "    disabled=False,\n",
    "    continuous_update=False,\n",
    "    orientation='horizontal',\n",
    "    readout=True,\n",
    "#     readout_format='i',\n",
    "#     slider_color='black'\n",
    ")"
   ]
  },
  {
   "cell_type": "markdown",
   "metadata": {
    "slideshow": {
     "slide_type": "slide"
    }
   },
   "source": [
    "### ToggleButtons"
   ]
  },
  {
   "cell_type": "code",
   "execution_count": 21,
   "metadata": {
    "collapsed": false
   },
   "outputs": [
    {
     "data": {
      "application/vnd.jupyter.widget-view+json": {
       "model_id": "63f70d4e57a445bd934d9f7b4ff88580"
      }
     },
     "metadata": {},
     "output_type": "display_data"
    }
   ],
   "source": [
    "widgets.ToggleButtons(\n",
    "    options=['Slow', 'Regular', 'Fast'],\n",
    "    description='Speed:',\n",
    "    disabled=False,\n",
    "    button_style='', # 'success', 'info', 'warning', 'danger' or ''\n",
    "    tooltip='Description',\n",
    "#     icon='check' \n",
    ")"
   ]
  },
  {
   "cell_type": "markdown",
   "metadata": {},
   "source": [
    "### SelectMultiple\n",
    "Multiple values can be selected with <kbd>shift</kbd> and/or <kbd>ctrl</kbd> (or <kbd>command</kbd>) pressed and mouse clicks or arrow keys."
   ]
  },
  {
   "cell_type": "code",
   "execution_count": 22,
   "metadata": {
    "collapsed": false
   },
   "outputs": [
    {
     "data": {
      "application/vnd.jupyter.widget-view+json": {
       "model_id": "18ee7e65a81649eea104a7fe39795d30"
      }
     },
     "metadata": {},
     "output_type": "display_data"
    }
   ],
   "source": [
    "widgets.SelectMultiple(\n",
    "    options=['Apples', 'Oranges', 'Pears'],\n",
    "    value=['Oranges'],\n",
    "    description='Fruits',\n",
    "    disabled=False\n",
    ")"
   ]
  },
  {
   "cell_type": "markdown",
   "metadata": {
    "slideshow": {
     "slide_type": "slide"
    }
   },
   "source": [
    "## String widgets"
   ]
  },
  {
   "cell_type": "markdown",
   "metadata": {},
   "source": [
    "There are 4 widgets that can be used to display a string value.  Of those, the `Text` and `Textarea` widgets accept input.  The `Label` and `HTML` widgets display the string as either Label or HTML respectively, but do not accept input."
   ]
  },
  {
   "cell_type": "markdown",
   "metadata": {
    "slideshow": {
     "slide_type": "slide"
    }
   },
   "source": [
    "### Text"
   ]
  },
  {
   "cell_type": "code",
   "execution_count": 23,
   "metadata": {
    "collapsed": false
   },
   "outputs": [
    {
     "data": {
      "application/vnd.jupyter.widget-view+json": {
       "model_id": "193f9914913c457abdd424ad1582e1df"
      }
     },
     "metadata": {},
     "output_type": "display_data"
    }
   ],
   "source": [
    "widgets.Text(\n",
    "    value='Hello World',\n",
    "    placeholder='Type something',\n",
    "    description='String:',\n",
    "    disabled=False   \n",
    ")"
   ]
  },
  {
   "cell_type": "markdown",
   "metadata": {},
   "source": [
    "### Textarea"
   ]
  },
  {
   "cell_type": "code",
   "execution_count": 24,
   "metadata": {
    "collapsed": false
   },
   "outputs": [
    {
     "data": {
      "application/vnd.jupyter.widget-view+json": {
       "model_id": "67802facfcc4441988028055d74831fd"
      }
     },
     "metadata": {},
     "output_type": "display_data"
    }
   ],
   "source": [
    "widgets.Textarea(\n",
    "    value='Hello World',\n",
    "    placeholder='Type something',\n",
    "    description='String:',\n",
    "    disabled=False\n",
    ")"
   ]
  },
  {
   "cell_type": "markdown",
   "metadata": {
    "slideshow": {
     "slide_type": "slide"
    }
   },
   "source": [
    "### Label"
   ]
  },
  {
   "cell_type": "code",
   "execution_count": 25,
   "metadata": {
    "collapsed": false
   },
   "outputs": [
    {
     "data": {
      "application/vnd.jupyter.widget-view+json": {
       "model_id": "12ce9f4b6c9b4f2c82e62bdd1bb5f10c"
      }
     },
     "metadata": {},
     "output_type": "display_data"
    }
   ],
   "source": [
    "widgets.Label(\n",
    "    value=\"$$\\\\frac{n!}{k!(n-k)!} = \\\\binom{n}{k}$$\",\n",
    "    placeholder='Some LaTeX',\n",
    "    description='Some LaTeX',\n",
    "    disabled=False\n",
    ")"
   ]
  },
  {
   "cell_type": "markdown",
   "metadata": {},
   "source": [
    "## HTML"
   ]
  },
  {
   "cell_type": "code",
   "execution_count": 26,
   "metadata": {
    "collapsed": false
   },
   "outputs": [
    {
     "data": {
      "application/vnd.jupyter.widget-view+json": {
       "model_id": "4865d45cefff41eb90301a81470413b5"
      }
     },
     "metadata": {},
     "output_type": "display_data"
    }
   ],
   "source": [
    "widgets.HTML(\n",
    "    value=\"Hello <b>World</b>\",\n",
    "    placeholder='Some HTML',\n",
    "    description='Some HTML',\n",
    "    disabled=False\n",
    ")"
   ]
  },
  {
   "cell_type": "markdown",
   "metadata": {},
   "source": [
    "## HTML Math"
   ]
  },
  {
   "cell_type": "code",
   "execution_count": 27,
   "metadata": {
    "collapsed": false
   },
   "outputs": [
    {
     "data": {
      "application/vnd.jupyter.widget-view+json": {
       "model_id": "aae3f2ab77d141d48b0000fb7d45fea2"
      }
     },
     "metadata": {},
     "output_type": "display_data"
    }
   ],
   "source": [
    "widgets.HTMLMath(\n",
    "    value=r\"Some math and <i>HTML</i>: $x^2$ and $$\\frac{x+1}{x-1}$$\",\n",
    "    placeholder='Some HTML',\n",
    "    description='Some HTML',\n",
    "    disabled=False\n",
    ")"
   ]
  },
  {
   "cell_type": "markdown",
   "metadata": {},
   "source": [
    "## Image"
   ]
  },
  {
   "cell_type": "code",
   "execution_count": 28,
   "metadata": {
    "collapsed": false
   },
   "outputs": [
    {
     "data": {
      "application/vnd.jupyter.widget-view+json": {
       "model_id": "d1d2b0a10dd14b5da5544cd273f720cf"
      }
     },
     "metadata": {},
     "output_type": "display_data"
    }
   ],
   "source": [
    "file = open(\"images/WidgetArch.png\", \"rb\")\n",
    "image = file.read()\n",
    "widgets.Image(\n",
    "    value=image,\n",
    "    format='png',\n",
    "    width=300,\n",
    "    height=400\n",
    ")"
   ]
  },
  {
   "cell_type": "markdown",
   "metadata": {
    "slideshow": {
     "slide_type": "slide"
    }
   },
   "source": [
    "## Button"
   ]
  },
  {
   "cell_type": "code",
   "execution_count": 29,
   "metadata": {
    "collapsed": false
   },
   "outputs": [
    {
     "data": {
      "application/vnd.jupyter.widget-view+json": {
       "model_id": "55fa438ec3264251bbc806b203207161"
      }
     },
     "metadata": {},
     "output_type": "display_data"
    }
   ],
   "source": [
    "widgets.Button(\n",
    "    description='Click me',\n",
    "    disabled=False,\n",
    "    button_style='', # 'success', 'info', 'warning', 'danger' or ''\n",
    "    tooltip='Click me',\n",
    "    icon='check'\n",
    ")"
   ]
  },
  {
   "cell_type": "markdown",
   "metadata": {},
   "source": [
    "## Play (Animation) widget"
   ]
  },
  {
   "cell_type": "markdown",
   "metadata": {},
   "source": [
    "The `Play` widget is useful to perform animations by iterating on a sequence of integers with a certain speed."
   ]
  },
  {
   "cell_type": "code",
   "execution_count": 30,
   "metadata": {
    "collapsed": false
   },
   "outputs": [
    {
     "data": {
      "application/vnd.jupyter.widget-view+json": {
       "model_id": "f4aaf631431a4abe87f7a560a9e1d7ea"
      }
     },
     "metadata": {},
     "output_type": "display_data"
    }
   ],
   "source": [
    "play = widgets.Play(\n",
    "#     interval=10,\n",
    "    value=50,\n",
    "    min=0,\n",
    "    max=100,\n",
    "    step=1,\n",
    "    description=\"Press play\",\n",
    "    disabled=False\n",
    ")\n",
    "slider = widgets.IntSlider()\n",
    "widgets.jslink((play, 'value'), (slider, 'value'))\n",
    "widgets.HBox([play, slider])"
   ]
  },
  {
   "cell_type": "markdown",
   "metadata": {},
   "source": [
    "## Date picker"
   ]
  },
  {
   "cell_type": "code",
   "execution_count": 31,
   "metadata": {
    "collapsed": false
   },
   "outputs": [
    {
     "data": {
      "application/vnd.jupyter.widget-view+json": {
       "model_id": "8b8b9558a2fd4196915a7d21bb89f356"
      }
     },
     "metadata": {},
     "output_type": "display_data"
    }
   ],
   "source": [
    "widgets.DatePicker(\n",
    "    description='Pick a Date'\n",
    ")"
   ]
  },
  {
   "cell_type": "markdown",
   "metadata": {},
   "source": [
    "## Color picker"
   ]
  },
  {
   "cell_type": "code",
   "execution_count": 32,
   "metadata": {
    "collapsed": false
   },
   "outputs": [
    {
     "data": {
      "application/vnd.jupyter.widget-view+json": {
       "model_id": "4b75fc4bf5414cdb99cbbe7f2c4b2075"
      }
     },
     "metadata": {},
     "output_type": "display_data"
    }
   ],
   "source": [
    "widgets.ColorPicker(\n",
    "    concise=False,\n",
    "    description='Pick a color',\n",
    "    value='blue'\n",
    ")"
   ]
  },
  {
   "cell_type": "markdown",
   "metadata": {},
   "source": [
    "## Controller"
   ]
  },
  {
   "cell_type": "code",
   "execution_count": 33,
   "metadata": {
    "collapsed": false
   },
   "outputs": [
    {
     "data": {
      "application/vnd.jupyter.widget-view+json": {
       "model_id": "012de90b45c248dab84689547dbb53e3"
      }
     },
     "metadata": {},
     "output_type": "display_data"
    }
   ],
   "source": [
    "widgets.Controller(\n",
    "    index=0,\n",
    ")"
   ]
  },
  {
   "cell_type": "markdown",
   "metadata": {},
   "source": [
    "## Layout widgets"
   ]
  },
  {
   "cell_type": "markdown",
   "metadata": {},
   "source": [
    "### Box"
   ]
  },
  {
   "cell_type": "markdown",
   "metadata": {},
   "source": [
    "### HBox"
   ]
  },
  {
   "cell_type": "code",
   "execution_count": 34,
   "metadata": {
    "collapsed": false
   },
   "outputs": [
    {
     "data": {
      "application/vnd.jupyter.widget-view+json": {
       "model_id": "5c9a909d25744be5a564a3a4811a8a5e"
      }
     },
     "metadata": {},
     "output_type": "display_data"
    }
   ],
   "source": [
    "items = [widgets.Label(str(i)) for i in range(4)]\n",
    "widgets.HBox(items)"
   ]
  },
  {
   "cell_type": "markdown",
   "metadata": {},
   "source": [
    "### VBox"
   ]
  },
  {
   "cell_type": "code",
   "execution_count": 35,
   "metadata": {
    "collapsed": false
   },
   "outputs": [
    {
     "data": {
      "application/vnd.jupyter.widget-view+json": {
       "model_id": "5b470f5036fc48eead8dbb962585ec05"
      }
     },
     "metadata": {},
     "output_type": "display_data"
    }
   ],
   "source": [
    "items = [widgets.Label(str(i)) for i in range(4)]\n",
    "widgets.HBox([widgets.VBox([items[0], items[1]]), widgets.VBox([items[2], items[3]])])"
   ]
  },
  {
   "cell_type": "markdown",
   "metadata": {},
   "source": [
    "### Accordion"
   ]
  },
  {
   "cell_type": "code",
   "execution_count": 36,
   "metadata": {
    "collapsed": false
   },
   "outputs": [
    {
     "data": {
      "application/vnd.jupyter.widget-view+json": {
       "model_id": "8ebb8a03f4a94715ab9a6e3bb6080542"
      }
     },
     "metadata": {},
     "output_type": "display_data"
    }
   ],
   "source": [
    "accordion = widgets.Accordion(children=[widgets.IntSlider(), widgets.Text()])\n",
    "accordion.set_title(0, 'Slider')\n",
    "accordion.set_title(1, 'Text')\n",
    "accordion"
   ]
  },
  {
   "cell_type": "markdown",
   "metadata": {},
   "source": [
    "### Tabs"
   ]
  },
  {
   "cell_type": "code",
   "execution_count": 37,
   "metadata": {
    "collapsed": false
   },
   "outputs": [
    {
     "data": {
      "application/vnd.jupyter.widget-view+json": {
       "model_id": "6263fc4220eb41cb85c05f17d305a683"
      }
     },
     "metadata": {},
     "output_type": "display_data"
    }
   ],
   "source": [
    "list = ['P0', 'P1', 'P2', 'P3', 'P4']\n",
    "children = [widgets.Text(description=name) for name in list]\n",
    "tab = widgets.Tab(children=children)\n",
    "tab"
   ]
  },
  {
   "cell_type": "markdown",
   "metadata": {
    "nbsphinx": "hidden"
   },
   "source": [
    "[Index](Index.ipynb) - [Back](Widget Basics.ipynb) - [Next](Widget Events.ipynb)"
   ]
  }
 ],
 "metadata": {
  "kernelspec": {
   "display_name": "Python 3",
   "language": "python",
   "name": "python3"
  },
  "language_info": {
   "codemirror_mode": {
    "name": "ipython",
    "version": 3
   },
   "file_extension": ".py",
   "mimetype": "text/x-python",
   "name": "python",
   "nbconvert_exporter": "python",
   "pygments_lexer": "ipython3",
   "version": "3.5.2"
  },
  "widgets": {
   "application/vnd.jupyter.widget-state+json": {
    "state": {
     "00fecd11d91b4ab8827aec87b2165b1c": {
      "model_module": "jupyter-js-widgets",
      "model_module_version": "^2.0.20",
      "model_name": "LayoutModel",
      "state": {
       "_model_module_version": "^2.0.20",
       "_view_module_version": "^2.0.20"
      }
     },
     "012de90b45c248dab84689547dbb53e3": {
      "model_module": "jupyter-js-widgets",
      "model_module_version": "^2.0.20",
      "model_name": "ControllerModel",
      "state": {
       "_model_module_version": "^2.0.20",
       "_view_module_version": "^2.0.20",
       "layout": "IPY_MODEL_a7f427251149466aa527091b9586f634"
      }
     },
     "01a91f2862d349d989d3892fbc5292b2": {
      "model_module": "jupyter-js-widgets",
      "model_module_version": "^2.0.20",
      "model_name": "TextModel",
      "state": {
       "_model_module_version": "^2.0.20",
       "_view_module_version": "^2.0.20",
       "description": "P1",
       "layout": "IPY_MODEL_7681433436784ced8eede2c99eae861e"
      }
     },
     "0466a3cf5d5544f686369dcc315c5f60": {
      "model_module": "jupyter-js-widgets",
      "model_module_version": "^2.0.20",
      "model_name": "HBoxModel",
      "state": {
       "_model_module_version": "^2.0.20",
       "_view_module_version": "^2.0.20",
       "children": [
        "IPY_MODEL_e5d5f7b3c95646ddb55d3afa896ded79",
        "IPY_MODEL_fbdf9f1b88be43a18e2bff1d6e08fd26"
       ],
       "layout": "IPY_MODEL_8e8d9fce68ed44c587245a0d19255606"
      }
     },
     "050723cb16734c558fc6c3bba49bbfd2": {
      "model_module": "jupyter-js-widgets",
      "model_module_version": "^2.0.20",
      "model_name": "HTMLMathModel",
      "state": {
       "_model_module_version": "^2.0.20",
       "_view_module_version": "^2.0.20",
       "description": "Some HTML",
       "layout": "IPY_MODEL_87708acd7a2c46b9b142c8e80d3f0dad",
       "placeholder": "Some HTML",
       "value": "Some math and <i>HTML</i>: $x^2$ and $$\\frac{x+1}{x-1}$$"
      }
     },
     "0723968e2fa044d598b9f218288c8063": {
      "model_module": "jupyter-js-widgets",
      "model_module_version": "^2.0.20",
      "model_name": "LabelModel",
      "state": {
       "_model_module_version": "^2.0.20",
       "_view_module_version": "^2.0.20",
       "layout": "IPY_MODEL_dd89541b1d7546e08b724dbf2a467f06",
       "value": "2"
      }
     },
     "073738175c2b4df183c862182cd997e4": {
      "model_module": "jupyter-js-widgets",
      "model_module_version": "^2.0.20",
      "model_name": "LayoutModel",
      "state": {
       "_model_module_version": "^2.0.20",
       "_view_module_version": "^2.0.20"
      }
     },
     "083a4b0bea7d4112bd01866e9d542226": {
      "model_module": "jupyter-js-widgets",
      "model_module_version": "^2.0.20",
      "model_name": "TextModel",
      "state": {
       "_model_module_version": "^2.0.20",
       "_view_module_version": "^2.0.20",
       "description": "P3",
       "layout": "IPY_MODEL_913908f5ec05495d94c5fa14af455c51"
      }
     },
     "0884b05c4ca64a1795dbbef9a0599bff": {
      "model_module": "jupyter-js-widgets",
      "model_module_version": "^2.0.20",
      "model_name": "LabelModel",
      "state": {
       "_model_module_version": "^2.0.20",
       "_view_module_version": "^2.0.20",
       "layout": "IPY_MODEL_2d4b43468b134f3fbe4d4a3a9b5f74ba",
       "value": "0"
      }
     },
     "08948410d66743aaa46902fb2c6b4541": {
      "model_module": "jupyter-js-widgets",
      "model_module_version": "^2.0.20",
      "model_name": "LayoutModel",
      "state": {
       "_model_module_version": "^2.0.20",
       "_view_module_version": "^2.0.20"
      }
     },
     "0951e943dc02478fbd1c451a33572b3c": {
      "model_module": "jupyter-js-widgets",
      "model_module_version": "^2.0.20",
      "model_name": "LayoutModel",
      "state": {
       "_model_module_version": "^2.0.20",
       "_view_module_version": "^2.0.20"
      }
     },
     "09589534361a40038903d93d1d961e5e": {
      "model_module": "jupyter-js-widgets",
      "model_module_version": "^2.0.20",
      "model_name": "LayoutModel",
      "state": {
       "_model_module_version": "^2.0.20",
       "_view_module_version": "^2.0.20"
      }
     },
     "09a6c583edd04e1c93d63634a5373846": {
      "model_module": "jupyter-js-widgets",
      "model_module_version": "^2.0.20",
      "model_name": "LayoutModel",
      "state": {
       "_model_module_version": "^2.0.20",
       "_view_module_version": "^2.0.20"
      }
     },
     "0c958c4192074a7eba3c9e56a472438d": {
      "model_module": "jupyter-js-widgets",
      "model_module_version": "^2.0.20",
      "model_name": "LayoutModel",
      "state": {
       "_model_module_version": "^2.0.20",
       "_view_module_version": "^2.0.20"
      }
     },
     "0cd5e998de4e4ebdb416114da67c861a": {
      "model_module": "jupyter-js-widgets",
      "model_module_version": "^2.0.20",
      "model_name": "FloatSliderModel",
      "state": {
       "_model_module_version": "^2.0.20",
       "_range": true,
       "_view_module_version": "^2.0.20",
       "continuous_update": false,
       "description": "Test:",
       "layout": "IPY_MODEL_698363832b1145718ef296b6183c9d87",
       "max": 10,
       "slider_color": "white",
       "step": 0.1,
       "value": [
        5,
        7.5
       ]
      }
     },
     "0d30e1d5f1af46d8b908eb6efe166993": {
      "model_module": "jupyter-js-widgets",
      "model_module_version": "^2.0.20",
      "model_name": "LayoutModel",
      "state": {
       "_model_module_version": "^2.0.20",
       "_view_module_version": "^2.0.20"
      }
     },
     "0dd055dd9ed14b979448bd4ac0b7c260": {
      "model_module": "jupyter-js-widgets",
      "model_module_version": "^2.0.20",
      "model_name": "TextModel",
      "state": {
       "_model_module_version": "^2.0.20",
       "_view_module_version": "^2.0.20",
       "description": "P4",
       "layout": "IPY_MODEL_ff50587c31994ea3b91365d3617940d3"
      }
     },
     "0e1da1aa122b4adca779288301b39db5": {
      "model_module": "jupyter-js-widgets",
      "model_module_version": "^2.0.20",
      "model_name": "LayoutModel",
      "state": {
       "_model_module_version": "^2.0.20",
       "_view_module_version": "^2.0.20"
      }
     },
     "10c748f811d640188fe1c2ec60a8cf8b": {
      "model_module": "jupyter-js-widgets",
      "model_module_version": "^2.0.20",
      "model_name": "FloatSliderModel",
      "state": {
       "_model_module_version": "^2.0.20",
       "_view_module_version": "^2.0.20",
       "continuous_update": false,
       "description": "Test:",
       "layout": "IPY_MODEL_782fa3d190d640e4bb590b12dec3941e",
       "max": 10,
       "readout_format": ".1f",
       "slider_color": "white",
       "step": 0.1,
       "value": 7.5
      }
     },
     "12ce9f4b6c9b4f2c82e62bdd1bb5f10c": {
      "model_module": "jupyter-js-widgets",
      "model_module_version": "^2.0.20",
      "model_name": "LabelModel",
      "state": {
       "_model_module_version": "^2.0.20",
       "_view_module_version": "^2.0.20",
       "description": "Some LaTeX",
       "layout": "IPY_MODEL_397730b2492f4f959b431942eaed39ea",
       "placeholder": "Some LaTeX",
       "value": "$$\\frac{n!}{k!(n-k)!} = \\binom{n}{k}$$"
      }
     },
     "13d60c7088984b06b731af323a6f7360": {
      "model_module": "jupyter-js-widgets",
      "model_module_version": "^2.0.20",
      "model_name": "LayoutModel",
      "state": {
       "_model_module_version": "^2.0.20",
       "_view_module_version": "^2.0.20"
      }
     },
     "14578f0763524b9ba3147150b4cb4e2d": {
      "model_module": "jupyter-js-widgets",
      "model_module_version": "^2.0.20",
      "model_name": "LinkModel",
      "state": {
       "_model_module_version": "^2.0.20",
       "_view_module_version": "^2.0.20",
       "source": [
        "IPY_MODEL_3e9460abdc9546d9bf8af8bb66a89faa",
        "value"
       ],
       "target": [
        "IPY_MODEL_2274eb3d8f0d49368392d033f0386338",
        "value"
       ]
      }
     },
     "16a92aa55336446da86c68b5bd50070f": {
      "model_module": "jupyter-js-widgets",
      "model_module_version": "^2.0.20",
      "model_name": "DatePickerModel",
      "state": {
       "_model_module_version": "^2.0.20",
       "_view_module_version": "^2.0.20",
       "description": "Pick a Date",
       "layout": "IPY_MODEL_548b362636be40c28f50f51aa1adbaa9"
      }
     },
     "16b4f0793106411da765ee54d3574f50": {
      "model_module": "jupyter-js-widgets",
      "model_module_version": "^2.0.20",
      "model_name": "TextModel",
      "state": {
       "_model_module_version": "^2.0.20",
       "_view_module_version": "^2.0.20",
       "description": "P2",
       "layout": "IPY_MODEL_34a9bac765914a6e85f8531876dbca6f"
      }
     },
     "16b95ed4dfd3490ca6a4e1a461f74b90": {
      "model_module": "jupyter-js-widgets",
      "model_module_version": "^2.0.20",
      "model_name": "LayoutModel",
      "state": {
       "_model_module_version": "^2.0.20",
       "_view_module_version": "^2.0.20"
      }
     },
     "16c5ff0af07e40b49ce8f6521df76a52": {
      "model_module": "jupyter-js-widgets",
      "model_module_version": "^2.0.20",
      "model_name": "FloatTextModel",
      "state": {
       "_model_module_version": "^2.0.20",
       "_view_module_version": "^2.0.20",
       "description": "Any:",
       "layout": "IPY_MODEL_5d22d48f3bdd4238a6910f13241664aa",
       "value": 7.5
      }
     },
     "174905b5b46b404a80468dfec9cc30b9": {
      "model_module": "jupyter-js-widgets",
      "model_module_version": "^2.0.20",
      "model_name": "TextModel",
      "state": {
       "_model_module_version": "^2.0.20",
       "_view_module_version": "^2.0.20",
       "layout": "IPY_MODEL_1d58f32005d24872b4bf4df5c12da18e"
      }
     },
     "18ee7e65a81649eea104a7fe39795d30": {
      "model_module": "jupyter-js-widgets",
      "model_module_version": "^2.0.20",
      "model_name": "SelectMultipleModel",
      "state": {
       "_model_module_version": "^2.0.20",
       "_options_labels": [
        "Apples",
        "Oranges",
        "Pears"
       ],
       "_view_module_version": "^2.0.20",
       "description": "Fruits",
       "layout": "IPY_MODEL_e5e015c4d7b646179a66f4e3bc4b7e14",
       "value": [
        "Oranges"
       ]
      }
     },
     "193f9914913c457abdd424ad1582e1df": {
      "model_module": "jupyter-js-widgets",
      "model_module_version": "^2.0.20",
      "model_name": "TextModel",
      "state": {
       "_model_module_version": "^2.0.20",
       "_view_module_version": "^2.0.20",
       "description": "String:",
       "layout": "IPY_MODEL_89e40681e28043db92c824b205d7a719",
       "placeholder": "Type something",
       "value": "Hello World"
      }
     },
     "1d224b16f5b541daa96b31e7f964869d": {
      "model_module": "jupyter-js-widgets",
      "model_module_version": "^2.0.20",
      "model_name": "LayoutModel",
      "state": {
       "_model_module_version": "^2.0.20",
       "_view_module_version": "^2.0.20"
      }
     },
     "1d58f32005d24872b4bf4df5c12da18e": {
      "model_module": "jupyter-js-widgets",
      "model_module_version": "^2.0.20",
      "model_name": "LayoutModel",
      "state": {
       "_model_module_version": "^2.0.20",
       "_view_module_version": "^2.0.20"
      }
     },
     "1e68fb73fa1b462d9f0fbf472ca0a60e": {
      "model_module": "jupyter-js-widgets",
      "model_module_version": "^2.0.20",
      "model_name": "LabelModel",
      "state": {
       "_model_module_version": "^2.0.20",
       "_view_module_version": "^2.0.20",
       "layout": "IPY_MODEL_793390e7e84d4361a188997e9479f066",
       "value": "1"
      }
     },
     "1ee42cf7dc8a4241a22a099fa9106a69": {
      "model_module": "jupyter-js-widgets",
      "model_module_version": "^2.0.20",
      "model_name": "IntTextModel",
      "state": {
       "_model_module_version": "^2.0.20",
       "_view_module_version": "^2.0.20",
       "description": "Any:",
       "layout": "IPY_MODEL_9487a5e1c11a4e68bb552b581e20ba91",
       "value": 7
      }
     },
     "1f4c7b3f93cf4c6487d44a022b4cc95a": {
      "model_module": "jupyter-js-widgets",
      "model_module_version": "^2.0.20",
      "model_name": "LayoutModel",
      "state": {
       "_model_module_version": "^2.0.20",
       "_view_module_version": "^2.0.20"
      }
     },
     "2274eb3d8f0d49368392d033f0386338": {
      "model_module": "jupyter-js-widgets",
      "model_module_version": "^2.0.20",
      "model_name": "IntSliderModel",
      "state": {
       "_model_module_version": "^2.0.20",
       "_view_module_version": "^2.0.20",
       "layout": "IPY_MODEL_09589534361a40038903d93d1d961e5e",
       "value": 50
      }
     },
     "22c06fed760b43d5adb71a5dc1633fc5": {
      "model_module": "jupyter-js-widgets",
      "model_module_version": "^2.0.20",
      "model_name": "LayoutModel",
      "state": {
       "_model_module_version": "^2.0.20",
       "_view_module_version": "^2.0.20"
      }
     },
     "233d33076d1e442c94db5a9a35651ba6": {
      "model_module": "jupyter-js-widgets",
      "model_module_version": "^2.0.20",
      "model_name": "LayoutModel",
      "state": {
       "_model_module_version": "^2.0.20",
       "_view_module_version": "^2.0.20"
      }
     },
     "2530ee0ec5014ff99fd736ce95cc5d29": {
      "model_module": "jupyter-js-widgets",
      "model_module_version": "^2.0.20",
      "model_name": "SelectionSliderModel",
      "state": {
       "_model_module_version": "^2.0.20",
       "_options_labels": [
        "scrambled",
        "sunny side up",
        "poached",
        "over easy"
       ],
       "_view_module_version": "^2.0.20",
       "continuous_update": false,
       "description": "I like my eggs ...",
       "layout": "IPY_MODEL_676894246d274ffca422e527922b7beb",
       "value": "sunny side up"
      }
     },
     "2608bb5a88044f8bb690122ed45c5333": {
      "model_module": "jupyter-js-widgets",
      "model_module_version": "^2.0.20",
      "model_name": "ControllerModel",
      "state": {
       "_model_module_version": "^2.0.20",
       "_view_module_version": "^2.0.20",
       "layout": "IPY_MODEL_a0c11c8cbc1340b998d556cb566cabc8"
      }
     },
     "2629a8170bfc4fa9a0558c0c4b66482b": {
      "model_module": "jupyter-js-widgets",
      "model_module_version": "^2.0.20",
      "model_name": "LabelModel",
      "state": {
       "_model_module_version": "^2.0.20",
       "_view_module_version": "^2.0.20",
       "layout": "IPY_MODEL_6a3924a33091447eadc24adea9978f98",
       "value": "3"
      }
     },
     "262a4d26513846dd91e41ddbd354cf41": {
      "model_module": "jupyter-js-widgets",
      "model_module_version": "^2.0.20",
      "model_name": "LabelModel",
      "state": {
       "_model_module_version": "^2.0.20",
       "_view_module_version": "^2.0.20",
       "layout": "IPY_MODEL_cf1649f877974b7aa5a570eb17a1cc3c",
       "value": "2"
      }
     },
     "2662a7c18e06499583c9462f110ec794": {
      "model_module": "jupyter-js-widgets",
      "model_module_version": "^2.0.20",
      "model_name": "LayoutModel",
      "state": {
       "_model_module_version": "^2.0.20",
       "_view_module_version": "^2.0.20"
      }
     },
     "272f40e9ebec4297a5438969665c8e4c": {
      "model_module": "jupyter-js-widgets",
      "model_module_version": "^2.0.20",
      "model_name": "LayoutModel",
      "state": {
       "_model_module_version": "^2.0.20",
       "_view_module_version": "^2.0.20"
      }
     },
     "27793c32b8f94e3db2ff078cdda88eab": {
      "model_module": "jupyter-js-widgets",
      "model_module_version": "^2.0.20",
      "model_name": "LayoutModel",
      "state": {
       "_model_module_version": "^2.0.20",
       "_view_module_version": "^2.0.20"
      }
     },
     "29ccef2a00044b649c022c250ae3f531": {
      "model_module": "jupyter-js-widgets",
      "model_module_version": "^2.0.20",
      "model_name": "VBoxModel",
      "state": {
       "_model_module_version": "^2.0.20",
       "_view_module_version": "^2.0.20",
       "children": [
        "IPY_MODEL_aea2c62cb83746c58a133ea1de794885",
        "IPY_MODEL_40dfff78db2b4f0a9851146144a42c23"
       ],
       "layout": "IPY_MODEL_2d1f70e4520a4c0789f5d51b17cf529a"
      }
     },
     "2b2b3d2dcd9f404d84957cfb1dd400db": {
      "model_module": "jupyter-js-widgets",
      "model_module_version": "^2.0.20",
      "model_name": "LayoutModel",
      "state": {
       "_model_module_version": "^2.0.20",
       "_view_module_version": "^2.0.20"
      }
     },
     "2b645767f43d4d77b6ffd7a5978899fa": {
      "model_module": "jupyter-js-widgets",
      "model_module_version": "^2.0.20",
      "model_name": "FloatSliderModel",
      "state": {
       "_model_module_version": "^2.0.20",
       "_view_module_version": "^2.0.20",
       "continuous_update": false,
       "description": "Test:",
       "layout": "IPY_MODEL_27793c32b8f94e3db2ff078cdda88eab",
       "max": 10,
       "readout_format": ".1f",
       "slider_color": "white",
       "step": 0.1,
       "value": 7.5
      }
     },
     "2d1f70e4520a4c0789f5d51b17cf529a": {
      "model_module": "jupyter-js-widgets",
      "model_module_version": "^2.0.20",
      "model_name": "LayoutModel",
      "state": {
       "_model_module_version": "^2.0.20",
       "_view_module_version": "^2.0.20"
      }
     },
     "2d4b43468b134f3fbe4d4a3a9b5f74ba": {
      "model_module": "jupyter-js-widgets",
      "model_module_version": "^2.0.20",
      "model_name": "LayoutModel",
      "state": {
       "_model_module_version": "^2.0.20",
       "_view_module_version": "^2.0.20"
      }
     },
     "2e3f50ddadea4331b59d1272ceb5e868": {
      "model_module": "jupyter-js-widgets",
      "model_module_version": "^2.0.20",
      "model_name": "LayoutModel",
      "state": {
       "_model_module_version": "^2.0.20",
       "_view_module_version": "^2.0.20"
      }
     },
     "2f8b3fd55c12417bb0b2d34d487ad6e7": {
      "model_module": "jupyter-js-widgets",
      "model_module_version": "^2.0.20",
      "model_name": "LabelModel",
      "state": {
       "_model_module_version": "^2.0.20",
       "_view_module_version": "^2.0.20",
       "layout": "IPY_MODEL_d4141cfbb262476f87e816343d727a18",
       "value": "0"
      }
     },
     "311456fc92fd4036be8f9dea592f514f": {
      "model_module": "jupyter-js-widgets",
      "model_module_version": "^2.0.20",
      "model_name": "HTMLMathModel",
      "state": {
       "_model_module_version": "^2.0.20",
       "_view_module_version": "^2.0.20",
       "description": "Some HTML",
       "layout": "IPY_MODEL_36abc8feb8a64334a8f1f1311da7ed06",
       "placeholder": "Some HTML",
       "value": "Some math and <i>HTML</i>: $x^2$ and $$\\frac{x+1}{x-1}$$"
      }
     },
     "342c1d38ab584b32bd818b4af8b8668e": {
      "model_module": "jupyter-js-widgets",
      "model_module_version": "^2.0.20",
      "model_name": "DropdownModel",
      "state": {
       "_model_module_version": "^2.0.20",
       "_options_labels": [
        "One",
        "Three",
        "Two"
       ],
       "_view_module_version": "^2.0.20",
       "description": "Number:",
       "layout": "IPY_MODEL_a42250ff8e214b949e8c008b8d1e3614",
       "value": "Two"
      }
     },
     "344407e420de4b43a652bd82365e3088": {
      "model_module": "jupyter-js-widgets",
      "model_module_version": "^2.0.20",
      "model_name": "HTMLMathModel",
      "state": {
       "_model_module_version": "^2.0.20",
       "_view_module_version": "^2.0.20",
       "description": "Some HTML",
       "layout": "IPY_MODEL_48faa38778ba4d6dba298e1533c49e7b",
       "placeholder": "Some HTML",
       "value": "Some math and <i>HTML</i>: $x^2$ and $$\\frac{x+1}{x-1}$$"
      }
     },
     "34a9bac765914a6e85f8531876dbca6f": {
      "model_module": "jupyter-js-widgets",
      "model_module_version": "^2.0.20",
      "model_name": "LayoutModel",
      "state": {
       "_model_module_version": "^2.0.20",
       "_view_module_version": "^2.0.20"
      }
     },
     "3595676886b740aba20d9435f82e0b7d": {
      "model_module": "jupyter-js-widgets",
      "model_module_version": "^2.0.20",
      "model_name": "CheckboxModel",
      "state": {
       "_model_module_version": "^2.0.20",
       "_view_module_version": "^2.0.20",
       "description": "Check me",
       "disabled": false,
       "layout": "IPY_MODEL_c829602cd695480fbfd82c476e42d1aa",
       "value": false
      }
     },
     "36abc8feb8a64334a8f1f1311da7ed06": {
      "model_module": "jupyter-js-widgets",
      "model_module_version": "^2.0.20",
      "model_name": "LayoutModel",
      "state": {
       "_model_module_version": "^2.0.20",
       "_view_module_version": "^2.0.20"
      }
     },
     "3756dd311b634e46b6bcf7e51199278e": {
      "model_module": "jupyter-js-widgets",
      "model_module_version": "^2.0.20",
      "model_name": "LayoutModel",
      "state": {
       "_model_module_version": "^2.0.20",
       "_view_module_version": "^2.0.20"
      }
     },
     "3796fe9e75f7404588239c7b1e8ff95f": {
      "model_module": "jupyter-js-widgets",
      "model_module_version": "^2.0.20",
      "model_name": "FloatTextModel",
      "state": {
       "_model_module_version": "^2.0.20",
       "_view_module_version": "^2.0.20",
       "description": "Text:",
       "layout": "IPY_MODEL_f4c5d0788f6b4fb7a62da19f55b4727e",
       "max": 10,
       "min": 0,
       "step": 0.1,
       "value": 7.5
      }
     },
     "3885e22a62404f7a9024428a26965053": {
      "model_module": "jupyter-js-widgets",
      "model_module_version": "^2.0.20",
      "model_name": "HTMLModel",
      "state": {
       "_model_module_version": "^2.0.20",
       "_view_module_version": "^2.0.20",
       "description": "Some HTML",
       "layout": "IPY_MODEL_787ba05c3e5f4718b3b50c991edeb501",
       "placeholder": "Some HTML",
       "value": "Hello <b>World</b>"
      }
     },
     "397730b2492f4f959b431942eaed39ea": {
      "model_module": "jupyter-js-widgets",
      "model_module_version": "^2.0.20",
      "model_name": "LayoutModel",
      "state": {
       "_model_module_version": "^2.0.20",
       "_view_module_version": "^2.0.20"
      }
     },
     "3998053ea75542a69460083302ae54b4": {
      "model_module": "jupyter-js-widgets",
      "model_module_version": "^2.0.20",
      "model_name": "LayoutModel",
      "state": {
       "_model_module_version": "^2.0.20",
       "_view_module_version": "^2.0.20"
      }
     },
     "39d3304691b74661b708c8af248adeb8": {
      "model_module": "jupyter-js-widgets",
      "model_module_version": "^2.0.20",
      "model_name": "LayoutModel",
      "state": {
       "_model_module_version": "^2.0.20",
       "_view_module_version": "^2.0.20"
      }
     },
     "3b034ee49f8644548c5257ad4fbe0897": {
      "model_module": "jupyter-js-widgets",
      "model_module_version": "^2.0.20",
      "model_name": "LayoutModel",
      "state": {
       "_model_module_version": "^2.0.20",
       "_view_module_version": "^2.0.20"
      }
     },
     "3b3b19afe7c14fb4a286da79772e7663": {
      "model_module": "jupyter-js-widgets",
      "model_module_version": "^2.0.20",
      "model_name": "IntTextModel",
      "state": {
       "_model_module_version": "^2.0.20",
       "_view_module_version": "^2.0.20",
       "description": "Text:",
       "layout": "IPY_MODEL_2e3f50ddadea4331b59d1272ceb5e868",
       "max": 10,
       "min": 0,
       "step": 1,
       "value": 7
      }
     },
     "3c18905f7b9045c49e9b16a661d5d05f": {
      "model_module": "jupyter-js-widgets",
      "model_module_version": "^2.0.20",
      "model_name": "LayoutModel",
      "state": {
       "_model_module_version": "^2.0.20",
       "_view_module_version": "^2.0.20"
      }
     },
     "3e9460abdc9546d9bf8af8bb66a89faa": {
      "model_module": "jupyter-js-widgets",
      "model_module_version": "^2.0.20",
      "model_name": "PlayModel",
      "state": {
       "_model_module_version": "^2.0.20",
       "_view_module_version": "^2.0.20",
       "description": "Press play",
       "layout": "IPY_MODEL_9006f2e46b104afab33455210c4b0530",
       "value": 50
      }
     },
     "3e9e09d280d8427999306e6feee40a10": {
      "model_module": "jupyter-js-widgets",
      "model_module_version": "^2.0.20",
      "model_name": "LayoutModel",
      "state": {
       "_model_module_version": "^2.0.20",
       "_view_module_version": "^2.0.20"
      }
     },
     "405899e547454ec0aca67c96b15fee2c": {
      "model_module": "jupyter-js-widgets",
      "model_module_version": "^2.0.20",
      "model_name": "HTMLMathModel",
      "state": {
       "_model_module_version": "^2.0.20",
       "_view_module_version": "^2.0.20",
       "description": "Some HTML",
       "layout": "IPY_MODEL_a1e8b39a71b546678f03b47b7674577a",
       "placeholder": "Some HTML",
       "value": "Some math and <i>HTML</i>: $x^2$ and $$\\frac{x+1}{x-1}$$"
      }
     },
     "40dfff78db2b4f0a9851146144a42c23": {
      "model_module": "jupyter-js-widgets",
      "model_module_version": "^2.0.20",
      "model_name": "LabelModel",
      "state": {
       "_model_module_version": "^2.0.20",
       "_view_module_version": "^2.0.20",
       "layout": "IPY_MODEL_3756dd311b634e46b6bcf7e51199278e",
       "value": "1"
      }
     },
     "416d9769f81d4616a94eb495cdbb81bc": {
      "model_module": "jupyter-js-widgets",
      "model_module_version": "^2.0.20",
      "model_name": "LayoutModel",
      "state": {
       "_model_module_version": "^2.0.20",
       "_view_module_version": "^2.0.20"
      }
     },
     "43874f60cc7543fdbef29c74f4c9375f": {
      "model_module": "jupyter-js-widgets",
      "model_module_version": "^2.0.20",
      "model_name": "HBoxModel",
      "state": {
       "_model_module_version": "^2.0.20",
       "_view_module_version": "^2.0.20",
       "children": [
        "IPY_MODEL_29ccef2a00044b649c022c250ae3f531",
        "IPY_MODEL_950fba4b33eb489d9162dc6523c80683"
       ],
       "layout": "IPY_MODEL_6308fe20e4ba4af297051c9b85f1fd0d"
      }
     },
     "472e74c746394f049b57b94b47ef113c": {
      "model_module": "jupyter-js-widgets",
      "model_module_version": "^2.0.20",
      "model_name": "ProgressModel",
      "state": {
       "_model_module_version": "^2.0.20",
       "_view_module_version": "^2.0.20",
       "bar_style": "info",
       "description": "Loading:",
       "layout": "IPY_MODEL_2662a7c18e06499583c9462f110ec794",
       "max": 10,
       "step": 0.1,
       "value": 7.5
      }
     },
     "4865d45cefff41eb90301a81470413b5": {
      "model_module": "jupyter-js-widgets",
      "model_module_version": "^2.0.20",
      "model_name": "HTMLModel",
      "state": {
       "_model_module_version": "^2.0.20",
       "_view_module_version": "^2.0.20",
       "description": "Some HTML",
       "layout": "IPY_MODEL_def2e05f9d554b9d8dc366c4920f4bca",
       "placeholder": "Some HTML",
       "value": "Hello <b>World</b>"
      }
     },
     "4872a64dee4242e29acad524209200f8": {
      "model_module": "jupyter-js-widgets",
      "model_module_version": "^2.0.20",
      "model_name": "LayoutModel",
      "state": {
       "_model_module_version": "^2.0.20",
       "_view_module_version": "^2.0.20"
      }
     },
     "48faa38778ba4d6dba298e1533c49e7b": {
      "model_module": "jupyter-js-widgets",
      "model_module_version": "^2.0.20",
      "model_name": "LayoutModel",
      "state": {
       "_model_module_version": "^2.0.20",
       "_view_module_version": "^2.0.20"
      }
     },
     "4a21959b74174d4885331f39258d4a46": {
      "model_module": "jupyter-js-widgets",
      "model_module_version": "^2.0.20",
      "model_name": "SelectionSliderModel",
      "state": {
       "_model_module_version": "^2.0.20",
       "_options_labels": [
        "scrambled",
        "sunny side up",
        "poached",
        "over easy"
       ],
       "_view_module_version": "^2.0.20",
       "continuous_update": false,
       "description": "I like my eggs ...",
       "layout": "IPY_MODEL_4abbb64026514661819fadb263506373",
       "value": "sunny side up"
      }
     },
     "4a52608b62ff4f988b930aedff5893c4": {
      "model_module": "jupyter-js-widgets",
      "model_module_version": "^2.0.20",
      "model_name": "ToggleButtonModel",
      "state": {
       "_model_module_version": "^2.0.20",
       "_view_module_version": "^2.0.20",
       "description": "Click me",
       "icon": "check",
       "layout": "IPY_MODEL_e4d70b63f5b2417991e19bc6f5d34ca7",
       "tooltip": "Description"
      }
     },
     "4a967564594a4285bc86451c44e4a787": {
      "model_module": "jupyter-js-widgets",
      "model_module_version": "^2.0.20",
      "model_name": "HTMLModel",
      "state": {
       "_model_module_version": "^2.0.20",
       "_view_module_version": "^2.0.20",
       "description": "Some HTML",
       "layout": "IPY_MODEL_5dfd0a59ef4a4cfaa24c810436de0974",
       "placeholder": "Some HTML",
       "value": "Hello <b>World</b>"
      }
     },
     "4abbb64026514661819fadb263506373": {
      "model_module": "jupyter-js-widgets",
      "model_module_version": "^2.0.20",
      "model_name": "LayoutModel",
      "state": {
       "_model_module_version": "^2.0.20",
       "_view_module_version": "^2.0.20"
      }
     },
     "4b0e8d0a322e43159105cb7a1d3cd12a": {
      "model_module": "jupyter-js-widgets",
      "model_module_version": "^2.0.20",
      "model_name": "LayoutModel",
      "state": {
       "_model_module_version": "^2.0.20",
       "_view_module_version": "^2.0.20"
      }
     },
     "4b75fc4bf5414cdb99cbbe7f2c4b2075": {
      "model_module": "jupyter-js-widgets",
      "model_module_version": "^2.0.20",
      "model_name": "ColorPickerModel",
      "state": {
       "_model_module_version": "^2.0.20",
       "_view_module_version": "^2.0.20",
       "description": "Pick a color",
       "layout": "IPY_MODEL_e600bc0174b94bb091fc12145e8773e3",
       "value": "blue"
      }
     },
     "4b7f92bd3ee94c38b78557f92dc02885": {
      "model_module": "jupyter-js-widgets",
      "model_module_version": "^2.0.20",
      "model_name": "LabelModel",
      "state": {
       "_model_module_version": "^2.0.20",
       "_view_module_version": "^2.0.20",
       "layout": "IPY_MODEL_7362457494c449a99fde25d5c59fc7d4",
       "value": "1"
      }
     },
     "4d4ae3ea40584932ad1c86018d1c379e": {
      "model_module": "jupyter-js-widgets",
      "model_module_version": "^2.0.20",
      "model_name": "LayoutModel",
      "state": {
       "_model_module_version": "^2.0.20",
       "_view_module_version": "^2.0.20"
      }
     },
     "4d92b1c24e8140c8968107c21e61fb21": {
      "model_module": "jupyter-js-widgets",
      "model_module_version": "^2.0.20",
      "model_name": "HTMLModel",
      "state": {
       "_model_module_version": "^2.0.20",
       "_view_module_version": "^2.0.20",
       "description": "Some HTML",
       "layout": "IPY_MODEL_f960eba596d7413a902d5c804303c8c5",
       "placeholder": "Some HTML",
       "value": "Hello <b>World</b>"
      }
     },
     "4daa77ce1ee94f30b3165bd8ca37b3cc": {
      "model_module": "jupyter-js-widgets",
      "model_module_version": "^2.0.20",
      "model_name": "LayoutModel",
      "state": {
       "_model_module_version": "^2.0.20",
       "_view_module_version": "^2.0.20"
      }
     },
     "5178c698ef684ca68da3d7fc2a9693ad": {
      "model_module": "jupyter-js-widgets",
      "model_module_version": "^2.0.20",
      "model_name": "TextModel",
      "state": {
       "_model_module_version": "^2.0.20",
       "_view_module_version": "^2.0.20",
       "description": "P4",
       "layout": "IPY_MODEL_f4509ac52d9d4580827c0d922460d053"
      }
     },
     "5274d4cae1984ebb87ef382485b3510d": {
      "model_module": "jupyter-js-widgets",
      "model_module_version": "^2.0.20",
      "model_name": "HTMLMathModel",
      "state": {
       "_model_module_version": "^2.0.20",
       "_view_module_version": "^2.0.20",
       "description": "Some HTML",
       "layout": "IPY_MODEL_563808e45dbc433281bcf1d7ada5fdbf",
       "placeholder": "Some HTML",
       "value": "Some math and <i>HTML</i>: $x^2$ and $$\\frac{x+1}{x-1}$$"
      }
     },
     "53b5465525bb4dacad1b63785b989b4c": {
      "model_module": "jupyter-js-widgets",
      "model_module_version": "^2.0.20",
      "model_name": "LayoutModel",
      "state": {
       "_model_module_version": "^2.0.20",
       "_view_module_version": "^2.0.20"
      }
     },
     "548b362636be40c28f50f51aa1adbaa9": {
      "model_module": "jupyter-js-widgets",
      "model_module_version": "^2.0.20",
      "model_name": "LayoutModel",
      "state": {
       "_model_module_version": "^2.0.20",
       "_view_module_version": "^2.0.20"
      }
     },
     "54a98d0af7b74e9ab642bfc3931f47fe": {
      "model_module": "jupyter-js-widgets",
      "model_module_version": "^2.0.20",
      "model_name": "FloatSliderModel",
      "state": {
       "_model_module_version": "^2.0.20",
       "_range": true,
       "_view_module_version": "^2.0.20",
       "continuous_update": false,
       "description": "Test:",
       "layout": "IPY_MODEL_eb97c8ba6d614cb4a3997a36743b7d6b",
       "max": 10,
       "slider_color": "white",
       "step": 0.1,
       "value": [
        5,
        7.5
       ]
      }
     },
     "55fa438ec3264251bbc806b203207161": {
      "model_module": "jupyter-js-widgets",
      "model_module_version": "^2.0.20",
      "model_name": "ButtonModel",
      "state": {
       "_model_module_version": "^2.0.20",
       "_view_module_version": "^2.0.20",
       "description": "Click me",
       "icon": "check",
       "layout": "IPY_MODEL_9691ba7550084800a9d94df1e9301c7a",
       "tooltip": "Click me"
      }
     },
     "563808e45dbc433281bcf1d7ada5fdbf": {
      "model_module": "jupyter-js-widgets",
      "model_module_version": "^2.0.20",
      "model_name": "LayoutModel",
      "state": {
       "_model_module_version": "^2.0.20",
       "_view_module_version": "^2.0.20"
      }
     },
     "58ba2e6ddba54b22a1567dde8e214bb5": {
      "model_module": "jupyter-js-widgets",
      "model_module_version": "^2.0.20",
      "model_name": "ValidModel",
      "state": {
       "_model_module_version": "^2.0.20",
       "_view_module_version": "^2.0.20",
       "description": "Valid!",
       "layout": "IPY_MODEL_6b65a746b82c48f0853f6b846ee29b93"
      }
     },
     "59414576568e44b184abad1dac33d75a": {
      "model_module": "jupyter-js-widgets",
      "model_module_version": "^2.0.20",
      "model_name": "LayoutModel",
      "state": {
       "_model_module_version": "^2.0.20",
       "_view_module_version": "^2.0.20"
      }
     },
     "5b13a7124e944abfb0bcc30fcc00d055": {
      "model_module": "jupyter-js-widgets",
      "model_module_version": "^2.0.20",
      "model_name": "LayoutModel",
      "state": {
       "_model_module_version": "^2.0.20",
       "_view_module_version": "^2.0.20"
      }
     },
     "5b470f5036fc48eead8dbb962585ec05": {
      "model_module": "jupyter-js-widgets",
      "model_module_version": "^2.0.20",
      "model_name": "HBoxModel",
      "state": {
       "_model_module_version": "^2.0.20",
       "_view_module_version": "^2.0.20",
       "children": [
        "IPY_MODEL_7a262451f7bb475dabbcba3540d8fde1",
        "IPY_MODEL_63eec9bbdf86435a962c0a75145b61a3"
       ],
       "layout": "IPY_MODEL_6e3aec1010ec490a91c6f3264a2b7837"
      }
     },
     "5b90cafb25784c899333ec5849fe899c": {
      "model_module": "jupyter-js-widgets",
      "model_module_version": "^2.0.20",
      "model_name": "LayoutModel",
      "state": {
       "_model_module_version": "^2.0.20",
       "_view_module_version": "^2.0.20"
      }
     },
     "5c9a909d25744be5a564a3a4811a8a5e": {
      "model_module": "jupyter-js-widgets",
      "model_module_version": "^2.0.20",
      "model_name": "HBoxModel",
      "state": {
       "_model_module_version": "^2.0.20",
       "_view_module_version": "^2.0.20",
       "children": [
        "IPY_MODEL_2f8b3fd55c12417bb0b2d34d487ad6e7",
        "IPY_MODEL_4b7f92bd3ee94c38b78557f92dc02885",
        "IPY_MODEL_88dfc138495e4aeeaeeff99692e33687",
        "IPY_MODEL_cd277d7af8aa49af82cec4ec476949af"
       ],
       "layout": "IPY_MODEL_6ed30e80ac094fc7a2aa0d5b025d8a62"
      }
     },
     "5d22d48f3bdd4238a6910f13241664aa": {
      "model_module": "jupyter-js-widgets",
      "model_module_version": "^2.0.20",
      "model_name": "LayoutModel",
      "state": {
       "_model_module_version": "^2.0.20",
       "_view_module_version": "^2.0.20"
      }
     },
     "5dfd0a59ef4a4cfaa24c810436de0974": {
      "model_module": "jupyter-js-widgets",
      "model_module_version": "^2.0.20",
      "model_name": "LayoutModel",
      "state": {
       "_model_module_version": "^2.0.20",
       "_view_module_version": "^2.0.20"
      }
     },
     "5ebe44a3b49f4a52908c1fb3f61d4ea0": {
      "model_module": "jupyter-js-widgets",
      "model_module_version": "^2.0.20",
      "model_name": "LayoutModel",
      "state": {
       "_model_module_version": "^2.0.20",
       "_view_module_version": "^2.0.20"
      }
     },
     "62327d557ad04ba396934613150a106b": {
      "model_module": "jupyter-js-widgets",
      "model_module_version": "^2.0.20",
      "model_name": "ProgressModel",
      "state": {
       "_model_module_version": "^2.0.20",
       "_view_module_version": "^2.0.20",
       "description": "Loading:",
       "layout": "IPY_MODEL_ce7b44d6c1d941dba82ec3eda325710e",
       "max": 10,
       "value": 7
      }
     },
     "6263fc4220eb41cb85c05f17d305a683": {
      "model_module": "jupyter-js-widgets",
      "model_module_version": "^2.0.20",
      "model_name": "TabModel",
      "state": {
       "_model_module_version": "^2.0.20",
       "_view_module_version": "^2.0.20",
       "children": [
        "IPY_MODEL_9c74ff70a9cf402b86044fa8e9865a2f",
        "IPY_MODEL_01a91f2862d349d989d3892fbc5292b2",
        "IPY_MODEL_16b4f0793106411da765ee54d3574f50",
        "IPY_MODEL_b42c7d2f441c48309290e83740893145",
        "IPY_MODEL_5178c698ef684ca68da3d7fc2a9693ad"
       ],
       "layout": "IPY_MODEL_13d60c7088984b06b731af323a6f7360"
      }
     },
     "6308fe20e4ba4af297051c9b85f1fd0d": {
      "model_module": "jupyter-js-widgets",
      "model_module_version": "^2.0.20",
      "model_name": "LayoutModel",
      "state": {
       "_model_module_version": "^2.0.20",
       "_view_module_version": "^2.0.20"
      }
     },
     "6332e42c94d947b68b60a611d3f608c4": {
      "model_module": "jupyter-js-widgets",
      "model_module_version": "^2.0.20",
      "model_name": "LayoutModel",
      "state": {
       "_model_module_version": "^2.0.20",
       "_view_module_version": "^2.0.20"
      }
     },
     "639d4a270e60456791bd4cf8df66d608": {
      "model_module": "jupyter-js-widgets",
      "model_module_version": "^2.0.20",
      "model_name": "LayoutModel",
      "state": {
       "_model_module_version": "^2.0.20",
       "_view_module_version": "^2.0.20"
      }
     },
     "63eec9bbdf86435a962c0a75145b61a3": {
      "model_module": "jupyter-js-widgets",
      "model_module_version": "^2.0.20",
      "model_name": "VBoxModel",
      "state": {
       "_model_module_version": "^2.0.20",
       "_view_module_version": "^2.0.20",
       "children": [
        "IPY_MODEL_a42bc583469445ca8ecc11968d4f7357",
        "IPY_MODEL_2629a8170bfc4fa9a0558c0c4b66482b"
       ],
       "layout": "IPY_MODEL_6332e42c94d947b68b60a611d3f608c4"
      }
     },
     "63f70d4e57a445bd934d9f7b4ff88580": {
      "model_module": "jupyter-js-widgets",
      "model_module_version": "^2.0.20",
      "model_name": "ToggleButtonsModel",
      "state": {
       "_model_module_version": "^2.0.20",
       "_options_labels": [
        "Slow",
        "Regular",
        "Fast"
       ],
       "_view_module_version": "^2.0.20",
       "button_style": "",
       "description": "Speed:",
       "icons": [],
       "layout": "IPY_MODEL_22c06fed760b43d5adb71a5dc1633fc5",
       "tooltips": [],
       "value": "Slow"
      }
     },
     "63f79c5d69eb47f39ef4de652e93614a": {
      "model_module": "jupyter-js-widgets",
      "model_module_version": "^2.0.20",
      "model_name": "HTMLMathModel",
      "state": {
       "_model_module_version": "^2.0.20",
       "_view_module_version": "^2.0.20",
       "description": "Some HTML",
       "layout": "IPY_MODEL_95337cd1cde34701bd1b245ce7197765",
       "placeholder": "Some HTML",
       "value": "Some math and <i>HTML</i>: $x^2$ and $$\\frac{x+1}{x-1}$$"
      }
     },
     "676894246d274ffca422e527922b7beb": {
      "model_module": "jupyter-js-widgets",
      "model_module_version": "^2.0.20",
      "model_name": "LayoutModel",
      "state": {
       "_model_module_version": "^2.0.20",
       "_view_module_version": "^2.0.20"
      }
     },
     "67802facfcc4441988028055d74831fd": {
      "model_module": "jupyter-js-widgets",
      "model_module_version": "^2.0.20",
      "model_name": "TextareaModel",
      "state": {
       "_model_module_version": "^2.0.20",
       "_view_module_version": "^2.0.20",
       "description": "String:",
       "layout": "IPY_MODEL_9a83bb5f0c56427bba98b7597eef2524",
       "placeholder": "Type something",
       "value": "Hello World"
      }
     },
     "684c80c955aa4eed9c8795a363ebf896": {
      "model_module": "jupyter-js-widgets",
      "model_module_version": "^2.0.20",
      "model_name": "LabelModel",
      "state": {
       "_model_module_version": "^2.0.20",
       "_view_module_version": "^2.0.20",
       "layout": "IPY_MODEL_0951e943dc02478fbd1c451a33572b3c",
       "value": "1"
      }
     },
     "6888311584b74395b3ec14a9456f92e7": {
      "model_module": "jupyter-js-widgets",
      "model_module_version": "^2.0.20",
      "model_name": "HTMLMathModel",
      "state": {
       "_model_module_version": "^2.0.20",
       "_view_module_version": "^2.0.20",
       "description": "Some HTML",
       "layout": "IPY_MODEL_9de1416dc8364789806ec4311538097c",
       "placeholder": "Some HTML",
       "value": "Some math and <i>HTML</i>: $x^2$ and $$\\frac{x+1}{x-1}$$"
      }
     },
     "68ea297d506f466c994af51ab6a12201": {
      "model_module": "jupyter-js-widgets",
      "model_module_version": "^2.0.20",
      "model_name": "LayoutModel",
      "state": {
       "_model_module_version": "^2.0.20",
       "_view_module_version": "^2.0.20"
      }
     },
     "69742ae99cee4f43b781ae555e15a41f": {
      "model_module": "jupyter-js-widgets",
      "model_module_version": "^2.0.20",
      "model_name": "LayoutModel",
      "state": {
       "_model_module_version": "^2.0.20",
       "_view_module_version": "^2.0.20"
      }
     },
     "698363832b1145718ef296b6183c9d87": {
      "model_module": "jupyter-js-widgets",
      "model_module_version": "^2.0.20",
      "model_name": "LayoutModel",
      "state": {
       "_model_module_version": "^2.0.20",
       "_view_module_version": "^2.0.20"
      }
     },
     "6a3924a33091447eadc24adea9978f98": {
      "model_module": "jupyter-js-widgets",
      "model_module_version": "^2.0.20",
      "model_name": "LayoutModel",
      "state": {
       "_model_module_version": "^2.0.20",
       "_view_module_version": "^2.0.20"
      }
     },
     "6b65a746b82c48f0853f6b846ee29b93": {
      "model_module": "jupyter-js-widgets",
      "model_module_version": "^2.0.20",
      "model_name": "LayoutModel",
      "state": {
       "_model_module_version": "^2.0.20",
       "_view_module_version": "^2.0.20"
      }
     },
     "6e3aec1010ec490a91c6f3264a2b7837": {
      "model_module": "jupyter-js-widgets",
      "model_module_version": "^2.0.20",
      "model_name": "LayoutModel",
      "state": {
       "_model_module_version": "^2.0.20",
       "_view_module_version": "^2.0.20"
      }
     },
     "6ed30e80ac094fc7a2aa0d5b025d8a62": {
      "model_module": "jupyter-js-widgets",
      "model_module_version": "^2.0.20",
      "model_name": "LayoutModel",
      "state": {
       "_model_module_version": "^2.0.20",
       "_view_module_version": "^2.0.20"
      }
     },
     "6fb3d968f5d049ba81b75ba3966ece71": {
      "model_module": "jupyter-js-widgets",
      "model_module_version": "^2.0.20",
      "model_name": "HTMLMathModel",
      "state": {
       "_model_module_version": "^2.0.20",
       "_view_module_version": "^2.0.20",
       "description": "Some HTML",
       "layout": "IPY_MODEL_ac921e8e431641e483bd56850d38ef38",
       "placeholder": "Some HTML",
       "value": "Some math and <i>HTML</i>: $x^2$ and $$\\frac{x+1}{x-1}$$"
      }
     },
     "6ff8d26dbde842c2b5bb5d68d3f89fd9": {
      "model_module": "jupyter-js-widgets",
      "model_module_version": "^2.0.20",
      "model_name": "HTMLMathModel",
      "state": {
       "_model_module_version": "^2.0.20",
       "_view_module_version": "^2.0.20",
       "description": "Some HTML",
       "layout": "IPY_MODEL_3b034ee49f8644548c5257ad4fbe0897",
       "placeholder": "Some HTML",
       "value": "Some math and <i>HTML</i>: $x^2$ and $$\\frac{x+1}{x-1}$$"
      }
     },
     "705de0d2ca1847bba44c5b9c28d1f0ec": {
      "model_module": "jupyter-js-widgets",
      "model_module_version": "^2.0.20",
      "model_name": "IntSliderModel",
      "state": {
       "_model_module_version": "^2.0.20",
       "_view_module_version": "^2.0.20",
       "layout": "IPY_MODEL_c90971004efe462cad993d92a7bb48c1"
      }
     },
     "70f85ea577cb424299c5947f3c6cb158": {
      "model_module": "jupyter-js-widgets",
      "model_module_version": "^2.0.20",
      "model_name": "IntTextModel",
      "state": {
       "_model_module_version": "^2.0.20",
       "_view_module_version": "^2.0.20",
       "description": "Text:",
       "layout": "IPY_MODEL_c11faf671d1341828e43cc63843b4bd8",
       "max": 10,
       "min": 0,
       "step": 1,
       "value": 7
      }
     },
     "716af651a328436bafb4ef06b2e3d775": {
      "model_module": "jupyter-js-widgets",
      "model_module_version": "^2.0.20",
      "model_name": "HTMLMathModel",
      "state": {
       "_model_module_version": "^2.0.20",
       "_view_module_version": "^2.0.20",
       "description": "Some HTML",
       "layout": "IPY_MODEL_416d9769f81d4616a94eb495cdbb81bc",
       "placeholder": "Some HTML",
       "value": "Some math and <i>HTML</i>: $x^2$ and $$\\frac{x+1}{x-1}$$"
      }
     },
     "722c8418dc60460ea98b72d12fd17cb6": {
      "model_module": "jupyter-js-widgets",
      "model_module_version": "^2.0.20",
      "model_name": "FloatTextModel",
      "state": {
       "_model_module_version": "^2.0.20",
       "_view_module_version": "^2.0.20",
       "description": "Text:",
       "layout": "IPY_MODEL_a8b120b2e896415ba899fa5ed1140f5c",
       "max": 10,
       "min": 0,
       "step": 0.1,
       "value": 7.5
      }
     },
     "7362457494c449a99fde25d5c59fc7d4": {
      "model_module": "jupyter-js-widgets",
      "model_module_version": "^2.0.20",
      "model_name": "LayoutModel",
      "state": {
       "_model_module_version": "^2.0.20",
       "_view_module_version": "^2.0.20"
      }
     },
     "7681433436784ced8eede2c99eae861e": {
      "model_module": "jupyter-js-widgets",
      "model_module_version": "^2.0.20",
      "model_name": "LayoutModel",
      "state": {
       "_model_module_version": "^2.0.20",
       "_view_module_version": "^2.0.20"
      }
     },
     "76a6471f325b4b71a8dbf20eb5d63e18": {
      "model_module": "jupyter-js-widgets",
      "model_module_version": "^2.0.20",
      "model_name": "IntSliderModel",
      "state": {
       "_model_module_version": "^2.0.20",
       "_view_module_version": "^2.0.20",
       "continuous_update": false,
       "description": "Test:",
       "layout": "IPY_MODEL_993c7d3b76ba4c31ad5b62fe30058ab7",
       "max": 10,
       "readout_format": "i",
       "slider_color": "white",
       "value": 7
      }
     },
     "77a9359772b44451bcddc94beca329fe": {
      "model_module": "jupyter-js-widgets",
      "model_module_version": "^2.0.20",
      "model_name": "LayoutModel",
      "state": {
       "_model_module_version": "^2.0.20",
       "_view_module_version": "^2.0.20"
      }
     },
     "782fa3d190d640e4bb590b12dec3941e": {
      "model_module": "jupyter-js-widgets",
      "model_module_version": "^2.0.20",
      "model_name": "LayoutModel",
      "state": {
       "_model_module_version": "^2.0.20",
       "_view_module_version": "^2.0.20"
      }
     },
     "787ba05c3e5f4718b3b50c991edeb501": {
      "model_module": "jupyter-js-widgets",
      "model_module_version": "^2.0.20",
      "model_name": "LayoutModel",
      "state": {
       "_model_module_version": "^2.0.20",
       "_view_module_version": "^2.0.20"
      }
     },
     "78e1590caeab4a178f01e5965f24cf41": {
      "model_module": "jupyter-js-widgets",
      "model_module_version": "^2.0.20",
      "model_name": "LayoutModel",
      "state": {
       "_model_module_version": "^2.0.20",
       "_view_module_version": "^2.0.20"
      }
     },
     "793390e7e84d4361a188997e9479f066": {
      "model_module": "jupyter-js-widgets",
      "model_module_version": "^2.0.20",
      "model_name": "LayoutModel",
      "state": {
       "_model_module_version": "^2.0.20",
       "_view_module_version": "^2.0.20"
      }
     },
     "7a262451f7bb475dabbcba3540d8fde1": {
      "model_module": "jupyter-js-widgets",
      "model_module_version": "^2.0.20",
      "model_name": "VBoxModel",
      "state": {
       "_model_module_version": "^2.0.20",
       "_view_module_version": "^2.0.20",
       "children": [
        "IPY_MODEL_c429d8a78119464c8098c6723bab0fdf",
        "IPY_MODEL_1e68fb73fa1b462d9f0fbf472ca0a60e"
       ],
       "layout": "IPY_MODEL_9ca9a59f9c8046b49890adf6f0f0f71f"
      }
     },
     "7e3118ef7d084c8db91467a0af9575bb": {
      "model_module": "jupyter-js-widgets",
      "model_module_version": "^2.0.20",
      "model_name": "LayoutModel",
      "state": {
       "_model_module_version": "^2.0.20",
       "_view_module_version": "^2.0.20"
      }
     },
     "7e8446a578d44a69afe4135f387681e7": {
      "model_module": "jupyter-js-widgets",
      "model_module_version": "^2.0.20",
      "model_name": "FloatSliderModel",
      "state": {
       "_model_module_version": "^2.0.20",
       "_view_module_version": "^2.0.20",
       "continuous_update": false,
       "description": "Test:",
       "layout": "IPY_MODEL_f4e552654d864cf1989bb439101286b7",
       "max": 10,
       "orientation": "vertical",
       "readout_format": ".1f",
       "slider_color": "white",
       "step": 0.1,
       "value": 7.5
      }
     },
     "7f985e4df09f480a966ffd8064630c50": {
      "model_module": "jupyter-js-widgets",
      "model_module_version": "^2.0.20",
      "model_name": "LayoutModel",
      "state": {
       "_model_module_version": "^2.0.20",
       "_view_module_version": "^2.0.20"
      }
     },
     "81207dcbe8ab4d5898363abad4cdb726": {
      "model_module": "jupyter-js-widgets",
      "model_module_version": "^2.0.20",
      "model_name": "LayoutModel",
      "state": {
       "_model_module_version": "^2.0.20",
       "_view_module_version": "^2.0.20"
      }
     },
     "816beb52986447eba49f273f3e7f8aa5": {
      "model_module": "jupyter-js-widgets",
      "model_module_version": "^2.0.20",
      "model_name": "HTMLModel",
      "state": {
       "_model_module_version": "^2.0.20",
       "_view_module_version": "^2.0.20",
       "description": "Some HTML",
       "layout": "IPY_MODEL_a08f436e5a0647acb702a14d9516dd55",
       "placeholder": "Some HTML",
       "value": "Hello <b>World</b>"
      }
     },
     "8224ef98d15c46f8aed67779229488ee": {
      "model_module": "jupyter-js-widgets",
      "model_module_version": "^2.0.20",
      "model_name": "TabModel",
      "state": {
       "_model_module_version": "^2.0.20",
       "_view_module_version": "^2.0.20",
       "children": [
        "IPY_MODEL_b07a9a05c2514763b88e56c45d77d8d4",
        "IPY_MODEL_ec039d7c5cac4eae9f83af0a15203544",
        "IPY_MODEL_d626feef105a41e28b3371df472b826c",
        "IPY_MODEL_083a4b0bea7d4112bd01866e9d542226",
        "IPY_MODEL_0dd055dd9ed14b979448bd4ac0b7c260"
       ],
       "layout": "IPY_MODEL_4daa77ce1ee94f30b3165bd8ca37b3cc"
      }
     },
     "867ef107ccaa4fa1bbd0354db871066e": {
      "model_module": "jupyter-js-widgets",
      "model_module_version": "^2.0.20",
      "model_name": "HTMLMathModel",
      "state": {
       "_model_module_version": "^2.0.20",
       "_view_module_version": "^2.0.20",
       "description": "Some HTML",
       "layout": "IPY_MODEL_c26534e3c9e84c1989fae976aa5ff71d",
       "placeholder": "Some HTML",
       "value": "Some math and <i>HTML</i>: $x^2$ and $$\\frac{x+1}{x-1}$$"
      }
     },
     "87708acd7a2c46b9b142c8e80d3f0dad": {
      "model_module": "jupyter-js-widgets",
      "model_module_version": "^2.0.20",
      "model_name": "LayoutModel",
      "state": {
       "_model_module_version": "^2.0.20",
       "_view_module_version": "^2.0.20"
      }
     },
     "88dfc138495e4aeeaeeff99692e33687": {
      "model_module": "jupyter-js-widgets",
      "model_module_version": "^2.0.20",
      "model_name": "LabelModel",
      "state": {
       "_model_module_version": "^2.0.20",
       "_view_module_version": "^2.0.20",
       "layout": "IPY_MODEL_77a9359772b44451bcddc94beca329fe",
       "value": "2"
      }
     },
     "89e40681e28043db92c824b205d7a719": {
      "model_module": "jupyter-js-widgets",
      "model_module_version": "^2.0.20",
      "model_name": "LayoutModel",
      "state": {
       "_model_module_version": "^2.0.20",
       "_view_module_version": "^2.0.20"
      }
     },
     "8acbb9e0daa040249c930a45587d5e6b": {
      "model_module": "jupyter-js-widgets",
      "model_module_version": "^2.0.20",
      "model_name": "FloatTextModel",
      "state": {
       "_model_module_version": "^2.0.20",
       "_view_module_version": "^2.0.20",
       "description": "Any:",
       "layout": "IPY_MODEL_78e1590caeab4a178f01e5965f24cf41",
       "value": 7.5
      }
     },
     "8b8b9558a2fd4196915a7d21bb89f356": {
      "model_module": "jupyter-js-widgets",
      "model_module_version": "^2.0.20",
      "model_name": "DatePickerModel",
      "state": {
       "_model_module_version": "^2.0.20",
       "_view_module_version": "^2.0.20",
       "description": "Pick a Date",
       "layout": "IPY_MODEL_bf28b9a62e6a4f4585605d9d51c8ed5a"
      }
     },
     "8c89c233d3cd41cf9fdddca81e3c21c2": {
      "model_module": "jupyter-js-widgets",
      "model_module_version": "^2.0.20",
      "model_name": "LayoutModel",
      "state": {
       "_model_module_version": "^2.0.20",
       "_view_module_version": "^2.0.20"
      }
     },
     "8e0649de46604b8dba83802cb78261ab": {
      "model_module": "jupyter-js-widgets",
      "model_module_version": "^2.0.20",
      "model_name": "TextModel",
      "state": {
       "_model_module_version": "^2.0.20",
       "_view_module_version": "^2.0.20",
       "description": "String:",
       "layout": "IPY_MODEL_96394ef35dc44eaea9adc0374debde27",
       "placeholder": "Type something",
       "value": "Hello World"
      }
     },
     "8e8d9fce68ed44c587245a0d19255606": {
      "model_module": "jupyter-js-widgets",
      "model_module_version": "^2.0.20",
      "model_name": "LayoutModel",
      "state": {
       "_model_module_version": "^2.0.20",
       "_view_module_version": "^2.0.20"
      }
     },
     "8ebb8a03f4a94715ab9a6e3bb6080542": {
      "model_module": "jupyter-js-widgets",
      "model_module_version": "^2.0.20",
      "model_name": "AccordionModel",
      "state": {
       "_model_module_version": "^2.0.20",
       "_titles": {
        "0": "Slider",
        "1": "Text"
       },
       "_view_module_version": "^2.0.20",
       "children": [
        "IPY_MODEL_705de0d2ca1847bba44c5b9c28d1f0ec",
        "IPY_MODEL_174905b5b46b404a80468dfec9cc30b9"
       ],
       "layout": "IPY_MODEL_7e3118ef7d084c8db91467a0af9575bb"
      }
     },
     "9006f2e46b104afab33455210c4b0530": {
      "model_module": "jupyter-js-widgets",
      "model_module_version": "^2.0.20",
      "model_name": "LayoutModel",
      "state": {
       "_model_module_version": "^2.0.20",
       "_view_module_version": "^2.0.20"
      }
     },
     "913908f5ec05495d94c5fa14af455c51": {
      "model_module": "jupyter-js-widgets",
      "model_module_version": "^2.0.20",
      "model_name": "LayoutModel",
      "state": {
       "_model_module_version": "^2.0.20",
       "_view_module_version": "^2.0.20"
      }
     },
     "9481d54848524b4483cbc76140084181": {
      "model_module": "jupyter-js-widgets",
      "model_module_version": "^2.0.20",
      "model_name": "SelectMultipleModel",
      "state": {
       "_model_module_version": "^2.0.20",
       "_options_labels": [
        "Apples",
        "Oranges",
        "Pears"
       ],
       "_view_module_version": "^2.0.20",
       "description": "Fruits",
       "layout": "IPY_MODEL_7f985e4df09f480a966ffd8064630c50",
       "value": [
        "Oranges"
       ]
      }
     },
     "9487a5e1c11a4e68bb552b581e20ba91": {
      "model_module": "jupyter-js-widgets",
      "model_module_version": "^2.0.20",
      "model_name": "LayoutModel",
      "state": {
       "_model_module_version": "^2.0.20",
       "_view_module_version": "^2.0.20"
      }
     },
     "948ea94985bf454c80a3cfc8da43db43": {
      "model_module": "jupyter-js-widgets",
      "model_module_version": "^2.0.20",
      "model_name": "TextareaModel",
      "state": {
       "_model_module_version": "^2.0.20",
       "_view_module_version": "^2.0.20",
       "description": "String:",
       "layout": "IPY_MODEL_1d224b16f5b541daa96b31e7f964869d",
       "placeholder": "Type something",
       "value": "Hello World"
      }
     },
     "950fba4b33eb489d9162dc6523c80683": {
      "model_module": "jupyter-js-widgets",
      "model_module_version": "^2.0.20",
      "model_name": "VBoxModel",
      "state": {
       "_model_module_version": "^2.0.20",
       "_view_module_version": "^2.0.20",
       "children": [
        "IPY_MODEL_262a4d26513846dd91e41ddbd354cf41",
        "IPY_MODEL_efe897d28c2c48c08c2e285853aa3284"
       ],
       "layout": "IPY_MODEL_f0cbdc7e43ed43948fa6e9a639e75f48"
      }
     },
     "95337cd1cde34701bd1b245ce7197765": {
      "model_module": "jupyter-js-widgets",
      "model_module_version": "^2.0.20",
      "model_name": "LayoutModel",
      "state": {
       "_model_module_version": "^2.0.20",
       "_view_module_version": "^2.0.20"
      }
     },
     "96394ef35dc44eaea9adc0374debde27": {
      "model_module": "jupyter-js-widgets",
      "model_module_version": "^2.0.20",
      "model_name": "LayoutModel",
      "state": {
       "_model_module_version": "^2.0.20",
       "_view_module_version": "^2.0.20"
      }
     },
     "9691ba7550084800a9d94df1e9301c7a": {
      "model_module": "jupyter-js-widgets",
      "model_module_version": "^2.0.20",
      "model_name": "LayoutModel",
      "state": {
       "_model_module_version": "^2.0.20",
       "_view_module_version": "^2.0.20"
      }
     },
     "96f0e873fc324f71bfec5897b7493f14": {
      "model_module": "jupyter-js-widgets",
      "model_module_version": "^2.0.20",
      "model_name": "DropdownModel",
      "state": {
       "_model_module_version": "^2.0.20",
       "_options_labels": [
        "Two",
        "Three",
        "One"
       ],
       "_view_module_version": "^2.0.20",
       "description": "Number:",
       "layout": "IPY_MODEL_b83fb6a0fd104f9082243e6e7aa65187",
       "value": "Two"
      }
     },
     "98adb82df639449297b2236f572caa7c": {
      "model_module": "jupyter-js-widgets",
      "model_module_version": "^2.0.20",
      "model_name": "LayoutModel",
      "state": {
       "_model_module_version": "^2.0.20",
       "_view_module_version": "^2.0.20"
      }
     },
     "993c7d3b76ba4c31ad5b62fe30058ab7": {
      "model_module": "jupyter-js-widgets",
      "model_module_version": "^2.0.20",
      "model_name": "LayoutModel",
      "state": {
       "_model_module_version": "^2.0.20",
       "_view_module_version": "^2.0.20"
      }
     },
     "99ca16c821314a2fae1b6449a1d88d8f": {
      "model_module": "jupyter-js-widgets",
      "model_module_version": "^2.0.20",
      "model_name": "ToggleButtonsModel",
      "state": {
       "_model_module_version": "^2.0.20",
       "_options_labels": [
        "Slow",
        "Regular",
        "Fast"
       ],
       "_view_module_version": "^2.0.20",
       "button_style": "",
       "description": "Speed:",
       "icons": [],
       "layout": "IPY_MODEL_5b13a7124e944abfb0bcc30fcc00d055",
       "tooltips": [],
       "value": "Slow"
      }
     },
     "9a83bb5f0c56427bba98b7597eef2524": {
      "model_module": "jupyter-js-widgets",
      "model_module_version": "^2.0.20",
      "model_name": "LayoutModel",
      "state": {
       "_model_module_version": "^2.0.20",
       "_view_module_version": "^2.0.20"
      }
     },
     "9c74ff70a9cf402b86044fa8e9865a2f": {
      "model_module": "jupyter-js-widgets",
      "model_module_version": "^2.0.20",
      "model_name": "TextModel",
      "state": {
       "_model_module_version": "^2.0.20",
       "_view_module_version": "^2.0.20",
       "description": "P0",
       "layout": "IPY_MODEL_272f40e9ebec4297a5438969665c8e4c"
      }
     },
     "9ca9a59f9c8046b49890adf6f0f0f71f": {
      "model_module": "jupyter-js-widgets",
      "model_module_version": "^2.0.20",
      "model_name": "LayoutModel",
      "state": {
       "_model_module_version": "^2.0.20",
       "_view_module_version": "^2.0.20"
      }
     },
     "9d4c3cbb60d24d63b4a1c7a669c34140": {
      "model_module": "jupyter-js-widgets",
      "model_module_version": "^2.0.20",
      "model_name": "HTMLMathModel",
      "state": {
       "_model_module_version": "^2.0.20",
       "_view_module_version": "^2.0.20",
       "description": "Some HTML",
       "layout": "IPY_MODEL_3c18905f7b9045c49e9b16a661d5d05f",
       "placeholder": "Some HTML",
       "value": "Some math and <i>HTML</i>: $x^2$ and $$\\frac{x+1}{x-1}$$"
      }
     },
     "9de1416dc8364789806ec4311538097c": {
      "model_module": "jupyter-js-widgets",
      "model_module_version": "^2.0.20",
      "model_name": "LayoutModel",
      "state": {
       "_model_module_version": "^2.0.20",
       "_view_module_version": "^2.0.20"
      }
     },
     "9f0a720b3ba74669ada23ee19118cf30": {
      "model_module": "jupyter-js-widgets",
      "model_module_version": "^2.0.20",
      "model_name": "HTMLModel",
      "state": {
       "_model_module_version": "^2.0.20",
       "_view_module_version": "^2.0.20",
       "description": "Some HTML",
       "layout": "IPY_MODEL_073738175c2b4df183c862182cd997e4",
       "placeholder": "Some HTML",
       "value": "Hello <b>World</b>"
      }
     },
     "9f97890352bf41358bc5c4b876db177a": {
      "model_module": "jupyter-js-widgets",
      "model_module_version": "^2.0.20",
      "model_name": "FloatSliderModel",
      "state": {
       "_model_module_version": "^2.0.20",
       "_view_module_version": "^2.0.20",
       "continuous_update": false,
       "description": "Test:",
       "layout": "IPY_MODEL_1f4c7b3f93cf4c6487d44a022b4cc95a",
       "max": 10,
       "orientation": "vertical",
       "readout_format": ".1f",
       "slider_color": "white",
       "step": 0.1,
       "value": 7.5
      }
     },
     "9fd677f1360b4940a8152952dc619c59": {
      "model_module": "jupyter-js-widgets",
      "model_module_version": "^2.0.20",
      "model_name": "HBoxModel",
      "state": {
       "_model_module_version": "^2.0.20",
       "_view_module_version": "^2.0.20",
       "children": [
        "IPY_MODEL_0884b05c4ca64a1795dbbef9a0599bff",
        "IPY_MODEL_684c80c955aa4eed9c8795a363ebf896",
        "IPY_MODEL_0723968e2fa044d598b9f218288c8063",
        "IPY_MODEL_d4063b050cc54f2a80e1753d97b6bf2e"
       ],
       "layout": "IPY_MODEL_08948410d66743aaa46902fb2c6b4541"
      }
     },
     "a08f436e5a0647acb702a14d9516dd55": {
      "model_module": "jupyter-js-widgets",
      "model_module_version": "^2.0.20",
      "model_name": "LayoutModel",
      "state": {
       "_model_module_version": "^2.0.20",
       "_view_module_version": "^2.0.20"
      }
     },
     "a0c11c8cbc1340b998d556cb566cabc8": {
      "model_module": "jupyter-js-widgets",
      "model_module_version": "^2.0.20",
      "model_name": "LayoutModel",
      "state": {
       "_model_module_version": "^2.0.20",
       "_view_module_version": "^2.0.20"
      }
     },
     "a18edc0d27014a9292ad45a394b83cd8": {
      "model_module": "jupyter-js-widgets",
      "model_module_version": "^2.0.20",
      "model_name": "IntTextModel",
      "state": {
       "_model_module_version": "^2.0.20",
       "_view_module_version": "^2.0.20",
       "description": "Any:",
       "layout": "IPY_MODEL_c45c2214c5e24ebcaac881d3e6845884",
       "value": 7
      }
     },
     "a1e8b39a71b546678f03b47b7674577a": {
      "model_module": "jupyter-js-widgets",
      "model_module_version": "^2.0.20",
      "model_name": "LayoutModel",
      "state": {
       "_model_module_version": "^2.0.20",
       "_view_module_version": "^2.0.20"
      }
     },
     "a3b1529beddc4b37b6203c3474b0dcb7": {
      "model_module": "jupyter-js-widgets",
      "model_module_version": "^2.0.20",
      "model_name": "CheckboxModel",
      "state": {
       "_model_module_version": "^2.0.20",
       "_view_module_version": "^2.0.20",
       "description": "Check me",
       "disabled": false,
       "layout": "IPY_MODEL_e331325ea41f4de08b3825f9e440c3b0",
       "value": false
      }
     },
     "a42250ff8e214b949e8c008b8d1e3614": {
      "model_module": "jupyter-js-widgets",
      "model_module_version": "^2.0.20",
      "model_name": "LayoutModel",
      "state": {
       "_model_module_version": "^2.0.20",
       "_view_module_version": "^2.0.20"
      }
     },
     "a42bc583469445ca8ecc11968d4f7357": {
      "model_module": "jupyter-js-widgets",
      "model_module_version": "^2.0.20",
      "model_name": "LabelModel",
      "state": {
       "_model_module_version": "^2.0.20",
       "_view_module_version": "^2.0.20",
       "layout": "IPY_MODEL_dd8c83e8d7734af88ea13d23494a0275",
       "value": "2"
      }
     },
     "a7f427251149466aa527091b9586f634": {
      "model_module": "jupyter-js-widgets",
      "model_module_version": "^2.0.20",
      "model_name": "LayoutModel",
      "state": {
       "_model_module_version": "^2.0.20",
       "_view_module_version": "^2.0.20"
      }
     },
     "a7f57261c4f54148b8a8424708da6428": {
      "model_module": "jupyter-js-widgets",
      "model_module_version": "^2.0.20",
      "model_name": "IntSliderModel",
      "state": {
       "_model_module_version": "^2.0.20",
       "_view_module_version": "^2.0.20",
       "layout": "IPY_MODEL_53b5465525bb4dacad1b63785b989b4c"
      }
     },
     "a8999f9d4c314d4a99504815bc9eb80e": {
      "model_module": "jupyter-js-widgets",
      "model_module_version": "^2.0.20",
      "model_name": "RadioButtonsModel",
      "state": {
       "_model_module_version": "^2.0.20",
       "_options_labels": [
        "pepperoni",
        "pineapple",
        "anchovies"
       ],
       "_view_module_version": "^2.0.20",
       "description": "Pizza topping:",
       "layout": "IPY_MODEL_4d4ae3ea40584932ad1c86018d1c379e",
       "value": "pepperoni"
      }
     },
     "a8b120b2e896415ba899fa5ed1140f5c": {
      "model_module": "jupyter-js-widgets",
      "model_module_version": "^2.0.20",
      "model_name": "LayoutModel",
      "state": {
       "_model_module_version": "^2.0.20",
       "_view_module_version": "^2.0.20"
      }
     },
     "aa4be414e6d84ba88188180ba99d3b15": {
      "model_module": "jupyter-js-widgets",
      "model_module_version": "^2.0.20",
      "model_name": "RadioButtonsModel",
      "state": {
       "_model_module_version": "^2.0.20",
       "_options_labels": [
        "pepperoni",
        "pineapple",
        "anchovies"
       ],
       "_view_module_version": "^2.0.20",
       "description": "Pizza topping:",
       "layout": "IPY_MODEL_09a6c583edd04e1c93d63634a5373846",
       "value": "pepperoni"
      }
     },
     "aae258fa3f8142d98691344457fe7048": {
      "model_module": "jupyter-js-widgets",
      "model_module_version": "^2.0.20",
      "model_name": "ColorPickerModel",
      "state": {
       "_model_module_version": "^2.0.20",
       "_view_module_version": "^2.0.20",
       "description": "Pick a color",
       "layout": "IPY_MODEL_aeffd987351d48fc95a532cc7bbd187b",
       "value": "blue"
      }
     },
     "aae3f2ab77d141d48b0000fb7d45fea2": {
      "model_module": "jupyter-js-widgets",
      "model_module_version": "^2.0.20",
      "model_name": "HTMLMathModel",
      "state": {
       "_model_module_version": "^2.0.20",
       "_view_module_version": "^2.0.20",
       "description": "Some HTML",
       "layout": "IPY_MODEL_8c89c233d3cd41cf9fdddca81e3c21c2",
       "placeholder": "Some HTML",
       "value": "Some math and <i>HTML</i>: $x^2$ and $$\\frac{x+1}{x-1}$$"
      }
     },
     "ac921e8e431641e483bd56850d38ef38": {
      "model_module": "jupyter-js-widgets",
      "model_module_version": "^2.0.20",
      "model_name": "LayoutModel",
      "state": {
       "_model_module_version": "^2.0.20",
       "_view_module_version": "^2.0.20"
      }
     },
     "aea2c62cb83746c58a133ea1de794885": {
      "model_module": "jupyter-js-widgets",
      "model_module_version": "^2.0.20",
      "model_name": "LabelModel",
      "state": {
       "_model_module_version": "^2.0.20",
       "_view_module_version": "^2.0.20",
       "layout": "IPY_MODEL_69742ae99cee4f43b781ae555e15a41f",
       "value": "0"
      }
     },
     "aeffd987351d48fc95a532cc7bbd187b": {
      "model_module": "jupyter-js-widgets",
      "model_module_version": "^2.0.20",
      "model_name": "LayoutModel",
      "state": {
       "_model_module_version": "^2.0.20",
       "_view_module_version": "^2.0.20"
      }
     },
     "b07a9a05c2514763b88e56c45d77d8d4": {
      "model_module": "jupyter-js-widgets",
      "model_module_version": "^2.0.20",
      "model_name": "TextModel",
      "state": {
       "_model_module_version": "^2.0.20",
       "_view_module_version": "^2.0.20",
       "description": "P0",
       "layout": "IPY_MODEL_dfbf6565c9b04f9194a5fd4b5d56e331"
      }
     },
     "b42c7d2f441c48309290e83740893145": {
      "model_module": "jupyter-js-widgets",
      "model_module_version": "^2.0.20",
      "model_name": "TextModel",
      "state": {
       "_model_module_version": "^2.0.20",
       "_view_module_version": "^2.0.20",
       "description": "P3",
       "layout": "IPY_MODEL_81207dcbe8ab4d5898363abad4cdb726"
      }
     },
     "b440e81560e5456887e16d09d02f7e19": {
      "model_module": "jupyter-js-widgets",
      "model_module_version": "^2.0.20",
      "model_name": "ImageModel",
      "state": {
       "_b64value": "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",
       "_model_module_version": "^2.0.20",
       "_view_module_version": "^2.0.20",
       "height": "400",
       "layout": "IPY_MODEL_d409268f6c6748e4b0cad1893644580a",
       "width": "300"
      }
     },
     "b4695f40b44d41a680badae290ab63cc": {
      "model_module": "jupyter-js-widgets",
      "model_module_version": "^2.0.20",
      "model_name": "ButtonModel",
      "state": {
       "_model_module_version": "^2.0.20",
       "_view_module_version": "^2.0.20",
       "description": "Click me",
       "icon": "check",
       "layout": "IPY_MODEL_f38ba9ea776c41da99ed1c2bef0cf997",
       "tooltip": "Click me"
      }
     },
     "b83fb6a0fd104f9082243e6e7aa65187": {
      "model_module": "jupyter-js-widgets",
      "model_module_version": "^2.0.20",
      "model_name": "LayoutModel",
      "state": {
       "_model_module_version": "^2.0.20",
       "_view_module_version": "^2.0.20"
      }
     },
     "b8e1108c42434d1bba8e33c1067c43ff": {
      "model_module": "jupyter-js-widgets",
      "model_module_version": "^2.0.20",
      "model_name": "LayoutModel",
      "state": {
       "_model_module_version": "^2.0.20",
       "_view_module_version": "^2.0.20"
      }
     },
     "beaee4d8d5cd4e8b859e8f2f65fa7a98": {
      "model_module": "jupyter-js-widgets",
      "model_module_version": "^2.0.20",
      "model_name": "LayoutModel",
      "state": {
       "_model_module_version": "^2.0.20",
       "_view_module_version": "^2.0.20"
      }
     },
     "bf28b9a62e6a4f4585605d9d51c8ed5a": {
      "model_module": "jupyter-js-widgets",
      "model_module_version": "^2.0.20",
      "model_name": "LayoutModel",
      "state": {
       "_model_module_version": "^2.0.20",
       "_view_module_version": "^2.0.20"
      }
     },
     "c11faf671d1341828e43cc63843b4bd8": {
      "model_module": "jupyter-js-widgets",
      "model_module_version": "^2.0.20",
      "model_name": "LayoutModel",
      "state": {
       "_model_module_version": "^2.0.20",
       "_view_module_version": "^2.0.20"
      }
     },
     "c229c20e7cae4f8b811e2d2982760285": {
      "model_module": "jupyter-js-widgets",
      "model_module_version": "^2.0.20",
      "model_name": "HTMLMathModel",
      "state": {
       "_model_module_version": "^2.0.20",
       "_view_module_version": "^2.0.20",
       "description": "Some HTML",
       "layout": "IPY_MODEL_b8e1108c42434d1bba8e33c1067c43ff",
       "placeholder": "Some HTML",
       "value": "Some math and <i>HTML</i>: $x^2$ and $$\\frac{x+1}{x-1}$$"
      }
     },
     "c26534e3c9e84c1989fae976aa5ff71d": {
      "model_module": "jupyter-js-widgets",
      "model_module_version": "^2.0.20",
      "model_name": "LayoutModel",
      "state": {
       "_model_module_version": "^2.0.20",
       "_view_module_version": "^2.0.20"
      }
     },
     "c2789d1edb7e42cb9b62368980cbe771": {
      "model_module": "jupyter-js-widgets",
      "model_module_version": "^2.0.20",
      "model_name": "ProgressModel",
      "state": {
       "_model_module_version": "^2.0.20",
       "_view_module_version": "^2.0.20",
       "bar_style": "info",
       "description": "Loading:",
       "layout": "IPY_MODEL_3998053ea75542a69460083302ae54b4",
       "max": 10,
       "step": 0.1,
       "value": 7.5
      }
     },
     "c2a7d4df977f449ca0f7ee224e8c4b05": {
      "model_module": "jupyter-js-widgets",
      "model_module_version": "^2.0.20",
      "model_name": "LayoutModel",
      "state": {
       "_model_module_version": "^2.0.20",
       "_view_module_version": "^2.0.20"
      }
     },
     "c429d8a78119464c8098c6723bab0fdf": {
      "model_module": "jupyter-js-widgets",
      "model_module_version": "^2.0.20",
      "model_name": "LabelModel",
      "state": {
       "_model_module_version": "^2.0.20",
       "_view_module_version": "^2.0.20",
       "layout": "IPY_MODEL_f66147b223d048c0890793eb04f67e68",
       "value": "0"
      }
     },
     "c45c2214c5e24ebcaac881d3e6845884": {
      "model_module": "jupyter-js-widgets",
      "model_module_version": "^2.0.20",
      "model_name": "LayoutModel",
      "state": {
       "_model_module_version": "^2.0.20",
       "_view_module_version": "^2.0.20"
      }
     },
     "c46ecf188ba947e28047b825644d20f8": {
      "model_module": "jupyter-js-widgets",
      "model_module_version": "^2.0.20",
      "model_name": "DropdownModel",
      "state": {
       "_model_module_version": "^2.0.20",
       "_options_labels": [
        "1",
        "2",
        "3"
       ],
       "_view_module_version": "^2.0.20",
       "description": "Number:",
       "layout": "IPY_MODEL_4872a64dee4242e29acad524209200f8",
       "value": "2"
      }
     },
     "c58704083172414cb1e949747c8a6922": {
      "model_module": "jupyter-js-widgets",
      "model_module_version": "^2.0.20",
      "model_name": "AccordionModel",
      "state": {
       "_model_module_version": "^2.0.20",
       "_titles": {
        "0": "Slider",
        "1": "Text"
       },
       "_view_module_version": "^2.0.20",
       "children": [
        "IPY_MODEL_a7f57261c4f54148b8a8424708da6428",
        "IPY_MODEL_d11d12719bca499a903fc7effc949594"
       ],
       "layout": "IPY_MODEL_c2a7d4df977f449ca0f7ee224e8c4b05"
      }
     },
     "c5f4ba41db5344149c75e7108de23abd": {
      "model_module": "jupyter-js-widgets",
      "model_module_version": "^2.0.20",
      "model_name": "SelectModel",
      "state": {
       "_model_module_version": "^2.0.20",
       "_options_labels": [
        "Linux",
        "Windows",
        "OSX"
       ],
       "_view_module_version": "^2.0.20",
       "description": "OS:",
       "layout": "IPY_MODEL_f9533a968d23410b93094b58a8832c2a",
       "value": "Linux"
      }
     },
     "c7c488de7bfe42dd92b5be043d25ef80": {
      "model_module": "jupyter-js-widgets",
      "model_module_version": "^2.0.20",
      "model_name": "ValidModel",
      "state": {
       "_model_module_version": "^2.0.20",
       "_view_module_version": "^2.0.20",
       "description": "Valid!",
       "layout": "IPY_MODEL_2b2b3d2dcd9f404d84957cfb1dd400db"
      }
     },
     "c829602cd695480fbfd82c476e42d1aa": {
      "model_module": "jupyter-js-widgets",
      "model_module_version": "^2.0.20",
      "model_name": "LayoutModel",
      "state": {
       "_model_module_version": "^2.0.20",
       "_view_module_version": "^2.0.20"
      }
     },
     "c90971004efe462cad993d92a7bb48c1": {
      "model_module": "jupyter-js-widgets",
      "model_module_version": "^2.0.20",
      "model_name": "LayoutModel",
      "state": {
       "_model_module_version": "^2.0.20",
       "_view_module_version": "^2.0.20"
      }
     },
     "cd277d7af8aa49af82cec4ec476949af": {
      "model_module": "jupyter-js-widgets",
      "model_module_version": "^2.0.20",
      "model_name": "LabelModel",
      "state": {
       "_model_module_version": "^2.0.20",
       "_view_module_version": "^2.0.20",
       "layout": "IPY_MODEL_68ea297d506f466c994af51ab6a12201",
       "value": "3"
      }
     },
     "ce7b44d6c1d941dba82ec3eda325710e": {
      "model_module": "jupyter-js-widgets",
      "model_module_version": "^2.0.20",
      "model_name": "LayoutModel",
      "state": {
       "_model_module_version": "^2.0.20",
       "_view_module_version": "^2.0.20"
      }
     },
     "cf1649f877974b7aa5a570eb17a1cc3c": {
      "model_module": "jupyter-js-widgets",
      "model_module_version": "^2.0.20",
      "model_name": "LayoutModel",
      "state": {
       "_model_module_version": "^2.0.20",
       "_view_module_version": "^2.0.20"
      }
     },
     "cf8a8c4f5b66495abca0bbfd0b91691f": {
      "model_module": "jupyter-js-widgets",
      "model_module_version": "^2.0.20",
      "model_name": "IntSliderModel",
      "state": {
       "_model_module_version": "^2.0.20",
       "_view_module_version": "^2.0.20",
       "continuous_update": false,
       "description": "Test:",
       "layout": "IPY_MODEL_0e1da1aa122b4adca779288301b39db5",
       "max": 10,
       "readout_format": "i",
       "slider_color": "white",
       "value": 7
      }
     },
     "d11d12719bca499a903fc7effc949594": {
      "model_module": "jupyter-js-widgets",
      "model_module_version": "^2.0.20",
      "model_name": "TextModel",
      "state": {
       "_model_module_version": "^2.0.20",
       "_view_module_version": "^2.0.20",
       "layout": "IPY_MODEL_f30ea61dee254c97889c97867dc5bc59"
      }
     },
     "d18a242620d24b7e90463ca3286f585c": {
      "model_module": "jupyter-js-widgets",
      "model_module_version": "^2.0.20",
      "model_name": "IntSliderModel",
      "state": {
       "_model_module_version": "^2.0.20",
       "_range": true,
       "_view_module_version": "^2.0.20",
       "continuous_update": false,
       "description": "Test:",
       "layout": "IPY_MODEL_39d3304691b74661b708c8af248adeb8",
       "max": 10,
       "slider_color": "white",
       "value": [
        5,
        7
       ]
      }
     },
     "d1d2b0a10dd14b5da5544cd273f720cf": {
      "model_module": "jupyter-js-widgets",
      "model_module_version": "^2.0.20",
      "model_name": "ImageModel",
      "state": {
       "_b64value": "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",
       "_model_module_version": "^2.0.20",
       "_view_module_version": "^2.0.20",
       "height": "400",
       "layout": "IPY_MODEL_59414576568e44b184abad1dac33d75a",
       "width": "300"
      }
     },
     "d4063b050cc54f2a80e1753d97b6bf2e": {
      "model_module": "jupyter-js-widgets",
      "model_module_version": "^2.0.20",
      "model_name": "LabelModel",
      "state": {
       "_model_module_version": "^2.0.20",
       "_view_module_version": "^2.0.20",
       "layout": "IPY_MODEL_beaee4d8d5cd4e8b859e8f2f65fa7a98",
       "value": "3"
      }
     },
     "d409268f6c6748e4b0cad1893644580a": {
      "model_module": "jupyter-js-widgets",
      "model_module_version": "^2.0.20",
      "model_name": "LayoutModel",
      "state": {
       "_model_module_version": "^2.0.20",
       "_view_module_version": "^2.0.20"
      }
     },
     "d4141cfbb262476f87e816343d727a18": {
      "model_module": "jupyter-js-widgets",
      "model_module_version": "^2.0.20",
      "model_name": "LayoutModel",
      "state": {
       "_model_module_version": "^2.0.20",
       "_view_module_version": "^2.0.20"
      }
     },
     "d4168a8f17d145259a91c8c6e78a0df0": {
      "model_module": "jupyter-js-widgets",
      "model_module_version": "^2.0.20",
      "model_name": "HTMLMathModel",
      "state": {
       "_model_module_version": "^2.0.20",
       "_view_module_version": "^2.0.20",
       "description": "Some HTML",
       "layout": "IPY_MODEL_3e9e09d280d8427999306e6feee40a10",
       "placeholder": "Some HTML",
       "value": "Some math and <i>HTML</i>: $x^2$ and $$\\frac{x+1}{x-1}$$"
      }
     },
     "d626feef105a41e28b3371df472b826c": {
      "model_module": "jupyter-js-widgets",
      "model_module_version": "^2.0.20",
      "model_name": "TextModel",
      "state": {
       "_model_module_version": "^2.0.20",
       "_view_module_version": "^2.0.20",
       "description": "P2",
       "layout": "IPY_MODEL_16b95ed4dfd3490ca6a4e1a461f74b90"
      }
     },
     "dd89541b1d7546e08b724dbf2a467f06": {
      "model_module": "jupyter-js-widgets",
      "model_module_version": "^2.0.20",
      "model_name": "LayoutModel",
      "state": {
       "_model_module_version": "^2.0.20",
       "_view_module_version": "^2.0.20"
      }
     },
     "dd8c83e8d7734af88ea13d23494a0275": {
      "model_module": "jupyter-js-widgets",
      "model_module_version": "^2.0.20",
      "model_name": "LayoutModel",
      "state": {
       "_model_module_version": "^2.0.20",
       "_view_module_version": "^2.0.20"
      }
     },
     "dee3bfea3cbe49ef9d436443e399fe2c": {
      "model_module": "jupyter-js-widgets",
      "model_module_version": "^2.0.20",
      "model_name": "ToggleButtonModel",
      "state": {
       "_model_module_version": "^2.0.20",
       "_view_module_version": "^2.0.20",
       "description": "Click me",
       "icon": "check",
       "layout": "IPY_MODEL_0c958c4192074a7eba3c9e56a472438d",
       "tooltip": "Description"
      }
     },
     "def2e05f9d554b9d8dc366c4920f4bca": {
      "model_module": "jupyter-js-widgets",
      "model_module_version": "^2.0.20",
      "model_name": "LayoutModel",
      "state": {
       "_model_module_version": "^2.0.20",
       "_view_module_version": "^2.0.20"
      }
     },
     "df4b06b3b649400caa4b7c48eb6abfaa": {
      "model_module": "jupyter-js-widgets",
      "model_module_version": "^2.0.20",
      "model_name": "HTMLMathModel",
      "state": {
       "_model_module_version": "^2.0.20",
       "_view_module_version": "^2.0.20",
       "description": "Some HTML",
       "layout": "IPY_MODEL_4b0e8d0a322e43159105cb7a1d3cd12a",
       "placeholder": "Some HTML",
       "value": "Some math and <i>HTML</i>: $x^2$ and $$\\frac{x+1}{x-1}$$"
      }
     },
     "dfbf6565c9b04f9194a5fd4b5d56e331": {
      "model_module": "jupyter-js-widgets",
      "model_module_version": "^2.0.20",
      "model_name": "LayoutModel",
      "state": {
       "_model_module_version": "^2.0.20",
       "_view_module_version": "^2.0.20"
      }
     },
     "e331325ea41f4de08b3825f9e440c3b0": {
      "model_module": "jupyter-js-widgets",
      "model_module_version": "^2.0.20",
      "model_name": "LayoutModel",
      "state": {
       "_model_module_version": "^2.0.20",
       "_view_module_version": "^2.0.20"
      }
     },
     "e3a1f01dcbdb4ab7922fc27b6624fbfe": {
      "model_module": "jupyter-js-widgets",
      "model_module_version": "^2.0.20",
      "model_name": "SelectModel",
      "state": {
       "_model_module_version": "^2.0.20",
       "_options_labels": [
        "Linux",
        "Windows",
        "OSX"
       ],
       "_view_module_version": "^2.0.20",
       "description": "OS:",
       "layout": "IPY_MODEL_ff3f9412c67045b8b40431cd3920f0c2",
       "value": "Linux"
      }
     },
     "e3b116c0b27143c1a3f1741b0a105574": {
      "model_module": "jupyter-js-widgets",
      "model_module_version": "^2.0.20",
      "model_name": "LinkModel",
      "state": {
       "_model_module_version": "^2.0.20",
       "_view_module_version": "^2.0.20",
       "source": [
        "IPY_MODEL_e5d5f7b3c95646ddb55d3afa896ded79",
        "value"
       ],
       "target": [
        "IPY_MODEL_fbdf9f1b88be43a18e2bff1d6e08fd26",
        "value"
       ]
      }
     },
     "e4d70b63f5b2417991e19bc6f5d34ca7": {
      "model_module": "jupyter-js-widgets",
      "model_module_version": "^2.0.20",
      "model_name": "LayoutModel",
      "state": {
       "_model_module_version": "^2.0.20",
       "_view_module_version": "^2.0.20"
      }
     },
     "e5d5f7b3c95646ddb55d3afa896ded79": {
      "model_module": "jupyter-js-widgets",
      "model_module_version": "^2.0.20",
      "model_name": "PlayModel",
      "state": {
       "_model_module_version": "^2.0.20",
       "_view_module_version": "^2.0.20",
       "description": "Press play",
       "layout": "IPY_MODEL_5ebe44a3b49f4a52908c1fb3f61d4ea0",
       "value": 50
      }
     },
     "e5e015c4d7b646179a66f4e3bc4b7e14": {
      "model_module": "jupyter-js-widgets",
      "model_module_version": "^2.0.20",
      "model_name": "LayoutModel",
      "state": {
       "_model_module_version": "^2.0.20",
       "_view_module_version": "^2.0.20"
      }
     },
     "e600bc0174b94bb091fc12145e8773e3": {
      "model_module": "jupyter-js-widgets",
      "model_module_version": "^2.0.20",
      "model_name": "LayoutModel",
      "state": {
       "_model_module_version": "^2.0.20",
       "_view_module_version": "^2.0.20"
      }
     },
     "eb97c8ba6d614cb4a3997a36743b7d6b": {
      "model_module": "jupyter-js-widgets",
      "model_module_version": "^2.0.20",
      "model_name": "LayoutModel",
      "state": {
       "_model_module_version": "^2.0.20",
       "_view_module_version": "^2.0.20"
      }
     },
     "ec039d7c5cac4eae9f83af0a15203544": {
      "model_module": "jupyter-js-widgets",
      "model_module_version": "^2.0.20",
      "model_name": "TextModel",
      "state": {
       "_model_module_version": "^2.0.20",
       "_view_module_version": "^2.0.20",
       "description": "P1",
       "layout": "IPY_MODEL_fbed9e1a163c4af39b8b2c87cabbe545"
      }
     },
     "eea4057979c44b619927a69b78e8a88b": {
      "model_module": "jupyter-js-widgets",
      "model_module_version": "^2.0.20",
      "model_name": "ProgressModel",
      "state": {
       "_model_module_version": "^2.0.20",
       "_view_module_version": "^2.0.20",
       "description": "Loading:",
       "layout": "IPY_MODEL_00fecd11d91b4ab8827aec87b2165b1c",
       "max": 10,
       "value": 7
      }
     },
     "efe897d28c2c48c08c2e285853aa3284": {
      "model_module": "jupyter-js-widgets",
      "model_module_version": "^2.0.20",
      "model_name": "LabelModel",
      "state": {
       "_model_module_version": "^2.0.20",
       "_view_module_version": "^2.0.20",
       "layout": "IPY_MODEL_98adb82df639449297b2236f572caa7c",
       "value": "3"
      }
     },
     "f0cbdc7e43ed43948fa6e9a639e75f48": {
      "model_module": "jupyter-js-widgets",
      "model_module_version": "^2.0.20",
      "model_name": "LayoutModel",
      "state": {
       "_model_module_version": "^2.0.20",
       "_view_module_version": "^2.0.20"
      }
     },
     "f22e2f59861244d7b8a9e39a82cdc4ea": {
      "model_module": "jupyter-js-widgets",
      "model_module_version": "^2.0.20",
      "model_name": "LayoutModel",
      "state": {
       "_model_module_version": "^2.0.20",
       "_view_module_version": "^2.0.20"
      }
     },
     "f30ea61dee254c97889c97867dc5bc59": {
      "model_module": "jupyter-js-widgets",
      "model_module_version": "^2.0.20",
      "model_name": "LayoutModel",
      "state": {
       "_model_module_version": "^2.0.20",
       "_view_module_version": "^2.0.20"
      }
     },
     "f38ba9ea776c41da99ed1c2bef0cf997": {
      "model_module": "jupyter-js-widgets",
      "model_module_version": "^2.0.20",
      "model_name": "LayoutModel",
      "state": {
       "_model_module_version": "^2.0.20",
       "_view_module_version": "^2.0.20"
      }
     },
     "f4075b0d7a10486b896fac9caa3d858b": {
      "model_module": "jupyter-js-widgets",
      "model_module_version": "^2.0.20",
      "model_name": "IntSliderModel",
      "state": {
       "_model_module_version": "^2.0.20",
       "_range": true,
       "_view_module_version": "^2.0.20",
       "continuous_update": false,
       "description": "Test:",
       "layout": "IPY_MODEL_233d33076d1e442c94db5a9a35651ba6",
       "max": 10,
       "slider_color": "white",
       "value": [
        5,
        7
       ]
      }
     },
     "f4509ac52d9d4580827c0d922460d053": {
      "model_module": "jupyter-js-widgets",
      "model_module_version": "^2.0.20",
      "model_name": "LayoutModel",
      "state": {
       "_model_module_version": "^2.0.20",
       "_view_module_version": "^2.0.20"
      }
     },
     "f4aaf631431a4abe87f7a560a9e1d7ea": {
      "model_module": "jupyter-js-widgets",
      "model_module_version": "^2.0.20",
      "model_name": "HBoxModel",
      "state": {
       "_model_module_version": "^2.0.20",
       "_view_module_version": "^2.0.20",
       "children": [
        "IPY_MODEL_3e9460abdc9546d9bf8af8bb66a89faa",
        "IPY_MODEL_2274eb3d8f0d49368392d033f0386338"
       ],
       "layout": "IPY_MODEL_fbe34059b6884a408ca9a7098ef2c98c"
      }
     },
     "f4c5d0788f6b4fb7a62da19f55b4727e": {
      "model_module": "jupyter-js-widgets",
      "model_module_version": "^2.0.20",
      "model_name": "LayoutModel",
      "state": {
       "_model_module_version": "^2.0.20",
       "_view_module_version": "^2.0.20"
      }
     },
     "f4e552654d864cf1989bb439101286b7": {
      "model_module": "jupyter-js-widgets",
      "model_module_version": "^2.0.20",
      "model_name": "LayoutModel",
      "state": {
       "_model_module_version": "^2.0.20",
       "_view_module_version": "^2.0.20"
      }
     },
     "f66147b223d048c0890793eb04f67e68": {
      "model_module": "jupyter-js-widgets",
      "model_module_version": "^2.0.20",
      "model_name": "LayoutModel",
      "state": {
       "_model_module_version": "^2.0.20",
       "_view_module_version": "^2.0.20"
      }
     },
     "f7d318af493b4761b0fc8d9939fe59f6": {
      "model_module": "jupyter-js-widgets",
      "model_module_version": "^2.0.20",
      "model_name": "LabelModel",
      "state": {
       "_model_module_version": "^2.0.20",
       "_view_module_version": "^2.0.20",
       "description": "Some LaTeX",
       "layout": "IPY_MODEL_f22e2f59861244d7b8a9e39a82cdc4ea",
       "placeholder": "Some LaTeX",
       "value": "$$\\frac{n!}{k!(n-k)!} = \\binom{n}{k}$$"
      }
     },
     "f9533a968d23410b93094b58a8832c2a": {
      "model_module": "jupyter-js-widgets",
      "model_module_version": "^2.0.20",
      "model_name": "LayoutModel",
      "state": {
       "_model_module_version": "^2.0.20",
       "_view_module_version": "^2.0.20"
      }
     },
     "f960eba596d7413a902d5c804303c8c5": {
      "model_module": "jupyter-js-widgets",
      "model_module_version": "^2.0.20",
      "model_name": "LayoutModel",
      "state": {
       "_model_module_version": "^2.0.20",
       "_view_module_version": "^2.0.20"
      }
     },
     "fa82e817abfa4518b9349df5e77c33ec": {
      "model_module": "jupyter-js-widgets",
      "model_module_version": "^2.0.20",
      "model_name": "DropdownModel",
      "state": {
       "_model_module_version": "^2.0.20",
       "_options_labels": [
        "1",
        "2",
        "3"
       ],
       "_view_module_version": "^2.0.20",
       "description": "Number:",
       "layout": "IPY_MODEL_5b90cafb25784c899333ec5849fe899c",
       "value": "2"
      }
     },
     "fbdf9f1b88be43a18e2bff1d6e08fd26": {
      "model_module": "jupyter-js-widgets",
      "model_module_version": "^2.0.20",
      "model_name": "IntSliderModel",
      "state": {
       "_model_module_version": "^2.0.20",
       "_view_module_version": "^2.0.20",
       "layout": "IPY_MODEL_0d30e1d5f1af46d8b908eb6efe166993",
       "value": 50
      }
     },
     "fbe34059b6884a408ca9a7098ef2c98c": {
      "model_module": "jupyter-js-widgets",
      "model_module_version": "^2.0.20",
      "model_name": "LayoutModel",
      "state": {
       "_model_module_version": "^2.0.20",
       "_view_module_version": "^2.0.20"
      }
     },
     "fbed9e1a163c4af39b8b2c87cabbe545": {
      "model_module": "jupyter-js-widgets",
      "model_module_version": "^2.0.20",
      "model_name": "LayoutModel",
      "state": {
       "_model_module_version": "^2.0.20",
       "_view_module_version": "^2.0.20"
      }
     },
     "ff3f9412c67045b8b40431cd3920f0c2": {
      "model_module": "jupyter-js-widgets",
      "model_module_version": "^2.0.20",
      "model_name": "LayoutModel",
      "state": {
       "_model_module_version": "^2.0.20",
       "_view_module_version": "^2.0.20"
      }
     },
     "ff50587c31994ea3b91365d3617940d3": {
      "model_module": "jupyter-js-widgets",
      "model_module_version": "^2.0.20",
      "model_name": "LayoutModel",
      "state": {
       "_model_module_version": "^2.0.20",
       "_view_module_version": "^2.0.20"
      }
     },
     "ff64c23069944114ac6ef24b5c291ec8": {
      "model_module": "jupyter-js-widgets",
      "model_module_version": "^2.0.20",
      "model_name": "HTMLModel",
      "state": {
       "_model_module_version": "^2.0.20",
       "_view_module_version": "^2.0.20",
       "description": "Some HTML",
       "layout": "IPY_MODEL_639d4a270e60456791bd4cf8df66d608",
       "placeholder": "Some HTML",
       "value": "Hello <b>World</b>"
      }
     }
    },
    "version_major": 1,
    "version_minor": 0
   }
  }
 },
 "nbformat": 4,
 "nbformat_minor": 1
}
