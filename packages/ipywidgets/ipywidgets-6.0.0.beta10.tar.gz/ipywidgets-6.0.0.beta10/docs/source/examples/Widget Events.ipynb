{
 "cells": [
  {
   "cell_type": "markdown",
   "metadata": {
    "nbsphinx": "hidden"
   },
   "source": [
    "[Index](Index.ipynb) - [Back](Widget List.ipynb) - [Next](Widget Styling.ipynb)"
   ]
  },
  {
   "cell_type": "markdown",
   "metadata": {
    "slideshow": {
     "slide_type": "slide"
    }
   },
   "source": [
    "# Widget Events"
   ]
  },
  {
   "cell_type": "markdown",
   "metadata": {},
   "source": [
    "## Special events"
   ]
  },
  {
   "cell_type": "code",
   "execution_count": 1,
   "metadata": {
    "collapsed": true
   },
   "outputs": [],
   "source": [
    "from __future__ import print_function"
   ]
  },
  {
   "cell_type": "markdown",
   "metadata": {},
   "source": [
    "The `Button` is not used to represent a data type.  Instead the button widget is used to handle mouse clicks.  The `on_click` method of the `Button` can be used to register function to be called when the button is clicked.  The doc string of the `on_click` can be seen below."
   ]
  },
  {
   "cell_type": "code",
   "execution_count": 2,
   "metadata": {
    "collapsed": false
   },
   "outputs": [
    {
     "name": "stdout",
     "output_type": "stream",
     "text": [
      "Register a callback to execute when the button is clicked.\n",
      "\n",
      "        The callback will be called with one argument, the clicked button\n",
      "        widget instance.\n",
      "\n",
      "        Parameters\n",
      "        ----------\n",
      "        remove: bool (optional)\n",
      "            Set to true to remove the callback from the list of callbacks.\n",
      "        \n"
     ]
    }
   ],
   "source": [
    "import ipywidgets as widgets\n",
    "print(widgets.Button.on_click.__doc__)"
   ]
  },
  {
   "cell_type": "markdown",
   "metadata": {
    "slideshow": {
     "slide_type": "slide"
    }
   },
   "source": [
    "### Example"
   ]
  },
  {
   "cell_type": "markdown",
   "metadata": {},
   "source": [
    "Since button clicks are stateless, they are transmitted from the front-end to the back-end using custom messages.  By using the `on_click` method, a button that prints a message when it has been clicked is shown below."
   ]
  },
  {
   "cell_type": "code",
   "execution_count": 3,
   "metadata": {
    "collapsed": false
   },
   "outputs": [
    {
     "data": {
      "application/vnd.jupyter.widget-view+json": {
       "model_id": "b9dd1ac21fa44617ba7d7d7a9f28110e"
      }
     },
     "metadata": {},
     "output_type": "display_data"
    }
   ],
   "source": [
    "from IPython.display import display\n",
    "button = widgets.Button(description=\"Click Me!\")\n",
    "display(button)\n",
    "\n",
    "def on_button_clicked(b):\n",
    "    print(\"Button clicked.\")\n",
    "\n",
    "button.on_click(on_button_clicked)"
   ]
  },
  {
   "cell_type": "markdown",
   "metadata": {
    "slideshow": {
     "slide_type": "slide"
    }
   },
   "source": [
    "### on_submit"
   ]
  },
  {
   "cell_type": "markdown",
   "metadata": {},
   "source": [
    "The `Text` widget also has a special `on_submit` event.  The `on_submit` event fires when the user hits return."
   ]
  },
  {
   "cell_type": "code",
   "execution_count": 4,
   "metadata": {
    "collapsed": false
   },
   "outputs": [
    {
     "data": {
      "application/vnd.jupyter.widget-view+json": {
       "model_id": "b776b92c5c844626abca435d19c8583b"
      }
     },
     "metadata": {},
     "output_type": "display_data"
    }
   ],
   "source": [
    "text = widgets.Text()\n",
    "display(text)\n",
    "\n",
    "def handle_submit(sender):\n",
    "    print(text.value)\n",
    "\n",
    "text.on_submit(handle_submit)"
   ]
  },
  {
   "cell_type": "markdown",
   "metadata": {
    "slideshow": {
     "slide_type": "slide"
    }
   },
   "source": [
    "## Traitlet events"
   ]
  },
  {
   "cell_type": "markdown",
   "metadata": {},
   "source": [
    "Widget properties are IPython traitlets and traitlets are eventful.  To handle  changes, the `observe` method of the widget can be used to register a callback.  The doc string for `observe` can be seen below."
   ]
  },
  {
   "cell_type": "code",
   "execution_count": 5,
   "metadata": {
    "collapsed": false
   },
   "outputs": [
    {
     "name": "stdout",
     "output_type": "stream",
     "text": [
      "Setup a handler to be called when a trait changes.\n",
      "\n",
      "        This is used to setup dynamic notifications of trait changes.\n",
      "\n",
      "        Parameters\n",
      "        ----------\n",
      "        handler : callable\n",
      "            A callable that is called when a trait changes. Its\n",
      "            signature should be ``handler(change)``, where ``change`` is a\n",
      "            dictionary. The change dictionary at least holds a 'type' key.\n",
      "            * ``type``: the type of notification.\n",
      "            Other keys may be passed depending on the value of 'type'. In the\n",
      "            case where type is 'change', we also have the following keys:\n",
      "            * ``owner`` : the HasTraits instance\n",
      "            * ``old`` : the old value of the modified trait attribute\n",
      "            * ``new`` : the new value of the modified trait attribute\n",
      "            * ``name`` : the name of the modified trait attribute.\n",
      "        names : list, str, All\n",
      "            If names is All, the handler will apply to all traits.  If a list\n",
      "            of str, handler will apply to all names in the list.  If a\n",
      "            str, the handler will apply just to that name.\n",
      "        type : str, All (default: 'change')\n",
      "            The type of notification to filter by. If equal to All, then all\n",
      "            notifications are passed to the observe handler.\n",
      "        \n"
     ]
    }
   ],
   "source": [
    "print(widgets.Widget.observe.__doc__)"
   ]
  },
  {
   "cell_type": "markdown",
   "metadata": {
    "slideshow": {
     "slide_type": "slide"
    }
   },
   "source": [
    "### Signatures"
   ]
  },
  {
   "cell_type": "markdown",
   "metadata": {},
   "source": [
    "Mentioned in the doc string, the callback registered must have the signature `handler(change)` where `change` is a dictionary holding the information about the change. \n",
    "\n",
    "Using this method, an example of how to output an `IntSlider`'s value as it is changed can be seen below."
   ]
  },
  {
   "cell_type": "code",
   "execution_count": 6,
   "metadata": {
    "collapsed": false
   },
   "outputs": [
    {
     "data": {
      "application/vnd.jupyter.widget-view+json": {
       "model_id": "d205f105667b47a4a37c6f311b9653d4"
      }
     },
     "metadata": {},
     "output_type": "display_data"
    }
   ],
   "source": [
    "int_range = widgets.IntSlider()\n",
    "display(int_range)\n",
    "\n",
    "def on_value_change(change):\n",
    "    print(change['new'])\n",
    "\n",
    "int_range.observe(on_value_change, names='value')"
   ]
  },
  {
   "cell_type": "markdown",
   "metadata": {},
   "source": [
    "## Linking Widgets"
   ]
  },
  {
   "cell_type": "markdown",
   "metadata": {},
   "source": [
    "Often, you may want to simply link widget attributes together. Synchronization of attributes can be done in a simpler way than by using bare traitlets events. "
   ]
  },
  {
   "cell_type": "markdown",
   "metadata": {},
   "source": [
    "### Linking traitlets attributes in the kernel\n",
    "\n",
    "The first method is to use the `link` and `dlink` functions from the `traitlets` module. This only works if we are interacting with a live kernel."
   ]
  },
  {
   "cell_type": "code",
   "execution_count": 7,
   "metadata": {
    "collapsed": true
   },
   "outputs": [],
   "source": [
    "import traitlets"
   ]
  },
  {
   "cell_type": "code",
   "execution_count": 8,
   "metadata": {
    "collapsed": false
   },
   "outputs": [
    {
     "data": {
      "application/vnd.jupyter.widget-view+json": {
       "model_id": "5bbc07bb5933452f9c58878ce6d84e56"
      }
     },
     "metadata": {},
     "output_type": "display_data"
    },
    {
     "data": {
      "application/vnd.jupyter.widget-view+json": {
       "model_id": "7f282ac4d027474ab5fb1d82ec066afa"
      }
     },
     "metadata": {},
     "output_type": "display_data"
    },
    {
     "data": {
      "application/vnd.jupyter.widget-view+json": {
       "model_id": "8a36acd8f2714eaba6e47e1880976e74"
      }
     },
     "metadata": {},
     "output_type": "display_data"
    }
   ],
   "source": [
    "caption = widgets.Label(value='The values of slider1 and slider2 are synchronized')\n",
    "sliders1, slider2 = widgets.IntSlider(description='Slider 1'),\\\n",
    "                    widgets.IntSlider(description='Slider 2')\n",
    "l = traitlets.link((sliders1, 'value'), (slider2, 'value'))\n",
    "display(caption, sliders1, slider2)"
   ]
  },
  {
   "cell_type": "code",
   "execution_count": 9,
   "metadata": {
    "collapsed": false
   },
   "outputs": [
    {
     "data": {
      "application/vnd.jupyter.widget-view+json": {
       "model_id": "0a6134530c804f359fd90ba2ffdb86c2"
      }
     },
     "metadata": {},
     "output_type": "display_data"
    },
    {
     "data": {
      "application/vnd.jupyter.widget-view+json": {
       "model_id": "4e64f84249054dadb03d04f92dd059ee"
      }
     },
     "metadata": {},
     "output_type": "display_data"
    },
    {
     "data": {
      "application/vnd.jupyter.widget-view+json": {
       "model_id": "df95ec192af6490a86b8721cdd6d11e8"
      }
     },
     "metadata": {},
     "output_type": "display_data"
    }
   ],
   "source": [
    "caption = widgets.Label(value='Changes in source values are reflected in target1')\n",
    "source, target1 = widgets.IntSlider(description='Source'),\\\n",
    "                  widgets.IntSlider(description='Target 1')\n",
    "dl = traitlets.dlink((source, 'value'), (target1, 'value'))\n",
    "display(caption, source, target1)"
   ]
  },
  {
   "cell_type": "markdown",
   "metadata": {},
   "source": [
    "Function `traitlets.link` and `traitlets.dlink` return a `Link` or `DLink` object. The link can be broken by calling the `unlink` method."
   ]
  },
  {
   "cell_type": "code",
   "execution_count": 10,
   "metadata": {
    "collapsed": true
   },
   "outputs": [],
   "source": [
    "l.unlink()\n",
    "dl.unlink()"
   ]
  },
  {
   "cell_type": "markdown",
   "metadata": {},
   "source": [
    "### Registering callbacks to trait changes in the kernel\n",
    "\n",
    "Since attributes of widgets on the Python side are traitlets, you can register handlers to the change events whenever the model gets updates from the front-end.\n",
    "\n",
    "The handler passed to the decorator will be called with one change argument. The change objecy at least holds a `type` key and a `name` key, corresponding respectively to the type of notification and the name of the attribute that triggered the notification.\n",
    "\n",
    "Other keys may be passed depending on the value of `type`. In the case where type is `change`, we also have the following keys:\n",
    "\n",
    "- `owner` : the HasTraits instance\n",
    "- `old` : the old value of the modified trait attribute\n",
    "- `new` : the new value of the modified trait attribute\n",
    "- `name` : the name of the modified trait attribute."
   ]
  },
  {
   "cell_type": "code",
   "execution_count": 11,
   "metadata": {
    "collapsed": false
   },
   "outputs": [
    {
     "data": {
      "application/vnd.jupyter.widget-view+json": {
       "model_id": "70df1ac768e141afbb4e899654025c51"
      }
     },
     "metadata": {},
     "output_type": "display_data"
    },
    {
     "data": {
      "application/vnd.jupyter.widget-view+json": {
       "model_id": "6126a1b106374dce9dd9b35e3106168f"
      }
     },
     "metadata": {},
     "output_type": "display_data"
    }
   ],
   "source": [
    "caption = widgets.Label(value='The values of range1 and range2 are synchronized')\n",
    "slider = widgets.IntSlider(min=-5, max=5, value=1, description='Slider')\n",
    "\n",
    "def handle_slider_change(change):\n",
    "    caption.value = 'The slider value is ' + (\n",
    "        'negative' if change.new < 0 else 'nonnegative'\n",
    "    )\n",
    "\n",
    "slider.observe(handle_slider_change, names='value')\n",
    "\n",
    "display(caption, slider)"
   ]
  },
  {
   "cell_type": "markdown",
   "metadata": {},
   "source": [
    "### Linking widgets attributes from the client side"
   ]
  },
  {
   "cell_type": "markdown",
   "metadata": {},
   "source": [
    "When synchronizing traitlets attributes, you may experience a lag because of the latency due to the roundtrip to the server side. You can also directly link widget attributes in the browser using the link widgets, in either a unidirectional or a bidirectional fashion.\n",
    "\n",
    "Javascript links persist when embedding widgets in html web pages without a kernel."
   ]
  },
  {
   "cell_type": "code",
   "execution_count": 12,
   "metadata": {
    "collapsed": false
   },
   "outputs": [
    {
     "data": {
      "application/vnd.jupyter.widget-view+json": {
       "model_id": "e2947597466a4657a4c23fa12b536e76"
      }
     },
     "metadata": {},
     "output_type": "display_data"
    },
    {
     "data": {
      "application/vnd.jupyter.widget-view+json": {
       "model_id": "9bed2fc7627d4cd294004dbb82ee58d9"
      }
     },
     "metadata": {},
     "output_type": "display_data"
    },
    {
     "data": {
      "application/vnd.jupyter.widget-view+json": {
       "model_id": "af992b9abc914f57ac01358d1ae53335"
      }
     },
     "metadata": {},
     "output_type": "display_data"
    }
   ],
   "source": [
    "caption = widgets.Label(value='The values of range1 and range2 are synchronized')\n",
    "range1, range2 = widgets.IntSlider(description='Range 1'),\\\n",
    "                 widgets.IntSlider(description='Range 2')\n",
    "l = widgets.jslink((range1, 'value'), (range2, 'value'))\n",
    "display(caption, range1, range2)"
   ]
  },
  {
   "cell_type": "code",
   "execution_count": 13,
   "metadata": {
    "collapsed": false
   },
   "outputs": [
    {
     "data": {
      "application/vnd.jupyter.widget-view+json": {
       "model_id": "9437d437d28742c281739c3f5b403e63"
      }
     },
     "metadata": {},
     "output_type": "display_data"
    },
    {
     "data": {
      "application/vnd.jupyter.widget-view+json": {
       "model_id": "1e5a7bc655014c0cb71194c5ee7bfe8a"
      }
     },
     "metadata": {},
     "output_type": "display_data"
    },
    {
     "data": {
      "application/vnd.jupyter.widget-view+json": {
       "model_id": "36426c503fb6460a950739bf7b5a7054"
      }
     },
     "metadata": {},
     "output_type": "display_data"
    }
   ],
   "source": [
    "caption = widgets.Label(value='Changes in source_range values are reflected in target_range1')\n",
    "source_range, target_range1 = widgets.IntSlider(description='Source range'),\\\n",
    "                              widgets.IntSlider(description='Target range 1')\n",
    "dl = widgets.jsdlink((source_range, 'value'), (target_range1, 'value'))\n",
    "display(caption, source_range, target_range1)"
   ]
  },
  {
   "cell_type": "markdown",
   "metadata": {},
   "source": [
    "Function `widgets.jslink` returns a `Link` widget. The link can be broken by calling the `unlink` method."
   ]
  },
  {
   "cell_type": "code",
   "execution_count": 14,
   "metadata": {
    "collapsed": true
   },
   "outputs": [],
   "source": [
    "# l.unlink()\n",
    "# dl.unlink()"
   ]
  },
  {
   "cell_type": "markdown",
   "metadata": {
    "nbsphinx": "hidden"
   },
   "source": [
    "[Index](Index.ipynb) - [Back](Widget List.ipynb) - [Next](Widget Styling.ipynb)"
   ]
  }
 ],
 "metadata": {
  "cell_tags": [
   [
    "<None>",
    null
   ]
  ],
  "kernelspec": {
   "display_name": "Python 3",
   "language": "python",
   "name": "python3"
  },
  "language_info": {
   "codemirror_mode": {
    "name": "ipython",
    "version": 3
   },
   "file_extension": ".py",
   "mimetype": "text/x-python",
   "name": "python",
   "nbconvert_exporter": "python",
   "pygments_lexer": "ipython3",
   "version": "3.5.2"
  },
  "widgets": {
   "application/vnd.jupyter.widget-state+json": {
    "state": {
     "079235a2b81e47368032e0e69b2074eb": {
      "model_module": "jupyter-js-widgets",
      "model_module_version": "~2.0.28",
      "model_name": "SliderStyleModel",
      "state": {
       "_model_module_version": "~2.0.28",
       "_view_module_version": "~2.0.28"
      }
     },
     "09429053a394407a955c31894a772255": {
      "model_module": "jupyter-js-widgets",
      "model_module_version": "~2.0.28",
      "model_name": "SliderStyleModel",
      "state": {
       "_model_module_version": "~2.0.28",
       "_view_module_version": "~2.0.28"
      }
     },
     "0a6134530c804f359fd90ba2ffdb86c2": {
      "model_module": "jupyter-js-widgets",
      "model_module_version": "~2.0.28",
      "model_name": "LabelModel",
      "state": {
       "_model_module_version": "~2.0.28",
       "_view_module_version": "~2.0.28",
       "layout": "IPY_MODEL_a929302479f24272b36ca3db62125be3",
       "value": "Changes in source values are reflected in target1"
      }
     },
     "1e5a7bc655014c0cb71194c5ee7bfe8a": {
      "model_module": "jupyter-js-widgets",
      "model_module_version": "~2.0.28",
      "model_name": "IntSliderModel",
      "state": {
       "_model_module_version": "~2.0.28",
       "_view_module_version": "~2.0.28",
       "description": "Source range",
       "layout": "IPY_MODEL_e92a18e2e4cb4138941370cb8ec7eaf4",
       "style": "IPY_MODEL_48e2e55d148d4f91824c2b831174db48"
      }
     },
     "1f179e7866b64e03827aabe8c7ba0562": {
      "model_module": "jupyter-js-widgets",
      "model_module_version": "~2.0.28",
      "model_name": "SliderStyleModel",
      "state": {
       "_model_module_version": "~2.0.28",
       "_view_module_version": "~2.0.28"
      }
     },
     "224d68de1e3e492782ce29e3d730ef82": {
      "model_module": "jupyter-js-widgets",
      "model_module_version": "~2.0.28",
      "model_name": "LayoutModel",
      "state": {
       "_model_module_version": "~2.0.28",
       "_view_module_version": "~2.0.28"
      }
     },
     "36426c503fb6460a950739bf7b5a7054": {
      "model_module": "jupyter-js-widgets",
      "model_module_version": "~2.0.28",
      "model_name": "IntSliderModel",
      "state": {
       "_model_module_version": "~2.0.28",
       "_view_module_version": "~2.0.28",
       "description": "Target range 1",
       "layout": "IPY_MODEL_d775b783725e4937bca5fbde14cf14e1",
       "style": "IPY_MODEL_5cfb0952e1064903951b3950a9950402"
      }
     },
     "378035a9be104006bcdd5eb5807d78cb": {
      "model_module": "jupyter-js-widgets",
      "model_module_version": "~2.0.28",
      "model_name": "LayoutModel",
      "state": {
       "_model_module_version": "~2.0.28",
       "_view_module_version": "~2.0.28"
      }
     },
     "426ee221075d4b7db5ad8ae5e66d1b5f": {
      "model_module": "jupyter-js-widgets",
      "model_module_version": "~2.0.28",
      "model_name": "LayoutModel",
      "state": {
       "_model_module_version": "~2.0.28",
       "_view_module_version": "~2.0.28"
      }
     },
     "44c97fa40c4d4b7e9d57f0fd5c2ba878": {
      "model_module": "jupyter-js-widgets",
      "model_module_version": "~2.0.28",
      "model_name": "LayoutModel",
      "state": {
       "_model_module_version": "~2.0.28",
       "_view_module_version": "~2.0.28"
      }
     },
     "48e2e55d148d4f91824c2b831174db48": {
      "model_module": "jupyter-js-widgets",
      "model_module_version": "~2.0.28",
      "model_name": "SliderStyleModel",
      "state": {
       "_model_module_version": "~2.0.28",
       "_view_module_version": "~2.0.28"
      }
     },
     "4e64f84249054dadb03d04f92dd059ee": {
      "model_module": "jupyter-js-widgets",
      "model_module_version": "~2.0.28",
      "model_name": "IntSliderModel",
      "state": {
       "_model_module_version": "~2.0.28",
       "_view_module_version": "~2.0.28",
       "description": "Source",
       "layout": "IPY_MODEL_378035a9be104006bcdd5eb5807d78cb",
       "style": "IPY_MODEL_f61b98c15e8e4e49b7f2b5a06de827e1"
      }
     },
     "54be0a8dbd2546aeb0d749a9cb1c7490": {
      "model_module": "jupyter-js-widgets",
      "model_module_version": "~2.0.28",
      "model_name": "SliderStyleModel",
      "state": {
       "_model_module_version": "~2.0.28",
       "_view_module_version": "~2.0.28"
      }
     },
     "5bbc07bb5933452f9c58878ce6d84e56": {
      "model_module": "jupyter-js-widgets",
      "model_module_version": "~2.0.28",
      "model_name": "LabelModel",
      "state": {
       "_model_module_version": "~2.0.28",
       "_view_module_version": "~2.0.28",
       "layout": "IPY_MODEL_c90c33899bc147bb9a617de07306d3a9",
       "value": "The values of slider1 and slider2 are synchronized"
      }
     },
     "5cfb0952e1064903951b3950a9950402": {
      "model_module": "jupyter-js-widgets",
      "model_module_version": "~2.0.28",
      "model_name": "SliderStyleModel",
      "state": {
       "_model_module_version": "~2.0.28",
       "_view_module_version": "~2.0.28"
      }
     },
     "6126a1b106374dce9dd9b35e3106168f": {
      "model_module": "jupyter-js-widgets",
      "model_module_version": "~2.0.28",
      "model_name": "IntSliderModel",
      "state": {
       "_model_module_version": "~2.0.28",
       "_view_module_version": "~2.0.28",
       "description": "Slider",
       "layout": "IPY_MODEL_6751d70491454c8e8188f54b9c46294c",
       "max": 5,
       "min": -5,
       "style": "IPY_MODEL_1f179e7866b64e03827aabe8c7ba0562",
       "value": 1
      }
     },
     "6751d70491454c8e8188f54b9c46294c": {
      "model_module": "jupyter-js-widgets",
      "model_module_version": "~2.0.28",
      "model_name": "LayoutModel",
      "state": {
       "_model_module_version": "~2.0.28",
       "_view_module_version": "~2.0.28"
      }
     },
     "6c52cc05e08c4be2a72aec26d98e7830": {
      "model_module": "jupyter-js-widgets",
      "model_module_version": "~2.0.28",
      "model_name": "LayoutModel",
      "state": {
       "_model_module_version": "~2.0.28",
       "_view_module_version": "~2.0.28"
      }
     },
     "70df1ac768e141afbb4e899654025c51": {
      "model_module": "jupyter-js-widgets",
      "model_module_version": "~2.0.28",
      "model_name": "LabelModel",
      "state": {
       "_model_module_version": "~2.0.28",
       "_view_module_version": "~2.0.28",
       "layout": "IPY_MODEL_e256619970d44bf5a7366df898bdfceb",
       "value": "The values of range1 and range2 are synchronized"
      }
     },
     "796463bccccc4fdab04c88105b0ddbd3": {
      "model_module": "jupyter-js-widgets",
      "model_module_version": "~2.0.28",
      "model_name": "LayoutModel",
      "state": {
       "_model_module_version": "~2.0.28",
       "_view_module_version": "~2.0.28"
      }
     },
     "7bb10990ab5148e5af9bc5156937bca6": {
      "model_module": "jupyter-js-widgets",
      "model_module_version": "~2.0.28",
      "model_name": "LayoutModel",
      "state": {
       "_model_module_version": "~2.0.28",
       "_view_module_version": "~2.0.28"
      }
     },
     "7e1d9ac2a7034ea5a22a1ac6793484e8": {
      "model_module": "jupyter-js-widgets",
      "model_module_version": "~2.0.28",
      "model_name": "LayoutModel",
      "state": {
       "_model_module_version": "~2.0.28",
       "_view_module_version": "~2.0.28"
      }
     },
     "7f282ac4d027474ab5fb1d82ec066afa": {
      "model_module": "jupyter-js-widgets",
      "model_module_version": "~2.0.28",
      "model_name": "IntSliderModel",
      "state": {
       "_model_module_version": "~2.0.28",
       "_view_module_version": "~2.0.28",
       "description": "Slider 1",
       "layout": "IPY_MODEL_7bb10990ab5148e5af9bc5156937bca6",
       "style": "IPY_MODEL_a6cbd48520634a0ea6737eba0a780e96"
      }
     },
     "8a36acd8f2714eaba6e47e1880976e74": {
      "model_module": "jupyter-js-widgets",
      "model_module_version": "~2.0.28",
      "model_name": "IntSliderModel",
      "state": {
       "_model_module_version": "~2.0.28",
       "_view_module_version": "~2.0.28",
       "description": "Slider 2",
       "layout": "IPY_MODEL_44c97fa40c4d4b7e9d57f0fd5c2ba878",
       "style": "IPY_MODEL_079235a2b81e47368032e0e69b2074eb"
      }
     },
     "911f4ad6c6e94fb4b9ece69503db15c3": {
      "model_module": "jupyter-js-widgets",
      "model_module_version": "~2.0.28",
      "model_name": "LayoutModel",
      "state": {
       "_model_module_version": "~2.0.28",
       "_view_module_version": "~2.0.28"
      }
     },
     "9437d437d28742c281739c3f5b403e63": {
      "model_module": "jupyter-js-widgets",
      "model_module_version": "~2.0.28",
      "model_name": "LabelModel",
      "state": {
       "_model_module_version": "~2.0.28",
       "_view_module_version": "~2.0.28",
       "layout": "IPY_MODEL_224d68de1e3e492782ce29e3d730ef82",
       "value": "Changes in source_range values are reflected in target_range1"
      }
     },
     "9bed2fc7627d4cd294004dbb82ee58d9": {
      "model_module": "jupyter-js-widgets",
      "model_module_version": "~2.0.28",
      "model_name": "IntSliderModel",
      "state": {
       "_model_module_version": "~2.0.28",
       "_view_module_version": "~2.0.28",
       "description": "Range 1",
       "layout": "IPY_MODEL_426ee221075d4b7db5ad8ae5e66d1b5f",
       "style": "IPY_MODEL_b02d718be6694266a90c5b8c6cd3c261"
      }
     },
     "a6cbd48520634a0ea6737eba0a780e96": {
      "model_module": "jupyter-js-widgets",
      "model_module_version": "~2.0.28",
      "model_name": "SliderStyleModel",
      "state": {
       "_model_module_version": "~2.0.28",
       "_view_module_version": "~2.0.28"
      }
     },
     "a929302479f24272b36ca3db62125be3": {
      "model_module": "jupyter-js-widgets",
      "model_module_version": "~2.0.28",
      "model_name": "LayoutModel",
      "state": {
       "_model_module_version": "~2.0.28",
       "_view_module_version": "~2.0.28"
      }
     },
     "aa6d9768c33e4e9f97a08e549b56ccb5": {
      "model_module": "jupyter-js-widgets",
      "model_module_version": "~2.0.28",
      "model_name": "LayoutModel",
      "state": {
       "_model_module_version": "~2.0.28",
       "_view_module_version": "~2.0.28"
      }
     },
     "af992b9abc914f57ac01358d1ae53335": {
      "model_module": "jupyter-js-widgets",
      "model_module_version": "~2.0.28",
      "model_name": "IntSliderModel",
      "state": {
       "_model_module_version": "~2.0.28",
       "_view_module_version": "~2.0.28",
       "description": "Range 2",
       "layout": "IPY_MODEL_796463bccccc4fdab04c88105b0ddbd3",
       "style": "IPY_MODEL_54be0a8dbd2546aeb0d749a9cb1c7490"
      }
     },
     "b02d718be6694266a90c5b8c6cd3c261": {
      "model_module": "jupyter-js-widgets",
      "model_module_version": "~2.0.28",
      "model_name": "SliderStyleModel",
      "state": {
       "_model_module_version": "~2.0.28",
       "_view_module_version": "~2.0.28"
      }
     },
     "b3821407d8a8464f9e26d3aeb5bd0bdd": {
      "model_module": "jupyter-js-widgets",
      "model_module_version": "~2.0.28",
      "model_name": "DirectionalLinkModel",
      "state": {
       "_model_module_version": "~2.0.28",
       "_view_module_version": "~2.0.28",
       "source": [
        "IPY_MODEL_1e5a7bc655014c0cb71194c5ee7bfe8a",
        "value"
       ],
       "target": [
        "IPY_MODEL_36426c503fb6460a950739bf7b5a7054",
        "value"
       ]
      }
     },
     "b52692ef14374a0a94f8003a182bb406": {
      "model_module": "jupyter-js-widgets",
      "model_module_version": "~2.0.28",
      "model_name": "ButtonStyleModel",
      "state": {
       "_model_module_version": "~2.0.28",
       "_view_module_version": "~2.0.28"
      }
     },
     "b776b92c5c844626abca435d19c8583b": {
      "model_module": "jupyter-js-widgets",
      "model_module_version": "~2.0.28",
      "model_name": "TextModel",
      "state": {
       "_model_module_version": "~2.0.28",
       "_view_module_version": "~2.0.28",
       "layout": "IPY_MODEL_7e1d9ac2a7034ea5a22a1ac6793484e8"
      }
     },
     "b9dd1ac21fa44617ba7d7d7a9f28110e": {
      "model_module": "jupyter-js-widgets",
      "model_module_version": "~2.0.28",
      "model_name": "ButtonModel",
      "state": {
       "_model_module_version": "~2.0.28",
       "_view_module_version": "~2.0.28",
       "description": "Click Me!",
       "layout": "IPY_MODEL_911f4ad6c6e94fb4b9ece69503db15c3",
       "style": "IPY_MODEL_b52692ef14374a0a94f8003a182bb406"
      }
     },
     "c90c33899bc147bb9a617de07306d3a9": {
      "model_module": "jupyter-js-widgets",
      "model_module_version": "~2.0.28",
      "model_name": "LayoutModel",
      "state": {
       "_model_module_version": "~2.0.28",
       "_view_module_version": "~2.0.28"
      }
     },
     "cb52b52f35b34539b582f7732f7d48f8": {
      "model_module": "jupyter-js-widgets",
      "model_module_version": "~2.0.28",
      "model_name": "LinkModel",
      "state": {
       "_model_module_version": "~2.0.28",
       "_view_module_version": "~2.0.28",
       "source": [
        "IPY_MODEL_9bed2fc7627d4cd294004dbb82ee58d9",
        "value"
       ],
       "target": [
        "IPY_MODEL_af992b9abc914f57ac01358d1ae53335",
        "value"
       ]
      }
     },
     "d205f105667b47a4a37c6f311b9653d4": {
      "model_module": "jupyter-js-widgets",
      "model_module_version": "~2.0.28",
      "model_name": "IntSliderModel",
      "state": {
       "_model_module_version": "~2.0.28",
       "_view_module_version": "~2.0.28",
       "layout": "IPY_MODEL_6c52cc05e08c4be2a72aec26d98e7830",
       "style": "IPY_MODEL_ea51abecc3914db7b3aba7e7a5d0d714"
      }
     },
     "d775b783725e4937bca5fbde14cf14e1": {
      "model_module": "jupyter-js-widgets",
      "model_module_version": "~2.0.28",
      "model_name": "LayoutModel",
      "state": {
       "_model_module_version": "~2.0.28",
       "_view_module_version": "~2.0.28"
      }
     },
     "df95ec192af6490a86b8721cdd6d11e8": {
      "model_module": "jupyter-js-widgets",
      "model_module_version": "~2.0.28",
      "model_name": "IntSliderModel",
      "state": {
       "_model_module_version": "~2.0.28",
       "_view_module_version": "~2.0.28",
       "description": "Target 1",
       "layout": "IPY_MODEL_aa6d9768c33e4e9f97a08e549b56ccb5",
       "style": "IPY_MODEL_09429053a394407a955c31894a772255"
      }
     },
     "e256619970d44bf5a7366df898bdfceb": {
      "model_module": "jupyter-js-widgets",
      "model_module_version": "~2.0.28",
      "model_name": "LayoutModel",
      "state": {
       "_model_module_version": "~2.0.28",
       "_view_module_version": "~2.0.28"
      }
     },
     "e2947597466a4657a4c23fa12b536e76": {
      "model_module": "jupyter-js-widgets",
      "model_module_version": "~2.0.28",
      "model_name": "LabelModel",
      "state": {
       "_model_module_version": "~2.0.28",
       "_view_module_version": "~2.0.28",
       "layout": "IPY_MODEL_e38d390d80bd453eaeaefaa62214621a",
       "value": "The values of range1 and range2 are synchronized"
      }
     },
     "e38d390d80bd453eaeaefaa62214621a": {
      "model_module": "jupyter-js-widgets",
      "model_module_version": "~2.0.28",
      "model_name": "LayoutModel",
      "state": {
       "_model_module_version": "~2.0.28",
       "_view_module_version": "~2.0.28"
      }
     },
     "e92a18e2e4cb4138941370cb8ec7eaf4": {
      "model_module": "jupyter-js-widgets",
      "model_module_version": "~2.0.28",
      "model_name": "LayoutModel",
      "state": {
       "_model_module_version": "~2.0.28",
       "_view_module_version": "~2.0.28"
      }
     },
     "ea51abecc3914db7b3aba7e7a5d0d714": {
      "model_module": "jupyter-js-widgets",
      "model_module_version": "~2.0.28",
      "model_name": "SliderStyleModel",
      "state": {
       "_model_module_version": "~2.0.28",
       "_view_module_version": "~2.0.28"
      }
     },
     "f61b98c15e8e4e49b7f2b5a06de827e1": {
      "model_module": "jupyter-js-widgets",
      "model_module_version": "~2.0.28",
      "model_name": "SliderStyleModel",
      "state": {
       "_model_module_version": "~2.0.28",
       "_view_module_version": "~2.0.28"
      }
     }
    },
    "version_major": 1,
    "version_minor": 0
   }
  }
 },
 "nbformat": 4,
 "nbformat_minor": 1
}
