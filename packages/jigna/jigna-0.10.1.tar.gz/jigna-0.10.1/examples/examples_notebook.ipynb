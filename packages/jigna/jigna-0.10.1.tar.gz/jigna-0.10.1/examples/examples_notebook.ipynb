{
 "metadata": {
  "name": "",
  "signature": "sha256:1ecc3704bc4bd7a202dfcaa8fcbd15cacb2d223a8cdc38bafa259eb55abd91bc"
 },
 "nbformat": 3,
 "nbformat_minor": 0,
 "worksheets": [
  {
   "cells": [
    {
     "cell_type": "code",
     "collapsed": false,
     "input": [
      "from jigna.utils.notebook import display_jigna"
     ],
     "language": "python",
     "metadata": {},
     "outputs": []
    },
    {
     "cell_type": "heading",
     "level": 3,
     "metadata": {},
     "source": [
      "Simple View example"
     ]
    },
    {
     "cell_type": "code",
     "collapsed": false,
     "input": [
      "from simple_view import Person, template\n",
      "\n",
      "fred = Person(name='fred', age=42)\n",
      "display_jigna(context={'person':fred}, template=template)"
     ],
     "language": "python",
     "metadata": {},
     "outputs": []
    },
    {
     "cell_type": "code",
     "collapsed": false,
     "input": [
      "fred.name"
     ],
     "language": "python",
     "metadata": {},
     "outputs": []
    },
    {
     "cell_type": "code",
     "collapsed": false,
     "input": [
      "wilma = Person(name='wilma', age=41)\n",
      "display_jigna(context={'person': wilma}, template=template)"
     ],
     "language": "python",
     "metadata": {},
     "outputs": []
    },
    {
     "cell_type": "code",
     "collapsed": false,
     "input": [
      "wilma.name"
     ],
     "language": "python",
     "metadata": {},
     "outputs": []
    },
    {
     "cell_type": "heading",
     "level": 3,
     "metadata": {},
     "source": [
      "Interactive matplotlib on the web"
     ]
    },
    {
     "cell_type": "code",
     "collapsed": false,
     "input": [
      "from matplotlib_web import DomainModel, PlotController, template\n",
      "\n",
      "domain_model = DomainModel(scaling_factor=15)\n",
      "plot_controller = PlotController(domain_model=domain_model)\n",
      "\n",
      "display_jigna(context={'domain_model': domain_model, 'plot_controller': plot_controller}, template=template, size=(1000, 700))"
     ],
     "language": "python",
     "metadata": {},
     "outputs": []
    },
    {
     "cell_type": "code",
     "collapsed": false,
     "input": [
      "domain_model.scaling_factor"
     ],
     "language": "python",
     "metadata": {},
     "outputs": []
    },
    {
     "cell_type": "heading",
     "level": 3,
     "metadata": {},
     "source": [
      "Mayavi on the web"
     ]
    },
    {
     "cell_type": "code",
     "collapsed": false,
     "input": [
      "from mayavi_webgl_demo import Plotter3D, template\n",
      "\n",
      "plotter = Plotter3D(expression='x*x*0.5 + y*y + z*z*2.0', n_contour=4)\n",
      "\n",
      "display_jigna(context={'plotter': plotter}, template=template)"
     ],
     "language": "python",
     "metadata": {},
     "outputs": []
    },
    {
     "cell_type": "code",
     "collapsed": false,
     "input": [],
     "language": "python",
     "metadata": {},
     "outputs": []
    }
   ],
   "metadata": {}
  }
 ]
}