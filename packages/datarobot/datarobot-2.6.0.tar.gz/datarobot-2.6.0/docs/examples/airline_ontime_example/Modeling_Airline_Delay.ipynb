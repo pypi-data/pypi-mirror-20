{
 "cells": [
  {
   "cell_type": "markdown",
   "metadata": {},
   "source": [
    "# Modeling Airline Delay\n",
    "\n",
    "## Overview\n",
    "Statistics on whether a flight was delayed and for how long are available from government databases for all the major carriers.  It would be useful to be able to predict before scheduling a flight whether or not it was likely to be delayed.  In this example, DataRobot will try to model whether a flight will be delayed, based on information such as the scheduled departure time and whether rained the day of the flight.\n",
    "\n",
    "## Set Up\n",
    "This example assumes that the DataRobot Python client package has been installed and configured with the credentials of a DataRobot user with API access permissions."
   ]
  },
  {
   "cell_type": "markdown",
   "metadata": {},
   "source": [
    "## Data Sources\n",
    "Information on flights and flight delays is made available by the Bureau of Transportation Statistics at http://apps.bts.gov/xml/ontimesummarystatistics/src/dstat/OntimeSummaryDepatures.xml.  To narrow down the amount of data involved, the datasets assembled for this use case are limited to US Airways flights out of Boston Logan in 2013 and 2014, although the script for interacting with DataRobot is sufficiently general that any dataset with the correct format could be used.  A flight was declared to be delayed if it ultimately took off at least fifteen minutes after its scheduled departure time.\n",
    "\n",
    "In additional to flight information, each record in the prepared dataset notes the amount of rain and whether it rained on the day of the flight.  This information came from the National Oceanic and Atmospheric Administration's Quality Controlled Local Climatological Data, available at http://www.ncdc.noaa.gov/qclcd/QCLCD.  By looking at the recorded daily summaries of the water equivalent precipitation at the Bostan Logan station, the daily rainfall for each day in 2013 and 2014 was measured.  For some days, the QCLCD reports trace amounts of rainfall, which was recorded as 0 inches of rain.\n",
    "\n",
    "## Dataset Structure\n",
    "Each row in the assembled dataset contains the following columns\n",
    "\n",
    "- was_delayed\n",
    "    - boolean\n",
    "    - whether the flight was delayed\n",
    "- daily_rainfall\n",
    "    - float\n",
    "    - the amount of rain, in inches, on the day of the flight\n",
    "- did_rain\n",
    "    - bool\n",
    "    - whether it rained on the day of the flight\n",
    "- Carrier Code\n",
    "    - str\n",
    "    - the carrier code of the airline - US for all entries in assembled dataset\n",
    "- Date\n",
    "    - str (MM/DD/YYYY format)\n",
    "    - the date of the flight\n",
    "- Flight Number\n",
    "    - str\n",
    "    - the flight number for the flight\n",
    "- Tail Number\n",
    "    - str\n",
    "    - the tail number of the aircraft\n",
    "- Destination Airport\n",
    "    - str\n",
    "    - the three-letter airport code of the destination airport\n",
    "- Scheduled Deparature Time\n",
    "    - str\n",
    "    - the 24-hour scheduled departure time of the flight, in the origin airport's timezone"
   ]
  },
  {
   "cell_type": "code",
   "execution_count": 1,
   "metadata": {
    "collapsed": true
   },
   "outputs": [],
   "source": [
    "import pandas as pd\n",
    "import datarobot as dr"
   ]
  },
  {
   "cell_type": "code",
   "execution_count": 2,
   "metadata": {
    "collapsed": false
   },
   "outputs": [
    {
     "data": {
      "text/html": [
       "<div style=\"max-height:1000px;max-width:1500px;overflow:auto;\">\n",
       "<table border=\"1\" class=\"dataframe\">\n",
       "  <thead>\n",
       "    <tr style=\"text-align: right;\">\n",
       "      <th></th>\n",
       "      <th>was_delayed</th>\n",
       "      <th>daily_rainfall</th>\n",
       "      <th>did_rain</th>\n",
       "      <th>Carrier Code</th>\n",
       "      <th>Date (MM/DD/YYYY)</th>\n",
       "      <th>Flight Number</th>\n",
       "      <th>Tail Number</th>\n",
       "      <th>Destination Airport </th>\n",
       "      <th>Scheduled Departure Time</th>\n",
       "    </tr>\n",
       "  </thead>\n",
       "  <tbody>\n",
       "    <tr>\n",
       "      <th>0</th>\n",
       "      <td> False</td>\n",
       "      <td> 0</td>\n",
       "      <td> False</td>\n",
       "      <td> US</td>\n",
       "      <td> 02/01/2013</td>\n",
       "      <td> 225</td>\n",
       "      <td> N662AW</td>\n",
       "      <td> PHX</td>\n",
       "      <td> 16:20</td>\n",
       "    </tr>\n",
       "    <tr>\n",
       "      <th>1</th>\n",
       "      <td> False</td>\n",
       "      <td> 0</td>\n",
       "      <td> False</td>\n",
       "      <td> US</td>\n",
       "      <td> 02/01/2013</td>\n",
       "      <td> 280</td>\n",
       "      <td> N822AW</td>\n",
       "      <td> PHX</td>\n",
       "      <td> 06:00</td>\n",
       "    </tr>\n",
       "    <tr>\n",
       "      <th>2</th>\n",
       "      <td> False</td>\n",
       "      <td> 0</td>\n",
       "      <td> False</td>\n",
       "      <td> US</td>\n",
       "      <td> 02/01/2013</td>\n",
       "      <td> 303</td>\n",
       "      <td> N653AW</td>\n",
       "      <td> CLT</td>\n",
       "      <td> 09:35</td>\n",
       "    </tr>\n",
       "    <tr>\n",
       "      <th>3</th>\n",
       "      <td>  True</td>\n",
       "      <td> 0</td>\n",
       "      <td> False</td>\n",
       "      <td> US</td>\n",
       "      <td> 02/01/2013</td>\n",
       "      <td> 604</td>\n",
       "      <td> N640AW</td>\n",
       "      <td> PHX</td>\n",
       "      <td> 09:55</td>\n",
       "    </tr>\n",
       "    <tr>\n",
       "      <th>4</th>\n",
       "      <td> False</td>\n",
       "      <td> 0</td>\n",
       "      <td> False</td>\n",
       "      <td> US</td>\n",
       "      <td> 02/01/2013</td>\n",
       "      <td> 722</td>\n",
       "      <td> N715UW</td>\n",
       "      <td> PHL</td>\n",
       "      <td> 18:30</td>\n",
       "    </tr>\n",
       "  </tbody>\n",
       "</table>\n",
       "</div>"
      ],
      "text/plain": [
       "  was_delayed  daily_rainfall did_rain Carrier Code Date (MM/DD/YYYY)  \\\n",
       "0       False               0    False           US        02/01/2013   \n",
       "1       False               0    False           US        02/01/2013   \n",
       "2       False               0    False           US        02/01/2013   \n",
       "3        True               0    False           US        02/01/2013   \n",
       "4       False               0    False           US        02/01/2013   \n",
       "\n",
       "   Flight Number Tail Number Destination Airport  Scheduled Departure Time  \n",
       "0            225      N662AW                  PHX                    16:20  \n",
       "1            280      N822AW                  PHX                    06:00  \n",
       "2            303      N653AW                  CLT                    09:35  \n",
       "3            604      N640AW                  PHX                    09:55  \n",
       "4            722      N715UW                  PHL                    18:30  "
      ]
     },
     "execution_count": 2,
     "metadata": {},
     "output_type": "execute_result"
    }
   ],
   "source": [
    "data_path = \"logan-US-2013.csv\"\n",
    "logan_2013 = pd.read_csv(data_path)\n",
    "logan_2013.head()"
   ]
  },
  {
   "cell_type": "markdown",
   "metadata": {},
   "source": [
    "We want to be able to make predictions for future data, so the \"date\" column should be transformed in a way that avoids values that won't be populated for future data:"
   ]
  },
  {
   "cell_type": "code",
   "execution_count": 3,
   "metadata": {
    "collapsed": true
   },
   "outputs": [],
   "source": [
    "def prepare_modeling_dataset(df):\n",
    "    date_column_name = 'Date (MM/DD/YYYY)'\n",
    "    date = pd.to_datetime(df[date_column_name])\n",
    "    modeling_df = df.drop(date_column_name, axis=1)\n",
    "    days = {0: 'Mon', 1: 'Tues', 2: 'Weds', 3: 'Thurs', 4: 'Fri', 5: 'Sat',\n",
    "            6: 'Sun'}\n",
    "    modeling_df['day_of_week'] = date.apply(lambda x: days[x.dayofweek])\n",
    "    modeling_df['month'] = date.dt.month\n",
    "    return modeling_df"
   ]
  },
  {
   "cell_type": "code",
   "execution_count": 4,
   "metadata": {
    "collapsed": false
   },
   "outputs": [
    {
     "data": {
      "text/html": [
       "<div style=\"max-height:1000px;max-width:1500px;overflow:auto;\">\n",
       "<table border=\"1\" class=\"dataframe\">\n",
       "  <thead>\n",
       "    <tr style=\"text-align: right;\">\n",
       "      <th></th>\n",
       "      <th>was_delayed</th>\n",
       "      <th>daily_rainfall</th>\n",
       "      <th>did_rain</th>\n",
       "      <th>Carrier Code</th>\n",
       "      <th>Flight Number</th>\n",
       "      <th>Tail Number</th>\n",
       "      <th>Destination Airport </th>\n",
       "      <th>Scheduled Departure Time</th>\n",
       "      <th>day_of_week</th>\n",
       "      <th>month</th>\n",
       "    </tr>\n",
       "  </thead>\n",
       "  <tbody>\n",
       "    <tr>\n",
       "      <th>0</th>\n",
       "      <td> False</td>\n",
       "      <td> 0</td>\n",
       "      <td> False</td>\n",
       "      <td> US</td>\n",
       "      <td> 225</td>\n",
       "      <td> N662AW</td>\n",
       "      <td> PHX</td>\n",
       "      <td> 16:20</td>\n",
       "      <td> Fri</td>\n",
       "      <td> 2</td>\n",
       "    </tr>\n",
       "    <tr>\n",
       "      <th>1</th>\n",
       "      <td> False</td>\n",
       "      <td> 0</td>\n",
       "      <td> False</td>\n",
       "      <td> US</td>\n",
       "      <td> 280</td>\n",
       "      <td> N822AW</td>\n",
       "      <td> PHX</td>\n",
       "      <td> 06:00</td>\n",
       "      <td> Fri</td>\n",
       "      <td> 2</td>\n",
       "    </tr>\n",
       "    <tr>\n",
       "      <th>2</th>\n",
       "      <td> False</td>\n",
       "      <td> 0</td>\n",
       "      <td> False</td>\n",
       "      <td> US</td>\n",
       "      <td> 303</td>\n",
       "      <td> N653AW</td>\n",
       "      <td> CLT</td>\n",
       "      <td> 09:35</td>\n",
       "      <td> Fri</td>\n",
       "      <td> 2</td>\n",
       "    </tr>\n",
       "    <tr>\n",
       "      <th>3</th>\n",
       "      <td>  True</td>\n",
       "      <td> 0</td>\n",
       "      <td> False</td>\n",
       "      <td> US</td>\n",
       "      <td> 604</td>\n",
       "      <td> N640AW</td>\n",
       "      <td> PHX</td>\n",
       "      <td> 09:55</td>\n",
       "      <td> Fri</td>\n",
       "      <td> 2</td>\n",
       "    </tr>\n",
       "    <tr>\n",
       "      <th>4</th>\n",
       "      <td> False</td>\n",
       "      <td> 0</td>\n",
       "      <td> False</td>\n",
       "      <td> US</td>\n",
       "      <td> 722</td>\n",
       "      <td> N715UW</td>\n",
       "      <td> PHL</td>\n",
       "      <td> 18:30</td>\n",
       "      <td> Fri</td>\n",
       "      <td> 2</td>\n",
       "    </tr>\n",
       "  </tbody>\n",
       "</table>\n",
       "</div>"
      ],
      "text/plain": [
       "  was_delayed  daily_rainfall did_rain Carrier Code  Flight Number  \\\n",
       "0       False               0    False           US            225   \n",
       "1       False               0    False           US            280   \n",
       "2       False               0    False           US            303   \n",
       "3        True               0    False           US            604   \n",
       "4       False               0    False           US            722   \n",
       "\n",
       "  Tail Number Destination Airport  Scheduled Departure Time day_of_week  month  \n",
       "0      N662AW                  PHX                    16:20         Fri      2  \n",
       "1      N822AW                  PHX                    06:00         Fri      2  \n",
       "2      N653AW                  CLT                    09:35         Fri      2  \n",
       "3      N640AW                  PHX                    09:55         Fri      2  \n",
       "4      N715UW                  PHL                    18:30         Fri      2  "
      ]
     },
     "execution_count": 4,
     "metadata": {},
     "output_type": "execute_result"
    }
   ],
   "source": [
    "logan_2013_modeling = prepare_modeling_dataset(logan_2013)\n",
    "logan_2013_modeling.head()"
   ]
  },
  {
   "cell_type": "markdown",
   "metadata": {},
   "source": [
    "## DataRobot Modeling\n",
    "As part of this use case, in `model_flight_ontime.py`, a DataRobot project will be created and used to run a variety of models against the assembled datasets.  By default, DataRobot will run autopilot on the automatically generated Informative Features list, which excludes certain pathological features (like Carrier Code in this example, which is always the same value), and we will also create a custom feature list excluding the amount of rainfall on the day of the flight.\n",
    "\n",
    "This notebook shows how to use the Python API client to create a project, create feature lists, train models with different sample percents and feature lists, and view the models that have been run. It will:\n",
    "\n",
    "  - create a project\n",
    "  - create a new feature list (no foreknowledge) excluding the rainfall features\n",
    "  - set the target to `was_delayed`, and run DataRobot autopilot on the Informative Features list\n",
    "  - rerun autopilot on a new feature list\n",
    "  - make predictions on a new data set"
   ]
  },
  {
   "cell_type": "markdown",
   "metadata": {},
   "source": [
    "## Starting a Project"
   ]
  },
  {
   "cell_type": "code",
   "execution_count": 5,
   "metadata": {
    "collapsed": false
   },
   "outputs": [
    {
     "data": {
      "text/plain": [
       "u'57b64eacc808916b01929a5e'"
      ]
     },
     "execution_count": 5,
     "metadata": {},
     "output_type": "execute_result"
    }
   ],
   "source": [
    "project = dr.Project.start(logan_2013_modeling,\n",
    "                           project_name='Airline Delays - was_delayed',\n",
    "                           target=\"was_delayed\")\n",
    "project.id"
   ]
  },
  {
   "cell_type": "markdown",
   "metadata": {},
   "source": [
    "## Jobs and the Project Queue\n",
    "\n",
    "You can view the project in your browser:"
   ]
  },
  {
   "cell_type": "code",
   "execution_count": 6,
   "metadata": {
    "collapsed": false
   },
   "outputs": [
    {
     "data": {
      "text/plain": [
       "True"
      ]
     },
     "execution_count": 6,
     "metadata": {},
     "output_type": "execute_result"
    }
   ],
   "source": [
    "project.open_leaderboard_browser()"
   ]
  },
  {
   "cell_type": "code",
   "execution_count": 7,
   "metadata": {
    "collapsed": false
   },
   "outputs": [
    {
     "data": {
      "text/plain": [
       "Project(Airline Delays - was_delayed)"
      ]
     },
     "execution_count": 7,
     "metadata": {},
     "output_type": "execute_result"
    }
   ],
   "source": [
    "#  Set worker count higher. This will fail if you don't have 10 workers.\n",
    "project.set_worker_count(10)"
   ]
  },
  {
   "cell_type": "code",
   "execution_count": 8,
   "metadata": {
    "collapsed": false
   },
   "outputs": [
    {
     "data": {
      "text/plain": [
       "True"
      ]
     },
     "execution_count": 8,
     "metadata": {},
     "output_type": "execute_result"
    }
   ],
   "source": [
    "project.pause_autopilot()"
   ]
  },
  {
   "cell_type": "code",
   "execution_count": 9,
   "metadata": {
    "collapsed": false
   },
   "outputs": [
    {
     "data": {
      "text/plain": [
       "[ModelJob(Naive Bayes combiner classifier, status=inprogress),\n",
       " ModelJob(Breiman and Cutler Random Forest Classifier, status=inprogress),\n",
       " ModelJob(RuleFit Classifier, status=queue),\n",
       " ModelJob(Regularized Logistic Regression (L2), status=queue),\n",
       " ModelJob(Elastic-Net Classifier (L2 / Binomial Deviance), status=queue),\n",
       " ModelJob(RandomForest Classifier (Gini), status=queue),\n",
       " ModelJob(eXtreme Gradient Boosted Trees Classifier with Early Stopping, status=queue),\n",
       " ModelJob(Nystroem Kernel SVM Classifier, status=queue),\n",
       " ModelJob(Regularized Logistic Regression (L2), status=queue),\n",
       " ModelJob(Elastic-Net Classifier (L2 / Binomial Deviance), status=queue),\n",
       " ModelJob(Elastic-Net Classifier (L2 / Binomial Deviance) with Binned numeric features, status=queue),\n",
       " ModelJob(RandomForest Classifier (Gini), status=inprogress),\n",
       " ModelJob(Elastic-Net Classifier (mixing alpha=0.5 / Binomial Deviance), status=queue),\n",
       " ModelJob(RandomForest Classifier (Gini), status=queue),\n",
       " ModelJob(RandomForest Classifier (Entropy), status=queue),\n",
       " ModelJob(ExtraTrees Classifier (Gini), status=queue),\n",
       " ModelJob(Gradient Boosted Trees Classifier with Early Stopping, status=queue),\n",
       " ModelJob(Gradient Boosted Greedy Trees Classifier with Early Stopping, status=queue),\n",
       " ModelJob(eXtreme Gradient Boosted Trees Classifier with Early Stopping, status=queue),\n",
       " ModelJob(Auto-tuned K-Nearest Neighbors Classifier (Minkowski Distance), status=queue),\n",
       " ModelJob(Gradient Boosted Trees Classifier, status=inprogress),\n",
       " ModelJob(Decision Tree Classifier (Gini), status=inprogress),\n",
       " ModelJob(Logistic Regression, status=inprogress),\n",
       " ModelJob(Regularized Logistic Regression (L2), status=inprogress),\n",
       " ModelJob(Auto-tuned K-Nearest Neighbors Classifier (Minkowski Distance), status=inprogress),\n",
       " ModelJob(Majority Class Classifier, status=inprogress),\n",
       " ModelJob(Gradient Boosted Trees Classifier, status=inprogress)]"
      ]
     },
     "execution_count": 9,
     "metadata": {},
     "output_type": "execute_result"
    }
   ],
   "source": [
    "#  More jobs will go in the queue in each stage of autopilot.\n",
    "#  This gets the currently inprogress and queued jobs\n",
    "project.get_model_jobs()"
   ]
  },
  {
   "cell_type": "code",
   "execution_count": 10,
   "metadata": {
    "collapsed": false
   },
   "outputs": [
    {
     "data": {
      "text/plain": [
       "True"
      ]
     },
     "execution_count": 10,
     "metadata": {},
     "output_type": "execute_result"
    }
   ],
   "source": [
    "project.unpause_autopilot()"
   ]
  },
  {
   "cell_type": "markdown",
   "metadata": {},
   "source": [
    "## Features"
   ]
  },
  {
   "cell_type": "code",
   "execution_count": 11,
   "metadata": {
    "collapsed": false
   },
   "outputs": [
    {
     "data": {
      "text/plain": [
       "[Feature(did_rain),\n",
       " Feature(Destination Airport),\n",
       " Feature(Carrier Code),\n",
       " Feature(Flight Number),\n",
       " Feature(Tail Number),\n",
       " Feature(day_of_week),\n",
       " Feature(month),\n",
       " Feature(Scheduled Departure Time),\n",
       " Feature(daily_rainfall),\n",
       " Feature(was_delayed)]"
      ]
     },
     "execution_count": 11,
     "metadata": {},
     "output_type": "execute_result"
    }
   ],
   "source": [
    "features = project.get_features()\n",
    "features"
   ]
  },
  {
   "cell_type": "code",
   "execution_count": 12,
   "metadata": {
    "collapsed": false
   },
   "outputs": [
    {
     "data": {
      "text/html": [
       "<div style=\"max-height:1000px;max-width:1500px;overflow:auto;\">\n",
       "<table border=\"1\" class=\"dataframe\">\n",
       "  <thead>\n",
       "    <tr style=\"text-align: right;\">\n",
       "      <th></th>\n",
       "      <th>feature_type</th>\n",
       "      <th>id</th>\n",
       "      <th>importance</th>\n",
       "      <th>low_information</th>\n",
       "      <th>na_count</th>\n",
       "      <th>name</th>\n",
       "      <th>unique_count</th>\n",
       "    </tr>\n",
       "  </thead>\n",
       "  <tbody>\n",
       "    <tr>\n",
       "      <th>0</th>\n",
       "      <td>     Boolean</td>\n",
       "      <td> 2</td>\n",
       "      <td> 0.029045</td>\n",
       "      <td> False</td>\n",
       "      <td> 0</td>\n",
       "      <td>                 did_rain</td>\n",
       "      <td>   2</td>\n",
       "    </tr>\n",
       "    <tr>\n",
       "      <th>1</th>\n",
       "      <td> Categorical</td>\n",
       "      <td> 6</td>\n",
       "      <td> 0.003714</td>\n",
       "      <td>  True</td>\n",
       "      <td> 0</td>\n",
       "      <td>      Destination Airport</td>\n",
       "      <td>   5</td>\n",
       "    </tr>\n",
       "    <tr>\n",
       "      <th>2</th>\n",
       "      <td> Categorical</td>\n",
       "      <td> 3</td>\n",
       "      <td>      NaN</td>\n",
       "      <td>  True</td>\n",
       "      <td> 0</td>\n",
       "      <td>             Carrier Code</td>\n",
       "      <td>   1</td>\n",
       "    </tr>\n",
       "    <tr>\n",
       "      <th>3</th>\n",
       "      <td>     Numeric</td>\n",
       "      <td> 4</td>\n",
       "      <td> 0.005900</td>\n",
       "      <td> False</td>\n",
       "      <td> 0</td>\n",
       "      <td>            Flight Number</td>\n",
       "      <td> 329</td>\n",
       "    </tr>\n",
       "    <tr>\n",
       "      <th>4</th>\n",
       "      <td> Categorical</td>\n",
       "      <td> 5</td>\n",
       "      <td>-0.004512</td>\n",
       "      <td>  True</td>\n",
       "      <td> 0</td>\n",
       "      <td>              Tail Number</td>\n",
       "      <td> 296</td>\n",
       "    </tr>\n",
       "    <tr>\n",
       "      <th>5</th>\n",
       "      <td> Categorical</td>\n",
       "      <td> 8</td>\n",
       "      <td> 0.003452</td>\n",
       "      <td>  True</td>\n",
       "      <td> 0</td>\n",
       "      <td>              day_of_week</td>\n",
       "      <td>   7</td>\n",
       "    </tr>\n",
       "    <tr>\n",
       "      <th>6</th>\n",
       "      <td>     Numeric</td>\n",
       "      <td> 9</td>\n",
       "      <td> 0.003043</td>\n",
       "      <td>  True</td>\n",
       "      <td> 0</td>\n",
       "      <td>                    month</td>\n",
       "      <td>  12</td>\n",
       "    </tr>\n",
       "    <tr>\n",
       "      <th>7</th>\n",
       "      <td>        Time</td>\n",
       "      <td> 7</td>\n",
       "      <td> 0.058245</td>\n",
       "      <td> False</td>\n",
       "      <td> 0</td>\n",
       "      <td> Scheduled Departure Time</td>\n",
       "      <td>  77</td>\n",
       "    </tr>\n",
       "    <tr>\n",
       "      <th>8</th>\n",
       "      <td>     Numeric</td>\n",
       "      <td> 1</td>\n",
       "      <td> 0.034295</td>\n",
       "      <td> False</td>\n",
       "      <td> 0</td>\n",
       "      <td>           daily_rainfall</td>\n",
       "      <td>  58</td>\n",
       "    </tr>\n",
       "    <tr>\n",
       "      <th>9</th>\n",
       "      <td>     Boolean</td>\n",
       "      <td> 0</td>\n",
       "      <td> 1.000000</td>\n",
       "      <td> False</td>\n",
       "      <td> 0</td>\n",
       "      <td>              was_delayed</td>\n",
       "      <td>   2</td>\n",
       "    </tr>\n",
       "  </tbody>\n",
       "</table>\n",
       "</div>"
      ],
      "text/plain": [
       "  feature_type  id  importance low_information  na_count  \\\n",
       "0      Boolean   2    0.029045           False         0   \n",
       "1  Categorical   6    0.003714            True         0   \n",
       "2  Categorical   3         NaN            True         0   \n",
       "3      Numeric   4    0.005900           False         0   \n",
       "4  Categorical   5   -0.004512            True         0   \n",
       "5  Categorical   8    0.003452            True         0   \n",
       "6      Numeric   9    0.003043            True         0   \n",
       "7         Time   7    0.058245           False         0   \n",
       "8      Numeric   1    0.034295           False         0   \n",
       "9      Boolean   0    1.000000           False         0   \n",
       "\n",
       "                       name  unique_count  \n",
       "0                  did_rain             2  \n",
       "1       Destination Airport             5  \n",
       "2              Carrier Code             1  \n",
       "3             Flight Number           329  \n",
       "4               Tail Number           296  \n",
       "5               day_of_week             7  \n",
       "6                     month            12  \n",
       "7  Scheduled Departure Time            77  \n",
       "8            daily_rainfall            58  \n",
       "9               was_delayed             2  "
      ]
     },
     "execution_count": 12,
     "metadata": {},
     "output_type": "execute_result"
    }
   ],
   "source": [
    "pd.DataFrame([f.__dict__ for f in features])"
   ]
  },
  {
   "cell_type": "markdown",
   "metadata": {},
   "source": [
    "Three feature lists are automatically created:\n",
    "\n",
    "- _Raw Features_: one for all features\n",
    "- _Informative Features_: one based on features with any information (columns with no variation are excluded)\n",
    "- _Univariate Importance_: one based on univariate importance (this is only created after the target is set)\n",
    "\n",
    "_Informative Features_ is the one used by default in autopilot."
   ]
  },
  {
   "cell_type": "code",
   "execution_count": 13,
   "metadata": {
    "collapsed": false
   },
   "outputs": [
    {
     "data": {
      "text/plain": [
       "[Featurelist(Informative Features),\n",
       " Featurelist(Raw Features),\n",
       " Featurelist(Univariate Selections)]"
      ]
     },
     "execution_count": 13,
     "metadata": {},
     "output_type": "execute_result"
    }
   ],
   "source": [
    "feature_lists = project.get_featurelists()\n",
    "feature_lists"
   ]
  },
  {
   "cell_type": "code",
   "execution_count": 14,
   "metadata": {
    "collapsed": true
   },
   "outputs": [],
   "source": [
    "# create a featurelist without the rain features\n",
    "# (since they leak future information)\n",
    "informative_feats = [lst for lst in feature_lists if\n",
    "                     lst.name == 'Informative Features'][0]\n",
    "no_foreknowledge_features = list(\n",
    "    set(informative_feats.features) - {'daily_rainfall', 'did_rain'})"
   ]
  },
  {
   "cell_type": "code",
   "execution_count": 15,
   "metadata": {
    "collapsed": false
   },
   "outputs": [
    {
     "data": {
      "text/plain": [
       "Featurelist(no foreknowledge)"
      ]
     },
     "execution_count": 15,
     "metadata": {},
     "output_type": "execute_result"
    }
   ],
   "source": [
    "no_foreknowledge = project.create_featurelist('no foreknowledge',\n",
    "                                              no_foreknowledge_features)\n",
    "no_foreknowledge"
   ]
  },
  {
   "cell_type": "code",
   "execution_count": 16,
   "metadata": {
    "collapsed": false
   },
   "outputs": [
    {
     "data": {
      "text/plain": [
       "{u'autopilot_done': False,\n",
       " u'stage': u'modeling',\n",
       " u'stage_description': u'Ready for modeling'}"
      ]
     },
     "execution_count": 16,
     "metadata": {},
     "output_type": "execute_result"
    }
   ],
   "source": [
    "project.get_status()"
   ]
  },
  {
   "cell_type": "code",
   "execution_count": 17,
   "metadata": {
    "collapsed": false
   },
   "outputs": [
    {
     "name": "stdout",
     "output_type": "stream",
     "text": [
      "In progress: 10, queued: 17 (waited: 0s)\n",
      "In progress: 10, queued: 17 (waited: 1s)\n",
      "In progress: 10, queued: 17 (waited: 1s)\n",
      "In progress: 10, queued: 17 (waited: 2s)\n",
      "In progress: 10, queued: 17 (waited: 3s)\n",
      "In progress: 10, queued: 17 (waited: 4s)\n",
      "In progress: 10, queued: 16 (waited: 8s)\n",
      "In progress: 10, queued: 10 (waited: 14s)\n",
      "In progress: 9, queued: 4 (waited: 27s)\n",
      "In progress: 4, queued: 0 (waited: 53s)\n",
      "In progress: 7, queued: 0 (waited: 105s)\n",
      "In progress: 10, queued: 22 (waited: 195s)\n",
      "In progress: 10, queued: 1 (waited: 285s)\n",
      "In progress: 4, queued: 0 (waited: 376s)\n",
      "In progress: 0, queued: 0 (waited: 466s)\n"
     ]
    }
   ],
   "source": [
    "# This waits until autopilot is complete:\n",
    "project.wait_for_autopilot(check_interval=90)"
   ]
  },
  {
   "cell_type": "code",
   "execution_count": 18,
   "metadata": {
    "collapsed": true
   },
   "outputs": [],
   "source": [
    "project.start_autopilot(no_foreknowledge.id)"
   ]
  },
  {
   "cell_type": "code",
   "execution_count": 19,
   "metadata": {
    "collapsed": false
   },
   "outputs": [
    {
     "name": "stdout",
     "output_type": "stream",
     "text": [
      "In progress: 10, queued: 17 (waited: 0s)\n",
      "In progress: 10, queued: 17 (waited: 0s)\n",
      "In progress: 10, queued: 17 (waited: 1s)\n",
      "In progress: 10, queued: 17 (waited: 1s)\n",
      "In progress: 10, queued: 17 (waited: 2s)\n",
      "In progress: 10, queued: 17 (waited: 4s)\n",
      "In progress: 8, queued: 16 (waited: 8s)\n",
      "In progress: 9, queued: 11 (waited: 14s)\n",
      "In progress: 10, queued: 3 (waited: 27s)\n",
      "In progress: 2, queued: 0 (waited: 53s)\n",
      "In progress: 5, queued: 0 (waited: 104s)\n",
      "In progress: 2, queued: 0 (waited: 195s)\n",
      "In progress: 10, queued: 0 (waited: 285s)\n",
      "In progress: 3, queued: 0 (waited: 376s)\n",
      "In progress: 0, queued: 0 (waited: 467s)\n"
     ]
    }
   ],
   "source": [
    "project.wait_for_autopilot(check_interval=90)"
   ]
  },
  {
   "cell_type": "markdown",
   "metadata": {},
   "source": [
    "## Models"
   ]
  },
  {
   "cell_type": "code",
   "execution_count": 20,
   "metadata": {
    "collapsed": false
   },
   "outputs": [
    {
     "data": {
      "text/plain": [
       "Model(ENET Blender)"
      ]
     },
     "execution_count": 20,
     "metadata": {},
     "output_type": "execute_result"
    }
   ],
   "source": [
    "models = project.get_models()\n",
    "example_model = models[0]\n",
    "example_model"
   ]
  },
  {
   "cell_type": "markdown",
   "metadata": {},
   "source": [
    "Models represent fitted models and have various data about the model, including metrics:"
   ]
  },
  {
   "cell_type": "code",
   "execution_count": 21,
   "metadata": {
    "collapsed": false
   },
   "outputs": [
    {
     "data": {
      "text/plain": [
       "{u'AUC': {u'crossValidation': 0.759074,\n",
       "  u'holdout': None,\n",
       "  u'validation': 0.75202},\n",
       " u'FVE Binomial': {u'crossValidation': 0.145768,\n",
       "  u'holdout': None,\n",
       "  u'validation': 0.14552},\n",
       " u'Gini Norm': {u'crossValidation': 0.5181479999999999,\n",
       "  u'holdout': None,\n",
       "  u'validation': 0.50404},\n",
       " u'LogLoss': {u'crossValidation': 0.273184,\n",
       "  u'holdout': None,\n",
       "  u'validation': 0.27339},\n",
       " u'RMSE': {u'crossValidation': 0.276848,\n",
       "  u'holdout': None,\n",
       "  u'validation': 0.27643},\n",
       " u'Rate@Top10%': {u'crossValidation': 0.368602,\n",
       "  u'holdout': None,\n",
       "  u'validation': 0.37884},\n",
       " u'Rate@Top5%': {u'crossValidation': 0.47755200000000003,\n",
       "  u'holdout': None,\n",
       "  u'validation': 0.4898},\n",
       " u'Rate@TopTenth%': {u'crossValidation': 0.8,\n",
       "  u'holdout': None,\n",
       "  u'validation': 1.0}}"
      ]
     },
     "execution_count": 21,
     "metadata": {},
     "output_type": "execute_result"
    }
   ],
   "source": [
    "example_model.metrics"
   ]
  },
  {
   "cell_type": "code",
   "execution_count": 22,
   "metadata": {
    "collapsed": true
   },
   "outputs": [],
   "source": [
    "def sorted_by_log_loss(models, test_set):\n",
    "    models_with_score = [model for model in models if\n",
    "                         model.metrics['LogLoss'][test_set] is not None]\n",
    "    return sorted(models_with_score,\n",
    "                  key=lambda model: model.metrics['LogLoss'][test_set])"
   ]
  },
  {
   "cell_type": "markdown",
   "metadata": {},
   "source": [
    "Let's choose the models (from each feature set, to compare the scores) with the best LogLoss score from those with the rain and those without:"
   ]
  },
  {
   "cell_type": "code",
   "execution_count": 23,
   "metadata": {
    "collapsed": true
   },
   "outputs": [],
   "source": [
    "models = project.get_models()\n",
    "fair_models = [mod for mod in models if\n",
    "               mod.featurelist_id == no_foreknowledge.id]\n",
    "rain_cheat_models = [mod for mod in models if\n",
    "                     mod.featurelist_id == informative_feats.id]"
   ]
  },
  {
   "cell_type": "code",
   "execution_count": 24,
   "metadata": {
    "collapsed": false
   },
   "outputs": [
    {
     "data": {
      "text/plain": [
       "({u'AUC': {u'crossValidation': 0.7132059999999999,\n",
       "   u'holdout': None,\n",
       "   u'validation': 0.71313},\n",
       "  u'FVE Binomial': {u'crossValidation': 0.090004,\n",
       "   u'holdout': None,\n",
       "   u'validation': 0.08903},\n",
       "  u'Gini Norm': {u'crossValidation': 0.426412,\n",
       "   u'holdout': None,\n",
       "   u'validation': 0.42626},\n",
       "  u'LogLoss': {u'crossValidation': 0.29101999999999995,\n",
       "   u'holdout': None,\n",
       "   u'validation': 0.29147},\n",
       "  u'RMSE': {u'crossValidation': 0.286056,\n",
       "   u'holdout': None,\n",
       "   u'validation': 0.28639},\n",
       "  u'Rate@Top10%': {u'crossValidation': 0.29126799999999997,\n",
       "   u'holdout': None,\n",
       "   u'validation': 0.27645},\n",
       "  u'Rate@Top5%': {u'crossValidation': 0.367348,\n",
       "   u'holdout': None,\n",
       "   u'validation': 0.40816},\n",
       "  u'Rate@TopTenth%': {u'crossValidation': 0.6,\n",
       "   u'holdout': None,\n",
       "   u'validation': 0.66667}},\n",
       " {u'AUC': {u'crossValidation': 0.759074,\n",
       "   u'holdout': None,\n",
       "   u'validation': 0.75202},\n",
       "  u'FVE Binomial': {u'crossValidation': 0.145768,\n",
       "   u'holdout': None,\n",
       "   u'validation': 0.14552},\n",
       "  u'Gini Norm': {u'crossValidation': 0.5181479999999999,\n",
       "   u'holdout': None,\n",
       "   u'validation': 0.50404},\n",
       "  u'LogLoss': {u'crossValidation': 0.273184,\n",
       "   u'holdout': None,\n",
       "   u'validation': 0.27339},\n",
       "  u'RMSE': {u'crossValidation': 0.276848,\n",
       "   u'holdout': None,\n",
       "   u'validation': 0.27643},\n",
       "  u'Rate@Top10%': {u'crossValidation': 0.368602,\n",
       "   u'holdout': None,\n",
       "   u'validation': 0.37884},\n",
       "  u'Rate@Top5%': {u'crossValidation': 0.47755200000000003,\n",
       "   u'holdout': None,\n",
       "   u'validation': 0.4898},\n",
       "  u'Rate@TopTenth%': {u'crossValidation': 0.8,\n",
       "   u'holdout': None,\n",
       "   u'validation': 1.0}})"
      ]
     },
     "execution_count": 24,
     "metadata": {},
     "output_type": "execute_result"
    }
   ],
   "source": [
    "best_fair_model = sorted_by_log_loss(fair_models, 'crossValidation')[0]\n",
    "best_cheat_model = sorted_by_log_loss(rain_cheat_models, 'crossValidation')[0]\n",
    "best_fair_model.metrics, best_cheat_model.metrics"
   ]
  },
  {
   "cell_type": "markdown",
   "metadata": {},
   "source": [
    "## Visualizing Models\n",
    "\n",
    "This is a good time to use Model XRay (not yet available via the API) to visualize the models:"
   ]
  },
  {
   "cell_type": "code",
   "execution_count": 25,
   "metadata": {
    "collapsed": false
   },
   "outputs": [
    {
     "data": {
      "text/plain": [
       "True"
      ]
     },
     "execution_count": 25,
     "metadata": {},
     "output_type": "execute_result"
    }
   ],
   "source": [
    "best_fair_model.open_model_browser()"
   ]
  },
  {
   "cell_type": "code",
   "execution_count": 26,
   "metadata": {
    "collapsed": false
   },
   "outputs": [
    {
     "data": {
      "text/plain": [
       "True"
      ]
     },
     "execution_count": 26,
     "metadata": {},
     "output_type": "execute_result"
    }
   ],
   "source": [
    "best_cheat_model.open_model_browser()"
   ]
  },
  {
   "cell_type": "markdown",
   "metadata": {},
   "source": [
    "## Unlocking the Holdout\n",
    "\n",
    "To maintain holdout scores as a valid estimate of out-of-sample error, we recommend not looking at them until late in the project. For this reason, holdout scores are locked until you unlock them."
   ]
  },
  {
   "cell_type": "code",
   "execution_count": 27,
   "metadata": {
    "collapsed": false
   },
   "outputs": [
    {
     "data": {
      "text/plain": [
       "Project(Airline Delays - was_delayed)"
      ]
     },
     "execution_count": 27,
     "metadata": {},
     "output_type": "execute_result"
    }
   ],
   "source": [
    "project.unlock_holdout()"
   ]
  },
  {
   "cell_type": "code",
   "execution_count": 28,
   "metadata": {
    "collapsed": true
   },
   "outputs": [],
   "source": [
    "best_fair_model = dr.Model.get(project.id, best_fair_model.id)\n",
    "best_cheat_model = dr.Model.get(project.id, best_cheat_model.id)"
   ]
  },
  {
   "cell_type": "code",
   "execution_count": 29,
   "metadata": {
    "collapsed": false
   },
   "outputs": [
    {
     "data": {
      "text/plain": [
       "({u'crossValidation': 0.29101999999999995,\n",
       "  u'holdout': 0.29315,\n",
       "  u'validation': 0.29147},\n",
       " {u'crossValidation': 0.273184, u'holdout': 0.27413, u'validation': 0.27339})"
      ]
     },
     "execution_count": 29,
     "metadata": {},
     "output_type": "execute_result"
    }
   ],
   "source": [
    "best_fair_model.metrics['LogLoss'], best_cheat_model.metrics['LogLoss']"
   ]
  },
  {
   "cell_type": "markdown",
   "metadata": {},
   "source": [
    "## Retrain on 100%\n",
    "\n",
    "When ready to use the final model, you will probably get the best performance by retraining on 100% of the data."
   ]
  },
  {
   "cell_type": "code",
   "execution_count": 30,
   "metadata": {
    "collapsed": true
   },
   "outputs": [],
   "source": [
    "model_job_fair_100pct_id = best_fair_model.train(sample_pct=100)"
   ]
  },
  {
   "cell_type": "markdown",
   "metadata": {},
   "source": [
    "Wait for the model to complete:"
   ]
  },
  {
   "cell_type": "code",
   "execution_count": 31,
   "metadata": {
    "collapsed": true
   },
   "outputs": [],
   "source": [
    "model_fair_100pct = dr.models.modeljob.wait_for_async_model_creation(\n",
    "    project.id, model_job_fair_100pct_id)"
   ]
  },
  {
   "cell_type": "markdown",
   "metadata": {},
   "source": [
    "## Predictions\n",
    "\n",
    "Let's make predictions for some new data. This new data will need to have the same transformations applied as we applied to the training data."
   ]
  },
  {
   "cell_type": "code",
   "execution_count": 32,
   "metadata": {
    "collapsed": false
   },
   "outputs": [
    {
     "data": {
      "text/html": [
       "<div style=\"max-height:1000px;max-width:1500px;overflow:auto;\">\n",
       "<table border=\"1\" class=\"dataframe\">\n",
       "  <thead>\n",
       "    <tr style=\"text-align: right;\">\n",
       "      <th></th>\n",
       "      <th>was_delayed</th>\n",
       "      <th>daily_rainfall</th>\n",
       "      <th>did_rain</th>\n",
       "      <th>Carrier Code</th>\n",
       "      <th>Flight Number</th>\n",
       "      <th>Tail Number</th>\n",
       "      <th>Destination Airport </th>\n",
       "      <th>Scheduled Departure Time</th>\n",
       "      <th>day_of_week</th>\n",
       "      <th>month</th>\n",
       "    </tr>\n",
       "  </thead>\n",
       "  <tbody>\n",
       "    <tr>\n",
       "      <th>0</th>\n",
       "      <td> False</td>\n",
       "      <td> 0</td>\n",
       "      <td> False</td>\n",
       "      <td> US</td>\n",
       "      <td> 450</td>\n",
       "      <td> N809AW</td>\n",
       "      <td> PHX</td>\n",
       "      <td> 10:00</td>\n",
       "      <td> Sat</td>\n",
       "      <td> 2</td>\n",
       "    </tr>\n",
       "    <tr>\n",
       "      <th>1</th>\n",
       "      <td> False</td>\n",
       "      <td> 0</td>\n",
       "      <td> False</td>\n",
       "      <td> US</td>\n",
       "      <td> 553</td>\n",
       "      <td> N814AW</td>\n",
       "      <td> PHL</td>\n",
       "      <td> 07:00</td>\n",
       "      <td> Sat</td>\n",
       "      <td> 2</td>\n",
       "    </tr>\n",
       "    <tr>\n",
       "      <th>2</th>\n",
       "      <td> False</td>\n",
       "      <td> 0</td>\n",
       "      <td> False</td>\n",
       "      <td> US</td>\n",
       "      <td> 582</td>\n",
       "      <td> N820AW</td>\n",
       "      <td> PHX</td>\n",
       "      <td> 06:10</td>\n",
       "      <td> Sat</td>\n",
       "      <td> 2</td>\n",
       "    </tr>\n",
       "    <tr>\n",
       "      <th>3</th>\n",
       "      <td> False</td>\n",
       "      <td> 0</td>\n",
       "      <td> False</td>\n",
       "      <td> US</td>\n",
       "      <td> 601</td>\n",
       "      <td> N678AW</td>\n",
       "      <td> PHX</td>\n",
       "      <td> 16:20</td>\n",
       "      <td> Sat</td>\n",
       "      <td> 2</td>\n",
       "    </tr>\n",
       "    <tr>\n",
       "      <th>4</th>\n",
       "      <td> False</td>\n",
       "      <td> 0</td>\n",
       "      <td> False</td>\n",
       "      <td> US</td>\n",
       "      <td> 657</td>\n",
       "      <td> N662AW</td>\n",
       "      <td> CLT</td>\n",
       "      <td> 09:45</td>\n",
       "      <td> Sat</td>\n",
       "      <td> 2</td>\n",
       "    </tr>\n",
       "  </tbody>\n",
       "</table>\n",
       "</div>"
      ],
      "text/plain": [
       "  was_delayed  daily_rainfall did_rain Carrier Code  Flight Number  \\\n",
       "0       False               0    False           US            450   \n",
       "1       False               0    False           US            553   \n",
       "2       False               0    False           US            582   \n",
       "3       False               0    False           US            601   \n",
       "4       False               0    False           US            657   \n",
       "\n",
       "  Tail Number Destination Airport  Scheduled Departure Time day_of_week  month  \n",
       "0      N809AW                  PHX                    10:00         Sat      2  \n",
       "1      N814AW                  PHL                    07:00         Sat      2  \n",
       "2      N820AW                  PHX                    06:10         Sat      2  \n",
       "3      N678AW                  PHX                    16:20         Sat      2  \n",
       "4      N662AW                  CLT                    09:45         Sat      2  "
      ]
     },
     "execution_count": 32,
     "metadata": {},
     "output_type": "execute_result"
    }
   ],
   "source": [
    "logan_2014 = pd.read_csv(\"logan-US-2014.csv\")\n",
    "logan_2014_modeling = prepare_modeling_dataset(logan_2014)\n",
    "logan_2014_modeling.head()"
   ]
  },
  {
   "cell_type": "code",
   "execution_count": 33,
   "metadata": {
    "collapsed": true
   },
   "outputs": [],
   "source": [
    "prediction_dataset = project.upload_dataset(logan_2014_modeling)\n",
    "predict_job = model_fair_100pct.request_predictions(prediction_dataset.id)"
   ]
  },
  {
   "cell_type": "code",
   "execution_count": 34,
   "metadata": {
    "collapsed": true
   },
   "outputs": [],
   "source": [
    "predictions = predict_job.get_result_when_complete()"
   ]
  },
  {
   "cell_type": "code",
   "execution_count": 35,
   "metadata": {
    "collapsed": false
   },
   "outputs": [
    {
     "data": {
      "text/html": [
       "<div style=\"max-height:1000px;max-width:1500px;overflow:auto;\">\n",
       "<table border=\"1\" class=\"dataframe\">\n",
       "  <thead>\n",
       "    <tr style=\"text-align: right;\">\n",
       "      <th></th>\n",
       "      <th>was_delayed</th>\n",
       "      <th>daily_rainfall</th>\n",
       "      <th>did_rain</th>\n",
       "      <th>Carrier Code</th>\n",
       "      <th>Flight Number</th>\n",
       "      <th>Tail Number</th>\n",
       "      <th>Destination Airport </th>\n",
       "      <th>Scheduled Departure Time</th>\n",
       "      <th>day_of_week</th>\n",
       "      <th>month</th>\n",
       "      <th>positive_probability</th>\n",
       "      <th>prediction</th>\n",
       "      <th>row_id</th>\n",
       "    </tr>\n",
       "  </thead>\n",
       "  <tbody>\n",
       "    <tr>\n",
       "      <th>0</th>\n",
       "      <td> False</td>\n",
       "      <td> 0</td>\n",
       "      <td> False</td>\n",
       "      <td> US</td>\n",
       "      <td> 450</td>\n",
       "      <td> N809AW</td>\n",
       "      <td> PHX</td>\n",
       "      <td> 10:00</td>\n",
       "      <td> Sat</td>\n",
       "      <td> 2</td>\n",
       "      <td> 0.061519</td>\n",
       "      <td> 0</td>\n",
       "      <td> 0</td>\n",
       "    </tr>\n",
       "    <tr>\n",
       "      <th>1</th>\n",
       "      <td> False</td>\n",
       "      <td> 0</td>\n",
       "      <td> False</td>\n",
       "      <td> US</td>\n",
       "      <td> 553</td>\n",
       "      <td> N814AW</td>\n",
       "      <td> PHL</td>\n",
       "      <td> 07:00</td>\n",
       "      <td> Sat</td>\n",
       "      <td> 2</td>\n",
       "      <td> 0.047499</td>\n",
       "      <td> 0</td>\n",
       "      <td> 1</td>\n",
       "    </tr>\n",
       "    <tr>\n",
       "      <th>2</th>\n",
       "      <td> False</td>\n",
       "      <td> 0</td>\n",
       "      <td> False</td>\n",
       "      <td> US</td>\n",
       "      <td> 582</td>\n",
       "      <td> N820AW</td>\n",
       "      <td> PHX</td>\n",
       "      <td> 06:10</td>\n",
       "      <td> Sat</td>\n",
       "      <td> 2</td>\n",
       "      <td> 0.029104</td>\n",
       "      <td> 0</td>\n",
       "      <td> 2</td>\n",
       "    </tr>\n",
       "    <tr>\n",
       "      <th>3</th>\n",
       "      <td> False</td>\n",
       "      <td> 0</td>\n",
       "      <td> False</td>\n",
       "      <td> US</td>\n",
       "      <td> 601</td>\n",
       "      <td> N678AW</td>\n",
       "      <td> PHX</td>\n",
       "      <td> 16:20</td>\n",
       "      <td> Sat</td>\n",
       "      <td> 2</td>\n",
       "      <td> 0.161229</td>\n",
       "      <td> 0</td>\n",
       "      <td> 3</td>\n",
       "    </tr>\n",
       "    <tr>\n",
       "      <th>4</th>\n",
       "      <td> False</td>\n",
       "      <td> 0</td>\n",
       "      <td> False</td>\n",
       "      <td> US</td>\n",
       "      <td> 657</td>\n",
       "      <td> N662AW</td>\n",
       "      <td> CLT</td>\n",
       "      <td> 09:45</td>\n",
       "      <td> Sat</td>\n",
       "      <td> 2</td>\n",
       "      <td> 0.062162</td>\n",
       "      <td> 0</td>\n",
       "      <td> 4</td>\n",
       "    </tr>\n",
       "  </tbody>\n",
       "</table>\n",
       "</div>"
      ],
      "text/plain": [
       "  was_delayed  daily_rainfall did_rain Carrier Code  Flight Number  \\\n",
       "0       False               0    False           US            450   \n",
       "1       False               0    False           US            553   \n",
       "2       False               0    False           US            582   \n",
       "3       False               0    False           US            601   \n",
       "4       False               0    False           US            657   \n",
       "\n",
       "  Tail Number Destination Airport  Scheduled Departure Time day_of_week  \\\n",
       "0      N809AW                  PHX                    10:00         Sat   \n",
       "1      N814AW                  PHL                    07:00         Sat   \n",
       "2      N820AW                  PHX                    06:10         Sat   \n",
       "3      N678AW                  PHX                    16:20         Sat   \n",
       "4      N662AW                  CLT                    09:45         Sat   \n",
       "\n",
       "   month  positive_probability  prediction  row_id  \n",
       "0      2              0.061519           0       0  \n",
       "1      2              0.047499           0       1  \n",
       "2      2              0.029104           0       2  \n",
       "3      2              0.161229           0       3  \n",
       "4      2              0.062162           0       4  "
      ]
     },
     "execution_count": 35,
     "metadata": {},
     "output_type": "execute_result"
    }
   ],
   "source": [
    "pd.concat([logan_2014_modeling, predictions], axis=1).head()"
   ]
  }
 ],
 "metadata": {
  "kernelspec": {
   "display_name": "Python 2",
   "language": "python",
   "name": "python2"
  },
  "language_info": {
   "codemirror_mode": {
    "name": "ipython",
    "version": 2
   },
   "file_extension": ".py",
   "mimetype": "text/x-python",
   "name": "python",
   "nbconvert_exporter": "python",
   "pygments_lexer": "ipython2",
   "version": "2.7.3"
  }
 },
 "nbformat": 4,
 "nbformat_minor": 0
}
