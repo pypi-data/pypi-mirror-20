{
 "cells": [
  {
   "cell_type": "markdown",
   "metadata": {},
   "source": [
    "## Get electrodes from certain tasks using Chang Lab Database queries ##\n",
    "\n",
    "You can also query the database for subjects that performed a given task, and plot these electrodes on the warped brain."
   ]
  },
  {
   "cell_type": "code",
   "execution_count": 3,
   "metadata": {
    "collapsed": false
   },
   "outputs": [],
   "source": [
    "import numpy as np\n",
    "import sys\n",
    "#sys.path.append('/Users/dlchang/img_pipe/')\n",
    "import img_pipe\n",
    "sys.path.append('/Users/liberty/dura_mount/data_store2/imaging/changrepo/python/database/changlabdb')\n",
    "\n",
    "from changlabdb.backend import *\n",
    "\n",
    "from img_pipe.plotting.ctmr_brain_plot import el_add"
   ]
  },
  {
   "cell_type": "code",
   "execution_count": 9,
   "metadata": {
    "collapsed": false
   },
   "outputs": [
    {
     "name": "stdout",
     "output_type": "stream",
     "text": [
      "[u'EC113' u'EC128' u'EC137' u'EC50' u'EC55']\n"
     ]
    }
   ],
   "source": [
    "# Get all the blocks from a certain task\n",
    "task_oi = 'VOT_ID'\n",
    "task = Task.objects.get(task_uid = task_oi)\n",
    "blocks = Block.objects.filter(task=task)\n",
    "task_patients = np.unique([block.session.patient.patient_uid for block in blocks])\n",
    "\n",
    "print task_patients"
   ]
  },
  {
   "cell_type": "code",
   "execution_count": 10,
   "metadata": {
    "collapsed": false
   },
   "outputs": [
    {
     "name": "stdout",
     "output_type": "stream",
     "text": [
      "EC113\n"
     ]
    },
    {
     "ename": "TypeError",
     "evalue": "'NoneType' object has no attribute '__getitem__'",
     "output_type": "error",
     "traceback": [
      "\u001b[0;31m---------------------------------------------------------------------------\u001b[0m",
      "\u001b[0;31mTypeError\u001b[0m                                 Traceback (most recent call last)",
      "\u001b[0;32m<ipython-input-10-242c923aaedc>\u001b[0m in \u001b[0;36m<module>\u001b[0;34m()\u001b[0m\n\u001b[1;32m     15\u001b[0m     \u001b[0;31m#elecs_warped =  patient.get_elecs(elecfile_prefix='%s_to_cvs_avg35_inMNI152'%s)\u001b[0m\u001b[0;34m\u001b[0m\u001b[0;34m\u001b[0m\u001b[0m\n\u001b[1;32m     16\u001b[0m     \u001b[0;31m# If there are any electrodes that fit these criteria, add them to the elecs list\u001b[0m\u001b[0;34m\u001b[0m\u001b[0;34m\u001b[0m\u001b[0m\n\u001b[0;32m---> 17\u001b[0;31m     \u001b[0;32mif\u001b[0m \u001b[0melecs_warped\u001b[0m\u001b[0;34m[\u001b[0m\u001b[0;34m'elecmatrix'\u001b[0m\u001b[0;34m]\u001b[0m \u001b[0;34m!=\u001b[0m \u001b[0;34m[\u001b[0m\u001b[0;34m]\u001b[0m\u001b[0;34m:\u001b[0m\u001b[0;34m\u001b[0m\u001b[0m\n\u001b[0m\u001b[1;32m     18\u001b[0m         \u001b[0;32mprint\u001b[0m \u001b[0melecs_warped\u001b[0m\u001b[0;34m[\u001b[0m\u001b[0;34m'elecmatrix'\u001b[0m\u001b[0;34m]\u001b[0m\u001b[0;34m.\u001b[0m\u001b[0mshape\u001b[0m\u001b[0;34m\u001b[0m\u001b[0m\n\u001b[1;32m     19\u001b[0m         \u001b[0melecs\u001b[0m\u001b[0;34m.\u001b[0m\u001b[0mappend\u001b[0m\u001b[0;34m(\u001b[0m\u001b[0melecs_warped\u001b[0m\u001b[0;34m[\u001b[0m\u001b[0;34m'elecmatrix'\u001b[0m\u001b[0;34m]\u001b[0m\u001b[0;34m)\u001b[0m\u001b[0;34m\u001b[0m\u001b[0m\n",
      "\u001b[0;31mTypeError\u001b[0m: 'NoneType' object has no attribute '__getitem__'"
     ]
    }
   ],
   "source": [
    "# Plot the atlas brain\n",
    "template = 'cvs_avg35_inMNI152'\n",
    "atlas_patient = img_pipe.freeCoG(subj = template, hem='lh',\\\n",
    "                                 subj_dir = '/Users/liberty/dura_mount/data_store2/imaging/subjects')\n",
    "\n",
    "roi = atlas_patient.roi('pial', opacity=0.5)\n",
    "mesh, points, mlab = atlas_patient.plot_brain(rois = [roi], showfig=False)\n",
    "\n",
    "# Now get all the STG electrodes from the patients who did this task\n",
    "elecs = []\n",
    "for s in task_patients:\n",
    "    print s\n",
    "    patient = img_pipe.freeCoG(subj = s, hem = 'stereo',\\\n",
    "                               subj_dir = '/Users/liberty/dura_mount/data_store2/imaging/subjects')\n",
    "    # Find the warped electrodes in STG\n",
    "    elecs_warped = patient.get_elecs(elecfile_prefix='TDT_elecs_all_warped', roi='superiortemporal')\n",
    "    #elecs_warped =  patient.get_elecs(elecfile_prefix='%s_to_cvs_avg35_inMNI152'%s)\n",
    "    # If there are any electrodes that fit these criteria, add them to the elecs list\n",
    "    if elecs_warped['elecmatrix'] != []:\n",
    "        print elecs_warped['elecmatrix'].shape\n",
    "        elecs.append(elecs_warped['elecmatrix'])\n",
    "\n",
    "elecmatrix = np.concatenate(elecs, axis=0)\n",
    "# Add all the electrodes to the surface mesh\n",
    "el_add(elecmatrix)    \n",
    "\n",
    "# Render the mayavi window\n",
    "mlab.show()"
   ]
  },
  {
   "cell_type": "code",
   "execution_count": null,
   "metadata": {
    "collapsed": false
   },
   "outputs": [],
   "source": []
  }
 ],
 "metadata": {
  "anaconda-cloud": {},
  "kernelspec": {
   "display_name": "Python 2",
   "language": "python",
   "name": "python2"
  },
  "language_info": {
   "codemirror_mode": {
    "name": "ipython",
    "version": 2
   },
   "file_extension": ".py",
   "mimetype": "text/x-python",
   "name": "python",
   "nbconvert_exporter": "python",
   "pygments_lexer": "ipython2",
   "version": "2.7.12"
  }
 },
 "nbformat": 4,
 "nbformat_minor": 2
}
