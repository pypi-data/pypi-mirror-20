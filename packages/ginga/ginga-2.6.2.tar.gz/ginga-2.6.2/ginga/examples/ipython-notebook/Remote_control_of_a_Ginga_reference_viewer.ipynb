{
 "metadata": {
  "name": ""
 },
 "nbformat": 3,
 "nbformat_minor": 0,
 "worksheets": [
  {
   "cells": [
    {
     "cell_type": "code",
     "collapsed": false,
     "input": [
      "from ginga import __version__\n",
      "__version__"
     ],
     "language": "python",
     "metadata": {},
     "outputs": [
      {
       "metadata": {},
       "output_type": "pyout",
       "prompt_number": 118,
       "text": [
        "'2.5.20160408100758'"
       ]
      }
     ],
     "prompt_number": 118
    },
    {
     "cell_type": "code",
     "collapsed": false,
     "input": [
      "# import ginga remote control module\n",
      "from ginga.util import grc"
     ],
     "language": "python",
     "metadata": {},
     "outputs": [],
     "prompt_number": 7
    },
    {
     "cell_type": "markdown",
     "metadata": {},
     "source": [
      "Start up the reference viewer *and invoke the \"RC\" (Remote Control) plugin from the \"Plugins\" menu*"
     ]
    },
    {
     "cell_type": "code",
     "collapsed": false,
     "input": [
      "# for debugging\n",
      "reload(grc)"
     ],
     "language": "python",
     "metadata": {},
     "outputs": [
      {
       "metadata": {},
       "output_type": "pyout",
       "prompt_number": 119,
       "text": [
        "<module 'ginga.util.grc' from '/home/eric/Git/Ginga/ginga/util/grc.py'>"
       ]
      }
     ],
     "prompt_number": 119
    },
    {
     "cell_type": "code",
     "collapsed": false,
     "input": [
      "# host and port parameters can be set in the graphical ui of the plugin.\n",
      "# These are the defaults\n",
      "viewer = grc.RemoteClient('localhost', 9000)"
     ],
     "language": "python",
     "metadata": {},
     "outputs": [],
     "prompt_number": 120
    },
    {
     "cell_type": "code",
     "collapsed": false,
     "input": [
      "# This gives you a handle to the reference viewer shell.\n",
      "# It is similar to what you can do from the command line with:\n",
      "#    $ grc ginga ...\n",
      "#\n",
      "shell = viewer.shell()"
     ],
     "language": "python",
     "metadata": {},
     "outputs": [],
     "prompt_number": 121
    },
    {
     "cell_type": "code",
     "collapsed": false,
     "input": [
      "# If you get a lot of errors when you run this, it might be because you didn't start\n",
      "# the RC plugin in the viewer\n",
      "shell.add_channel('Messier')"
     ],
     "language": "python",
     "metadata": {},
     "outputs": [
      {
       "metadata": {},
       "output_type": "pyout",
       "prompt_number": 123,
       "text": [
        "'#UNDEFINED'"
       ]
      }
     ],
     "prompt_number": 123
    },
    {
     "cell_type": "code",
     "collapsed": false,
     "input": [
      "# This gives you a handle to a reference viewer channel.\n",
      "# It is similar to what you can do from the command line with:\n",
      "#    $ grc channel ...\n",
      "#\n",
      "ch = viewer.channel('Messier')"
     ],
     "language": "python",
     "metadata": {},
     "outputs": [],
     "prompt_number": 124
    },
    {
     "cell_type": "code",
     "collapsed": false,
     "input": [
      "# example of loading an HDU from an astropy HDUlist\n",
      "# parameters are (image_name, channel_name, hdulist, hdulist_key)\n",
      "#\n",
      "from astropy.io import fits\n",
      "hdulist = fits.open(\"/home/eric/testdata/SPCAM/SUPA01118766.fits\", \"readonly\")\n",
      "ch.load_hdu(\"M27\", hdulist, 0)"
     ],
     "language": "python",
     "metadata": {},
     "outputs": [
      {
       "metadata": {},
       "output_type": "pyout",
       "prompt_number": 125,
       "text": [
        "0"
       ]
      }
     ],
     "prompt_number": 125
    },
    {
     "cell_type": "code",
     "collapsed": false,
     "input": [
      "# example\n",
      "shell.zoom_in()"
     ],
     "language": "python",
     "metadata": {},
     "outputs": [
      {
       "metadata": {},
       "output_type": "pyout",
       "prompt_number": 126,
       "text": [
        "True"
       ]
      }
     ],
     "prompt_number": 126
    },
    {
     "cell_type": "code",
     "collapsed": false,
     "input": [
      "ch.set_color_map('rainbow3')"
     ],
     "language": "python",
     "metadata": {},
     "outputs": [
      {
       "metadata": {},
       "output_type": "pyout",
       "prompt_number": 127,
       "text": [
        "'#UNDEFINED'"
       ]
      }
     ],
     "prompt_number": 127
    },
    {
     "cell_type": "code",
     "collapsed": false,
     "input": [
      "# example of loading numpy arrays directly\n",
      "# parameters are (image_name, channel_name, array, image_type, header_dict)\n",
      "#\n",
      "import numpy as np\n",
      "data_np = np.random.randint(0, 2000, (512, 512))\n",
      "ch.load_np(\"image\", data_np, 'fits', {})"
     ],
     "language": "python",
     "metadata": {},
     "outputs": [
      {
       "metadata": {},
       "output_type": "pyout",
       "prompt_number": 128,
       "text": [
        "0"
       ]
      }
     ],
     "prompt_number": 128
    },
    {
     "cell_type": "code",
     "collapsed": false,
     "input": [],
     "language": "python",
     "metadata": {},
     "outputs": []
    }
   ],
   "metadata": {}
  }
 ]
}