{
  "nbformat_minor": 0, 
  "nbformat": 4, 
  "cells": [
    {
      "execution_count": null, 
      "cell_type": "code", 
      "source": [
        "%matplotlib inline"
      ], 
      "outputs": [], 
      "metadata": {
        "collapsed": false
      }
    }, 
    {
      "source": [
        "\n==================\nzt-plots.\n==================\n\nThis example shows how to create a zt-plot of a given DU and event ID.\n\n"
      ], 
      "cell_type": "markdown", 
      "metadata": {}
    }, 
    {
      "execution_count": null, 
      "cell_type": "code", 
      "source": [
        "# Author: Tamas Gal <tgal@km3net.de>\n# License: BSD-3\n\nimport pandas as pd\nimport matplotlib.pyplot as plt\nimport km3pipe as kp\nimport km3pipe.style\nkm3pipe.style.use('default')\n\n\nDU = 26\nEVENT_ID = 23\nfilename = \"data/km3net_jul13_90m_muatm50T655.km3_v5r1.JTE_r2356.root.0-499.h5\"\ngeometry = kp.Geometry(filename=\"data/km3net_jul13_90m_r1494_corrected.detx\")\n\nall_hits = pd.read_hdf(filename, 'hits')\nhits = all_hits[all_hits.event_id == EVENT_ID].copy()\ngeometry.apply(hits)\n\nfig, ax = plt.subplots()\n\nhits[hits['du'] == DU].plot('time', 'pos_z', style='.', ax=ax, label='hits')\ntriggered_hits = hits[(hits['du'] == DU) & (hits['triggered'] == True)]\ntriggered_hits.plot('time', 'pos_z', style='.', ax=ax, label='triggered hits')\n\nax.set_title(\"zt-plot of event {0} on DU{1}\".format(EVENT_ID, DU))\nax.set_xlabel(\"time [ns]\")\nax.set_ylabel(\"z [m]\")"
      ], 
      "outputs": [], 
      "metadata": {
        "collapsed": false
      }
    }
  ], 
  "metadata": {
    "kernelspec": {
      "display_name": "Python 2", 
      "name": "python2", 
      "language": "python"
    }, 
    "language_info": {
      "mimetype": "text/x-python", 
      "nbconvert_exporter": "python", 
      "name": "python", 
      "file_extension": ".py", 
      "version": "2.7.10", 
      "pygments_lexer": "ipython2", 
      "codemirror_mode": {
        "version": 2, 
        "name": "ipython"
      }
    }
  }
}