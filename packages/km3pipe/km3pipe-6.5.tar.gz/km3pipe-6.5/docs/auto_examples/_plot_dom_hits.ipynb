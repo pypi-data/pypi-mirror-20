{
  "nbformat_minor": 0, 
  "nbformat": 4, 
  "cells": [
    {
      "execution_count": null, 
      "cell_type": "code", 
      "source": [
        "%matplotlib inline"
      ], 
      "outputs": [], 
      "metadata": {
        "collapsed": false
      }
    }, 
    {
      "source": [
        "\n==================\nDOM hits.\n==================\n\nEstimate track/DOM distances using the number of hits per DOM.\n\n"
      ], 
      "cell_type": "markdown", 
      "metadata": {}
    }, 
    {
      "execution_count": null, 
      "cell_type": "code", 
      "source": [
        "# Author: Tamas Gal <tgal@km3net.de>\n# License: BSD-3\n\nfrom collections import defaultdict, Counter\n\nimport km3pipe as kp\nimport pandas as pd\n\nimport matplotlib.pyplot as plt\nfrom matplotlib.colors import LogNorm\n\nfrom km3modules import StatusBar\nfrom km3pipe.tools import pld3\nimport km3pipe.style\n\nkm3pipe.style.use('default')\n\n\nfilename = \"data/km3net_jul13_90m_muatm50T655.km3_v5r1.JTE_r2356.root.0-499.h5\"\ngeo = kp.Geometry(filename=\"data/km3net_jul13_90m_r1494_corrected.detx\")\n\n\ndef filter_muons(blob):\n    \"\"\"Write all muons from McTracks to Muons.\"\"\"\n    tracks = blob['McTracks']\n    muons = [t for t in blob['McTracks'] if t.type == 5]\n    blob[\"Muons\"] = kp.dataclasses.TrackSeries(muons, tracks.event_id)\n    return blob\n\n\nclass DOMHits(kp.Module):\n    \"\"\"Create histogram with n_hits and distance of hit to track.\"\"\"\n    def configure(self):\n        self.hit_statistics = defaultdict(list)\n\n    def process(self, blob):\n        hits = blob['Hits']\n        muons = blob['Muons']\n\n        highest_energetic_muon = max(muons, key=lambda x: x.energy)\n        muon = highest_energetic_muon\n\n        triggered_hits = hits.triggered_hits\n        dom_hits = Counter(triggered_hits.dom_id)\n        for dom_id, n_hits in dom_hits.items():\n            distance = pld3(geo.detector.dom_positions[dom_id],\n                            muon.pos,\n                            muon.dir)\n            self.hit_statistics['n_hits'].append(n_hits)\n            self.hit_statistics['distance'].append(distance)\n        return blob\n\n    def finish(self):\n        df = pd.DataFrame(self.hit_statistics)\n        sdf = df[(df['distance'] < 200) & (df['n_hits'] < 50)]\n        plt.hist2d(sdf['distance'], sdf['n_hits'], cmap='plasma',\n                   bins=(max(sdf['distance'])-1, max(sdf['n_hits'])-1),\n                   norm=LogNorm())\n        plt.xlabel('Distance between hit and muon track [m]')\n        plt.ylabel('Number of hits on DOM')\n        plt.show()\n\n\npipe = kp.Pipeline()\npipe.attach(kp.io.HDF5Pump, filename=filename)\npipe.attach(StatusBar, every=100)\npipe.attach(filter_muons)\npipe.attach(DOMHits)\npipe.drain()"
      ], 
      "outputs": [], 
      "metadata": {
        "collapsed": false
      }
    }
  ], 
  "metadata": {
    "kernelspec": {
      "display_name": "Python 2", 
      "name": "python2", 
      "language": "python"
    }, 
    "language_info": {
      "mimetype": "text/x-python", 
      "nbconvert_exporter": "python", 
      "name": "python", 
      "file_extension": ".py", 
      "version": "2.7.10", 
      "pygments_lexer": "ipython2", 
      "codemirror_mode": {
        "version": 2, 
        "name": "ipython"
      }
    }
  }
}