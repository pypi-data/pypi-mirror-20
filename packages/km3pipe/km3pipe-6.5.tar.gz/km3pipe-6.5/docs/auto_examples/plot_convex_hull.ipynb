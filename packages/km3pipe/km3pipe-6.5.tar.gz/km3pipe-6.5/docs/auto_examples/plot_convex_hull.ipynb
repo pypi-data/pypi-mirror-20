{
  "nbformat": 4,
  "metadata": {
    "language_info": {
      "mimetype": "text/x-python",
      "nbconvert_exporter": "python",
      "version": "3.5.2",
      "name": "python",
      "pygments_lexer": "ipython3",
      "codemirror_mode": {
        "name": "ipython",
        "version": 3
      },
      "file_extension": ".py"
    },
    "kernelspec": {
      "name": "python3",
      "language": "python",
      "display_name": "Python 3"
    }
  },
  "nbformat_minor": 0,
  "cells": [
    {
      "execution_count": null,
      "metadata": {
        "collapsed": false
      },
      "source": [
        "%matplotlib inline"
      ],
      "outputs": [],
      "cell_type": "code"
    },
    {
      "metadata": {},
      "source": [
        "\n# Convex Hull\n\n\nConvex hull of a random set of points.\n\nLifted from ``scipy.spatial.qhull.pyx``.\n\n"
      ],
      "cell_type": "markdown"
    },
    {
      "execution_count": null,
      "metadata": {
        "collapsed": false
      },
      "source": [
        "import numpy as np\nfrom scipy.spatial import ConvexHull\nimport matplotlib.pyplot as plt\n\nimport km3pipe.style\nkm3pipe.style.use('default')\n\npoints = np.random.rand(30, 2)   # 30 random points in 2-D\nhull = ConvexHull(points)"
      ],
      "outputs": [],
      "cell_type": "code"
    },
    {
      "metadata": {},
      "source": [
        "Plot it:\n\n"
      ],
      "cell_type": "markdown"
    },
    {
      "execution_count": null,
      "metadata": {
        "collapsed": false
      },
      "source": [
        "plt.plot(points[:,0], points[:,1], 'o')\nfor simplex in hull.simplices:\n    plt.plot(points[simplex, 0], points[simplex, 1], 'k-')"
      ],
      "outputs": [],
      "cell_type": "code"
    },
    {
      "metadata": {},
      "source": [
        "We could also have directly used the vertices of the hull, which\nfor 2-D are guaranteed to be in counterclockwise order:\n\n"
      ],
      "cell_type": "markdown"
    },
    {
      "execution_count": null,
      "metadata": {
        "collapsed": false
      },
      "source": [
        "plt.plot(points[hull.vertices,0], points[hull.vertices,1], 'r--', lw=2)\nplt.plot(points[hull.vertices[0],0], points[hull.vertices[0],1], 'ro')\nplt.show()"
      ],
      "outputs": [],
      "cell_type": "code"
    }
  ]
}