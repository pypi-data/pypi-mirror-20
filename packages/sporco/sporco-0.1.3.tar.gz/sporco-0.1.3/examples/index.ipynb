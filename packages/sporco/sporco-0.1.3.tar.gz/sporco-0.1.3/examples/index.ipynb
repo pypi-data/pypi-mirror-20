{
 "cells": [
  {
   "cell_type": "markdown",
   "metadata": {},
   "source": [
    "# Jupyter Notebook SPORCO Usage Examples"
   ]
  },
  {
   "cell_type": "markdown",
   "metadata": {},
   "source": [
    "## Standard sparse representations"
   ]
  },
  {
   "cell_type": "markdown",
   "metadata": {},
   "source": [
    "- [Standard sparse coding](stdsparse/demo_bpdn.ipynb)\n",
    "- [Standard sparse coding with joint sparsity](stdsparse/demo_bpdnjnt.ipynb)"
   ]
  },
  {
   "cell_type": "markdown",
   "metadata": {},
   "source": [
    "## Convolutional sparse representations"
   ]
  },
  {
   "cell_type": "markdown",
   "metadata": {},
   "source": [
    "- [Convolutional sparse coding (greyscale image)](cnvsparse/demo_cbpdn_gry.ipynb)  \n",
    "- [Convolutional sparse coding (colour image, greyscale dictionary)](cnvsparse/demo_cbpdn_clr_gd.ipynb)  \n",
    "- [Convolutional sparse coding (colour image, colour dictionary)](cnvsparse/demo_cbpdn_clr_cd.ipynb)"
   ]
  }
 ],
 "metadata": {
  "kernelspec": {
   "display_name": "Python 3",
   "language": "python",
   "name": "python3"
  },
  "language_info": {
   "codemirror_mode": {
    "name": "ipython",
    "version": 3
   },
   "file_extension": ".py",
   "mimetype": "text/x-python",
   "name": "python",
   "nbconvert_exporter": "python",
   "pygments_lexer": "ipython3",
   "version": "3.4.3"
  }
 },
 "nbformat": 4,
 "nbformat_minor": 2
}
