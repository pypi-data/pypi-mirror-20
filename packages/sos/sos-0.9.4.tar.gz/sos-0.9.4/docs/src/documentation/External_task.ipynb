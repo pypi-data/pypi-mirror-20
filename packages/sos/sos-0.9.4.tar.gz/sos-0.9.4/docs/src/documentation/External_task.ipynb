{
 "cells": [
  {
   "cell_type": "markdown",
   "metadata": {},
   "source": [
    "# Executing external tasks"
   ]
  },
  {
   "cell_type": "markdown",
   "metadata": {},
   "source": [
    "<font color='red'>This document is still under development.</font>"
   ]
  },
  {
   "cell_type": "markdown",
   "metadata": {},
   "source": [
    "## External `task`\n",
    "\n",
    "If a job is long and time consuming, it is much preferred to submit them as separate tasks to be executed, for example, on a cluster system. These jobs should be specified using the `task` keyword, which marks the beginning of a task, with optional runtime options to control its execution. For example,\n",
    "\n",
    "```\n",
    "[10]\n",
    "input: group_by='single'\n",
    "\n",
    "task: concurrent=True\n",
    "\n",
    "run('''\n",
    "samtools index {_input}\n",
    "''')\n",
    "```\n",
    "\n",
    "execute a shell script in parallel (with `concurrent=True`). The step process can consists of arbitrary python statements and execute multiple step actions. For example,\n",
    "\n",
    "```python\n",
    "task:\n",
    "try:\n",
    "   action1()\n",
    "except RuntimeError:\n",
    "   action2()\n",
    "```\n",
    "\n",
    "execute `action1` and `action2` if `action1` raises an error.\n",
    "\n",
    "```python\n",
    "task:\n",
    "for par in ['-4', '-6']:\n",
    "   run('command with ${par}')\n",
    "```\n",
    "\n",
    "executes commands in a loop. This is similar to\n",
    "\n",
    "```\n",
    "pars = ['-4', '-6']\n",
    "input: for_each=pars\n",
    "task:\n",
    "run('command with ${_pars}')\n",
    "```\n",
    "\n",
    "but the `for` loop version would not be able to be executed in parallel. Note that SoS actions can be used outside of `step process` but only statements specified after the `process` keyword can have runtime options and be executed in separate processes. That is to say,\n",
    "\n",
    "```\n",
    "pars = ['-4', '-6']\n",
    "input: for_each=pars\n",
    "run('command with ${_pars}')\n",
    "```\n",
    "\n",
    "is equivalent to\n",
    "\n",
    "```\n",
    "pars = ['-4', '-6']\n",
    "input: for_each=pars\n",
    "task:\n",
    "run('command with ${_pars}')\n",
    "```\n",
    "\n",
    "but the latter can have additional runtime options to run commands in parallel\n",
    "\n",
    "```\n",
    "pars = ['-4', '-6']\n",
    "input: for_each=pars\n",
    "task: concurrent=True\n",
    "run('command with ${_pars}')\n",
    "```\n",
    "\n",
    "Because step tasks are executed outside of SoS, variables assigned in step tasks are not accessible to SoS. For example,\n",
    "\n",
    "```\n",
    "[10: shared='res']\n",
    "res = some_action()\n",
    "```\n",
    "\n",
    "executes `some_action()` in step process and return its result as a shared variable `res`. The following script,\n",
    "\n",
    "```\n",
    "[10: shared='res']\n",
    "task:\n",
    "res = some_action()\n",
    "```\n",
    "\n",
    "however, does not work because `res` is assigned in step task and is not accessible from the step."
   ]
  },
  {
   "cell_type": "markdown",
   "metadata": {},
   "source": [
    "### Option `workdir`\n",
    "\n",
    "Default to current working directory.\n",
    "\n",
    "Option `workdir` controls the working directory of the process. For example, the following step downloads a file to the `resource_dir` using command `wget`.\n",
    "\n",
    "```python\n",
    "[10]\n",
    "\n",
    "run: workdir=resource_dir\n",
    "\n",
    "  wget a_url -O filename\n",
    "\n",
    "```"
   ]
  },
  {
   "cell_type": "markdown",
   "metadata": {},
   "source": [
    "### Option `concurrent`\n",
    "\n",
    "Default to `False`.\n",
    "\n",
    "If the step process is repeated for different input files or parameters (using input options `group_by` or `for_each`), the loop process can be execute in parallel, up to the maximum number of concurrent jobs specified by command line option `-j`.\n",
    "\n",
    "### Option `env`\n",
    "\n",
    "The `env` option allow you to modify runtime environment, similar to the `env` parameter of the `subprocess.Popen` function. For example, you can execute your command with in a specific directory using\n",
    "\n",
    "```\n",
    "task:  env={'PATH': '/path/to/mycommand' + os.sep + os.environ['PATH']}\n",
    "run:\n",
    "   mycommand \n",
    "```"
   ]
  },
  {
   "cell_type": "markdown",
   "metadata": {},
   "source": [
    "### Option `prepend_path`\n",
    "\n",
    "Option `prepend_path` is a shortcut to option `env` to prepend one (a string) or more (a list of strings) paths to system path. For example, the above example can be shortened to\n",
    "\n",
    "```\n",
    "task:  prepend_path='/path/to/mycommand'\n",
    "run:\n",
    "   mycommand \n",
    "```"
   ]
  },
  {
   "cell_type": "markdown",
   "metadata": {},
   "source": [
    "### Option `walltime`"
   ]
  },
  {
   "cell_type": "code",
   "execution_count": null,
   "metadata": {
    "collapsed": true
   },
   "outputs": [],
   "source": []
  }
 ],
 "metadata": {
  "anaconda-cloud": {},
  "kernelspec": {
   "display_name": "SoS",
   "language": "sos",
   "name": "sos"
  },
  "language_info": {
   "codemirror_mode": "sos",
   "file_extension": ".sos",
   "mimetype": "text/x-sos",
   "name": "sos",
   "nbconvert_exporter": "sos.jupyter.converter.SoS_Exporter",
   "pygments_lexer": "sos"
  },
  "toc": {
   "nav_menu": {
    "height": "172px",
    "width": "254px"
   },
   "navigate_menu": true,
   "number_sections": true,
   "sideBar": true,
   "threshold": 4,
   "toc_cell": false,
   "toc_section_display": "block",
   "toc_window_display": false
  }
 },
 "nbformat": 4,
 "nbformat_minor": 1
}
