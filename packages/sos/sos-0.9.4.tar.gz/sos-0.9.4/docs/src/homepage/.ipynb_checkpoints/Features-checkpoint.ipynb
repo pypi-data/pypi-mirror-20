{
 "cells": [
  {
   "cell_type": "markdown",
   "metadata": {},
   "source": [
    "# A Highly Readable Multi-Script Format"
   ]
  },
  {
   "cell_type": "markdown",
   "metadata": {},
   "source": [
    "The SoS format is highly readable with almost verbatim inclusion of scripts in other languages. Anyone, including those who have no idea about the SoS language, would be able to read and modify workflows written in SoS format. This makes SoS an idea tool for the sharing of workflows with others, and for the creation of workflows that would be frequently updated for newer versions of tools.\n",
    "\n",
    "![sos_multi_script.png](../media/sos_multi_script.png)"
   ]
  },
  {
   "cell_type": "markdown",
   "metadata": {
    "collapsed": true
   },
   "source": [
    "# Multi-Kernel Jupyter Notebook"
   ]
  },
  {
   "cell_type": "markdown",
   "metadata": {},
   "source": [
    "As an **interactive environment** and **notebook tool** that promotes [literate programming](https://en.wikipedia.org/wiki/Literate_programming), SoS\n",
    "allows you to perform and record your analysis in different languages in a single [Jupyter notebook](http://jupyter.org/), with seamless integration\n",
    "of multiple Jupyter kernels (e.g. python, and [R](https://github.com/IRkernel/IRkernel)).\n",
    "\n",
    "![sos_multi_kernel.png](../media/sos_multi_kernel.png)"
   ]
  },
  {
   "cell_type": "markdown",
   "metadata": {},
   "source": [
    "# Mixed Style Workflows\n",
    "\n",
    "SoS follows your definition of workflow that allows you to define workflows in both foward and makefile style, even a mixture of both. More specifically, you can define workflows as ordered steps that would be executed sequentially step by step to process specified input files; or as a set of makefile-style rules that would be executed to generated specified output files; or as a sequence of steps with help from makefile-style steps. SoS automatically analyzes the input and output of steps and execute workflows using a dynamic DAG (Directed Acyclic Graph) that would be expanded and shrinked during the execution.\n",
    "\n",
    "![sos_forward_and_backward.png](doc/media/sos_forward_and_backword.png)"
   ]
  },
  {
   "cell_type": "markdown",
   "metadata": {},
   "source": [
    "# Highly Intelligent Runtime Signature System"
   ]
  },
  {
   "cell_type": "markdown",
   "metadata": {},
   "source": [
    "SoS separate the execution of workflows as individual **execution units** and record the signature of the execution units during the execution of the workflow. A highly intelligent signature system will ignore execution units if they have been executed and are being re-executed with identical input, output, dependent files, user parameters, and even environment variables. The execution units are indepedent of workflows so some steps of your workflow could be ignored if they have been executed by another workflow.\n",
    "\n",
    "![sos_signature.png](doc/media/sos_signature.png)"
   ]
  },
  {
   "cell_type": "markdown",
   "metadata": {},
   "source": [
    "# Powerful Tool without Steep Learning Curve"
   ]
  },
  {
   "cell_type": "markdown",
   "metadata": {},
   "source": [
    "SoS is very easy to learn so that you can start using it in minutes without having to learn any of the advanced features. As demonstrated in our [Quick Start Guide](doc/tutorials/Quick_Start_Guide.html), you can easily consolidate your scripts into an executable workflow using SoS and add more features to the script step by step if necessary. The multi-kernel feature of the Jupyter notebook is also easy to use with only two magics to remember.\n",
    "\n",
    "![sos_learning_curse.png](doc/media/sos_learning_curve.png)"
   ]
  },
  {
   "cell_type": "markdown",
   "metadata": {},
   "source": [
    "# For PC, Cluster, and Cloud\n",
    "\n",
    "SoS is released under a [GPL 3 license](https://www.gnu.org/licenses/gpl-3.0.en.html) and is available for Mac OSX, Linux, and Windows operating systems. SoS provides an interactive environment for interactive data analysis on your PC. With just a few additional steps, your script can be transformed to a workflow that deals with different input files and different processing logics, and can be run in batch mode on a cluster system or in a cloud environment.\n",
    "\n",
    "![sos_on_cluster.png](doc/media/sos_on_clouster.png)"
   ]
  },
  {
   "cell_type": "markdown",
   "metadata": {},
   "source": [
    "# An Open and Extensible Framework\n",
    "\n",
    "SoS is open source and provides [an API](Extending_SoS.html) to work with aribitrary languages. Its data-exchange model allows the exachange of arbitrary data types between languages with results in native data types. If your favoriate language is not yet support and you are familiar with Python, feel free to add it to SoS. \n",
    "\n",
    "![sos_supported_languages.png](doc/sos_supported_languages.png)"
   ]
  }
 ],
 "metadata": {
  "anaconda-cloud": {},
  "kernelspec": {
   "display_name": "SoS",
   "language": "sos",
   "name": "sos"
  },
  "language_info": {
   "codemirror_mode": "sos",
   "file_extension": ".sos",
   "mimetype": "text/x-sos",
   "name": "sos",
   "nbconvert_exporter": "sos.jupyter.converter.SoS_Exporter",
   "pygments_lexer": "sos"
  },
  "toc": {
   "colors": {
    "hover_highlight": "#DAA520",
    "running_highlight": "#FF0000",
    "selected_highlight": "#FFD700"
   },
   "moveMenuLeft": true,
   "nav_menu": {
    "height": "45px",
    "width": "254px"
   },
   "navigate_menu": true,
   "number_sections": true,
   "sideBar": true,
   "threshold": 4,
   "toc_cell": false,
   "toc_section_display": "block",
   "toc_window_display": false
  }
 },
 "nbformat": 4,
 "nbformat_minor": 2
}
