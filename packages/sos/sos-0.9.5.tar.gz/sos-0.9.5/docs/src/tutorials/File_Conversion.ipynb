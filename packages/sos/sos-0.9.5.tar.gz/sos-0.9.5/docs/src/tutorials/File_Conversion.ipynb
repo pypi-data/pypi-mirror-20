{
 "cells": [
  {
   "cell_type": "markdown",
   "metadata": {},
   "source": [
    "# Conversion of SoS files"
   ]
  },
  {
   "cell_type": "markdown",
   "metadata": {},
   "source": [
    "The `sos convert` command allows you to convert from `.sos` to some other formats including `ipynb` (Jupyter notebook), `HTML` and `MD` (markdown), and from `.ipynb` to `.sos`. You can get a list of converters using command"
   ]
  },
  {
   "cell_type": "code",
   "execution_count": 1,
   "metadata": {
    "collapsed": false
   },
   "outputs": [
    {
     "name": "stdout",
     "output_type": "stream",
     "text": [
      "usage: sos convert [-h] [-v {0,1,2,3,4}]\n",
      "                   {sos-html,sos-md,sos-term,ipynb-sos,sos-ipynb} ...\n",
      "\n",
      "Converts .sos to various formats including .html for web display, to jupyter\n",
      "notebook (.ipynb), and to terminal for syntax highlighted viewing on terminal.\n",
      "It also allows converting from jupyter notebook (.ipynb) to sos script (.sos).\n",
      "\n",
      "optional arguments:\n",
      "  -h, --help            show this help message and exit\n",
      "  -v {0,1,2,3,4}, --verbosity {0,1,2,3,4}\n",
      "                        Output error (0), warning (1), info (2), debug (3) and\n",
      "                        trace (4) information to standard output (default to\n",
      "                        2).\n",
      "\n",
      "converters (name of converter is not needed from command line):\n",
      "  {sos-html,sos-md,sos-term,ipynb-sos,sos-ipynb}\n",
      "    sos-html            Convert sos file to html format with syntax\n",
      "                        highlighting, and save the output either to a HTML\n",
      "                        file or view it in a broaser.\n",
      "    sos-md              Convert SOS scriot to a markdown format with scripts\n",
      "                        quoted in markdown syntax.\n",
      "    sos-term            Write script to terminal with syntax highlighting.\n",
      "    ipynb-sos           Export Jupyter notebook with a SoS kernel to a .sos\n",
      "                        file. The cells are presented in the .sos file as cell\n",
      "                        structure lines, which will be ignored if executed in\n",
      "                        batch mode\n",
      "    sos-ipynb           Convert a sos script to Jupyter notebook (.ipynb) so\n",
      "                        that it can be opened by Jupyter notebook.\n",
      "\n",
      "Extra command line argument could be specified to customize the style of html,\n",
      "markdown, and terminal output.\n"
     ]
    }
   ],
   "source": [
    "!sos convert -h"
   ]
  },
  {
   "cell_type": "markdown",
   "metadata": {},
   "source": [
    "## Command line interface"
   ]
  },
  {
   "cell_type": "markdown",
   "metadata": {},
   "source": [
    "The `convert` command uses file extension and an option `--to` to determine the converter to use, and allows you to convert to a file or print the output to standard output. For example, you can use command\n",
    "\n",
    "```\n",
    "% sos convert myscript.sos myscript.html\n",
    "```\n",
    "to convert a sos script to a HTML file, or\n",
    "```\n",
    "% sos convert myscript.sos --to html\n",
    "```\n",
    "to write the HTML file to standard output."
   ]
  },
  {
   "cell_type": "markdown",
   "metadata": {},
   "source": [
    "If you would like to know available parameters for a particular converter, you can use option `-h`"
   ]
  },
  {
   "cell_type": "code",
   "execution_count": 2,
   "metadata": {
    "collapsed": false
   },
   "outputs": [
    {
     "name": "stdout",
     "output_type": "stream",
     "text": [
      "usage: sos convert FILE.sos FILE.html (or --to html) [-h] [--raw RAW]\n",
      "                                                     [--style {colorful,bw,tango,algol_nu,igor,algol,manni,vs,perldoc,borland,paraiso-light,default,paraiso-dark,trac,native,emacs,murphy,rrt,monokai,xcode,fruity,autumn,lovelace,pastie,vim,friendly}]\n",
      "                                                     [--linenos] [-v]\n",
      "\n",
      "Convert sos file to html format with syntax highlighting, and save the output\n",
      "either to a HTML file or view it in a broaser.\n",
      "\n",
      "optional arguments:\n",
      "  -h, --help            show this help message and exit\n",
      "  --raw RAW             URL to the raw sos file, which will be linked to\n",
      "                        filenames in the HTML output\n",
      "  --style {colorful,bw,tango,algol_nu,igor,algol,manni,vs,perldoc,borland,paraiso-light,default,paraiso-dark,trac,native,emacs,murphy,rrt,monokai,xcode,fruity,autumn,lovelace,pastie,vim,friendly}\n",
      "                        Pygments style for the HTML output.\n",
      "  --linenos             Display lineno to the left of the source code\n",
      "  -v, --view            Open the output file in a broswer. In case no html\n",
      "                        file is specified, this option will display the HTML\n",
      "                        file in a browser, instead of writing its content to\n",
      "                        standard output.\n"
     ]
    }
   ],
   "source": [
    "!sos convert myscript.sos --to html -h"
   ]
  },
  {
   "cell_type": "markdown",
   "metadata": {},
   "source": [
    "## SoS -> HTML"
   ]
  },
  {
   "cell_type": "markdown",
   "metadata": {},
   "source": [
    "The `sos` to `html` converter converts `.sos` script to HTML format. It can be either written to a HTML file, or to standard output if option `--to html` is specified without a destination filename."
   ]
  },
  {
   "cell_type": "code",
   "execution_count": 3,
   "metadata": {
    "collapsed": false
   },
   "outputs": [
    {
     "name": "stderr",
     "output_type": "stream",
     "text": [
      "INFO: SoS script saved to update_toc.html\n"
     ]
    }
   ],
   "source": [
    "!sos convert ../examples/update_toc.sos update_toc.html"
   ]
  },
  {
   "cell_type": "markdown",
   "metadata": {},
   "source": [
    "The converter also accepts a number of parameters (as shown above). The `raw` parameter adds a URL to filename in the HTML file so that you can link to the raw `.sos` file from the `.html` output. The `linenos` adds line numbers, and `style` allows you to choose from a number of pre-specified styles. Finally, the `view` option would open the resulting HTML file in a browser.\n",
    "\n",
    "For example,\n",
    "```\n",
    "sos convert ../examples/update_toc.sos --to html --view --style xcode\n",
    "```\n",
    "would show a HTML file as \n",
    "\n",
    "![HTML output of update_toc.sos](../media/convert_html.png)"
   ]
  },
  {
   "cell_type": "markdown",
   "metadata": {},
   "source": [
    "## SoS -> ipynb"
   ]
  },
  {
   "cell_type": "markdown",
   "metadata": {},
   "source": [
    "You can convert an existing SoS script to the `.ipynb` format using command\n",
    "```\n",
    "$ sos convert myscript.sos myscript.ipynb\n",
    "```\n",
    "\n",
    "and open the resulting notebook from the web interface.\n",
    "\n",
    "The converter uses lines that starts with `%cell` to split a SoS script into cells of a Jupyter notebook. If you have a long script and would like to split it into several cells, you can manually insert `%cell` lines to a `.sos` script before conversion (which would be ignored in batch mode), or split the cells in Jupyter by selecting `Edit -> Split Cell`, or using a keyboard shortcut (`Cmd-Shift-\"-\"` under Mac)."
   ]
  },
  {
   "cell_type": "markdown",
   "metadata": {},
   "source": [
    "The resulting `.ipynb` files have only input code and markdown cells. However, you can execute the notebook from command line if you add an `-e` (or `--execute`) option to the converter. That is to say, if you execute\n",
    "\n",
    "```\n",
    "$ sos convert myscript.sos myscript.ipynb --execute\n",
    "```\n",
    "\n",
    "You would get a notebook with both input and output cells, as if you have opened the non-executed `ipynb` file and selected `Cell -> Run all`."
   ]
  },
  {
   "cell_type": "markdown",
   "metadata": {},
   "source": [
    "It is easy to convert a SoS script to `ipynb` format so that it can be opened from Jupyter notebook. However, without proper preparation, the entire script would appear in Jupyter notebook as a single cell. It would be helpful then to ed"
   ]
  },
  {
   "cell_type": "markdown",
   "metadata": {},
   "source": [
    "## SoS -> term"
   ]
  },
  {
   "cell_type": "markdown",
   "metadata": {},
   "source": [
    "You can print out a `.sos` script on to the terminal with syntax highlighting. For example, command\n",
    "\n",
    "```\n",
    "% sos convert ../examples/update_toc.sos --to term\n",
    "```\n",
    "would produce\n",
    "![Terminal output of script update_toc.sos](../media/convert_term.png) "
   ]
  },
  {
   "cell_type": "markdown",
   "metadata": {},
   "source": [
    "## SoS -> Markdown"
   ]
  },
  {
   "cell_type": "markdown",
   "metadata": {},
   "source": [
    "This converter is still in experimental stage and you are welcome to improve the style of output MD files."
   ]
  },
  {
   "cell_type": "markdown",
   "metadata": {},
   "source": [
    "## ipynb -> SoS\n",
    "\n",
    "You can save a Jupyter notebook with SoS kernel to a SoS script using `File -> Download As -> SoS` from the browser, or using command\n",
    "\n",
    "```\n",
    "$ sos convert myscript.ipynb myscript.sos\n",
    "```\n",
    "\n",
    "The conversion process will strip all results (which can be useful if you would like to version control your notebook without results) but keep cell information and SoS magics. **SoS files converted from Jupyter notebook might not be executable by the `sos` command in batch mode** if they contain SoS magics such as `%use R` because these are not supported by non-interactive execution of SoS scripts."
   ]
  },
  {
   "cell_type": "markdown",
   "metadata": {},
   "source": [
    "## ipynb -> HTML\n",
    "\n",
    "This command essentially calls command `jupyter nbconvert --to html` to convert notebook to HTML format.  "
   ]
  },
  {
   "cell_type": "markdown",
   "metadata": {},
   "source": [
    "## ipynb -> pdf\n",
    "This command essentially calls command `jupyter nbconvert --to pdf` to convert notebook to PDF format. "
   ]
  },
  {
   "cell_type": "markdown",
   "metadata": {
    "collapsed": true
   },
   "source": [
    "## ipynb -> md\n",
    "This command essentially calls command `jupyter nbconvert --to markdown` to convert notebook to Markdown format. "
   ]
  }
 ],
 "metadata": {
  "kernelspec": {
   "display_name": "SoS",
   "language": "sos",
   "name": "sos"
  },
  "language_info": {
   "codemirror_mode": "sos",
   "file_extension": ".sos",
   "mimetype": "text/x-sos",
   "name": "sos",
   "nbconvert_exporter": "sos.jupyter.converter.SoS_Exporter",
   "pygments_lexer": "sos"
  },
  "toc": {
   "nav_menu": {
    "height": "127px",
    "width": "254px"
   },
   "navigate_menu": true,
   "number_sections": true,
   "sideBar": true,
   "threshold": 4,
   "toc_cell": false,
   "toc_section_display": "block",
   "toc_window_display": true
  }
 },
 "nbformat": 4,
 "nbformat_minor": 2
}
