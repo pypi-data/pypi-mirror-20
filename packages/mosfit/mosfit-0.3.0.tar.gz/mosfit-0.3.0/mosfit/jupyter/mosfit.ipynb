{
 "cells": [
  {
   "cell_type": "code",
   "execution_count": null,
   "metadata": {
    "collapsed": false,
    "scrolled": false
   },
   "outputs": [],
   "source": [
    "%matplotlib inline\n",
    "%config InlineBackend.figure_format='retina'\n",
    "\n",
    "import corner\n",
    "import json\n",
    "import matplotlib.pyplot as plt\n",
    "import numpy as np\n",
    "from tqdm import tqdm_notebook\n",
    "from collections import OrderedDict\n",
    "from mosfit.plotting import bandcolorf\n",
    "\n",
    "plt.rcParams[\"font.family\"] = \"serif\"\n",
    "\n",
    "with open('../products/walkers.json', 'r') as f:\n",
    "    data = json.loads(f.read())\n",
    "\n",
    "photo = data['photometry']\n",
    "model = data['models'][0]\n",
    "\n",
    "real_data = len([x for x in photo if 'magnitude' in x and 'realization' not in x]) > 0\n",
    "\n",
    "band_attr = ['band', 'instrument', 'system', 'bandset']\n",
    "band_list = list(set([tuple(x.get(y, '')\n",
    "                            for y in band_attr) for x in photo\n",
    "                            if 'magnitude' in x]))\n",
    "real_band_list = list(set([tuple(x.get(y, '')\n",
    "                                 for y in band_attr) for x in photo\n",
    "                                 if 'magnitude' in x and 'realization' not in x]))"
   ]
  },
  {
   "cell_type": "code",
   "execution_count": null,
   "metadata": {
    "collapsed": false
   },
   "outputs": [],
   "source": [
    "### User-defined options here\n",
    "# Comment out line below to include everything\n",
    "# inst_exclusive_list = ['LSST']\n",
    "\n",
    "fig = plt.figure(figsize=(12,6))\n",
    "used_bands = []\n",
    "for full_band in tqdm_notebook(band_list, desc='Photo', leave=False):\n",
    "    (band, inst, syst, bset) = full_band\n",
    "    try:\n",
    "        inst_exclusive_list\n",
    "    except:\n",
    "        pass\n",
    "    else:\n",
    "        if inst not in inst_exclusive_list:\n",
    "            continue\n",
    "    extra_nice = ', '.join(list(filter(None, OrderedDict.fromkeys((inst, syst, bset)).keys())))\n",
    "    nice_name = band + ((' [' + extra_nice + ']') if extra_nice else '')\n",
    "    for wi in range(1, len(model['realizations'])):\n",
    "        vec = [\n",
    "            (x['time'], x['magnitude']) for x in photo\n",
    "            if x.get('realization', None) == str(wi) and\n",
    "            tuple(x.get(y, '') for y in band_attr) == full_band]\n",
    "        if not len(vec):\n",
    "            continue\n",
    "        xs, ys = zip(*vec)\n",
    "        label = '' if full_band in used_bands or full_band in real_band_list else nice_name\n",
    "        plt.plot(xs, ys, c=bandcolorf(band), label=label, linewidth=0.5)\n",
    "        if label:\n",
    "            used_bands = list(set(used_bands + [full_band]))\n",
    "    if real_data:\n",
    "        for s in range(2):\n",
    "            if s == 0:\n",
    "                cond = False\n",
    "                symb = 'o'\n",
    "            else:\n",
    "                cond = True\n",
    "                symb = 'v'\n",
    "            vec = [(float(x['time']), float(x['magnitude']), float(x.get('e_magnitude', 0.0))) for x in photo\n",
    "                   if 'magnitude' in x and 'realization' not in x and\n",
    "                   'host' not in x and 'includeshost' not in x and\n",
    "                   x.get('upperlimit', False) == cond and\n",
    "                   tuple(x.get(y, '') for y in band_attr) == full_band]\n",
    "            if not len(vec):\n",
    "                continue\n",
    "            xs, ys, yes = zip(*vec)\n",
    "            label = nice_name if full_band not in used_bands else ''\n",
    "            plt.errorbar(xs, ys, yerr=yes, color=bandcolorf(band), fmt=symb,\n",
    "                         label=label,\n",
    "                         markeredgecolor='black', markeredgewidth=1, capsize=5,\n",
    "                         elinewidth=2, capthick=2, zorder=10)\n",
    "            plt.errorbar(xs, ys, yerr=yes, color='k', fmt=symb, capsize=6,\n",
    "                         elinewidth=3, capthick=3, zorder=5)\n",
    "            if label:\n",
    "                used_bands = list(set(used_bands + [full_band]))\n",
    "plt.gca().invert_yaxis()\n",
    "plt.gca().set_xlabel('MJD')\n",
    "plt.gca().set_ylabel('Apparent Magnitude')\n",
    "plt.margins(0.1,0.1)\n",
    "plt.legend()\n",
    "plt.show()\n",
    "fig.savefig('../products/lc.pdf')"
   ]
  },
  {
   "cell_type": "code",
   "execution_count": null,
   "metadata": {
    "collapsed": false
   },
   "outputs": [],
   "source": [
    "# Construct walker arrays for corner\n",
    "corner_input = []\n",
    "for realization in tqdm_notebook(model['realizations'], desc='Corner', leave=False):\n",
    "    pars = realization['parameters']\n",
    "    var_names = ['$' + ('\\\\log\\\\, ' if pars[x]['log'] else '') +\n",
    "                 pars[x]['latex'] + '$' for x in pars]\n",
    "    corner_input.append([np.log10(pars[x]['value']) if\n",
    "                         pars[x]['log'] else pars[x]['value'] for x in pars])\n",
    "cfig = corner.corner(corner_input, labels=var_names)\n",
    "cfig.savefig('../products/corner.pdf')"
   ]
  },
  {
   "cell_type": "code",
   "execution_count": null,
   "metadata": {
    "collapsed": false
   },
   "outputs": [],
   "source": []
  }
 ],
 "metadata": {
  "anaconda-cloud": {},
  "kernelspec": {
   "display_name": "Python 3",
   "language": "python",
   "name": "python3"
  },
  "language_info": {
   "codemirror_mode": {
    "name": "ipython",
    "version": 3
   },
   "file_extension": ".py",
   "mimetype": "text/x-python",
   "name": "python",
   "nbconvert_exporter": "python",
   "pygments_lexer": "ipython3",
   "version": "3.5.2"
  }
 },
 "nbformat": 4,
 "nbformat_minor": 0
}
