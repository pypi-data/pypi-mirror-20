{
  "nbformat": 4,
  "cells": [
    {
      "cell_type": "markdown",
      "source": "# Header",
      "metadata": {
        "slideshow": {
          "slide_type": "slide"
        }
      }
    },
    {
      "cell_type": "markdown",
      "source": "A paragraph.",
      "metadata": {
        "slideshow": {
          "slide_type": "slide"
        }
      }
    },
    {
      "cell_type": "markdown",
      "source": "Python code:",
      "metadata": {
        "ipymd": {
          "empty_meta": true
        }
      }
    },
    {
      "cell_type": "code",
      "source": "print(\"Hello world!\")",
      "execution_count": 1,
      "outputs": [
        {
          "data": {
            "text/plain": "Hello world!"
          },
          "execution_count": 1,
          "output_type": "execute_result",
          "metadata": {}
        }
      ],
      "metadata": {
        "slideshow": {
          "slide_type": "fragment"
        }
      }
    },
    {
      "cell_type": "markdown",
      "source": "JavaScript code:",
      "metadata": {
        "slideshow": {
          "slide_type": "skip"
        }
      }
    },
    {
      "cell_type": "markdown",
      "source": "```javascript\nconsole.log(\"Hello world!\");\n```",
      "metadata": {
        "slideshow": {
          "slide_type": "skip"
        }
      }
    }
  ],
  "metadata": {
    "title": "A Slideshow"
  },
  "nbformat_minor": 0
}
