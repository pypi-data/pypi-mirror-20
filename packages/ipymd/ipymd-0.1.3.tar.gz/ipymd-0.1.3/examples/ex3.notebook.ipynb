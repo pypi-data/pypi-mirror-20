{
  "nbformat": 4,
  "cells": [
    {
      "metadata": {
        "slideshow": {
          "slide_type": "slide"
        }
      },
      "cell_type": "markdown",
      "source": "# Header"
    },
    {
      "metadata": {
        "slideshow": {
          "slide_type": "slide"
        }
      },
      "cell_type": "markdown",
      "source": "A paragraph."
    },
    {
      "metadata": {
        "ipymd": {"empty_meta": true}
      },
      "cell_type": "markdown",
      "source": "Python code:"
    },
    {
      "outputs": [
        {
          "output_type": "execute_result",
          "metadata": {},
          "execution_count": 1,
          "data": {
            "text/plain": "Hello world!"
          }
        }
      ],
      "metadata": {
        "slideshow": {
          "slide_type": "fragment"
        }
      },
      "execution_count": 1,
      "cell_type": "code",
      "source": "print(\"Hello world!\")"
    },
    {
      "metadata": {
        "slideshow": {
          "slide_type": "skip"
        }
      },
      "cell_type": "markdown",
      "source": "JavaScript code:"
    },
    {
      "metadata": {
        "slideshow": {
          "slide_type": "skip"
        }
      },
      "cell_type": "markdown",
      "source": "```javascript\nconsole.log(\"Hello world!\");\n```"
    }
  ],
  "metadata": {},
  "nbformat_minor": 0
}
