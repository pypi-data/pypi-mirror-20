{
 "cells": [
  {
   "cell_type": "markdown",
   "metadata": {},
   "source": [
    "# Showing some of the dstoolbox features"
   ]
  },
  {
   "cell_type": "markdown",
   "metadata": {},
   "source": [
    "The purpose of this notebook is to demonstrate some of the features of `dstoolbox` using a toy dataset that contains different categories of features."
   ]
  },
  {
   "cell_type": "markdown",
   "metadata": {},
   "source": [
    "## Imports"
   ]
  },
  {
   "cell_type": "code",
   "execution_count": 1,
   "metadata": {
    "collapsed": true
   },
   "outputs": [],
   "source": [
    "from functools import partial\n",
    "import operator\n",
    "import random"
   ]
  },
  {
   "cell_type": "code",
   "execution_count": 2,
   "metadata": {
    "collapsed": false
   },
   "outputs": [],
   "source": [
    "import numpy as np\n",
    "import pandas as pd\n",
    "from sklearn.ensemble import RandomForestRegressor\n",
    "from sklearn.metrics import mean_squared_error\n",
    "from sklearn.preprocessing import FunctionTransformer\n",
    "from sklearn.preprocessing import PolynomialFeatures\n",
    "from sklearn.preprocessing import Imputer\n",
    "from sklearn.pipeline import Pipeline"
   ]
  },
  {
   "cell_type": "markdown",
   "metadata": {},
   "source": [
    "## Generate a toy dataset"
   ]
  },
  {
   "cell_type": "markdown",
   "metadata": {},
   "source": [
    "Here we create a fictitious dataset of pupils with the goal of predicting their grades based on their name, age, city of birth, and body height. The dataset contains a mixture of numerical and non-numerical features. Although holding such a dataset is not a problem for a `pandas` DataFrames, it is difficult to integrate it seamlessly with `scikit-learn`."
   ]
  },
  {
   "cell_type": "code",
   "execution_count": 3,
   "metadata": {
    "collapsed": true
   },
   "outputs": [],
   "source": [
    "np.random.seed(0)"
   ]
  },
  {
   "cell_type": "code",
   "execution_count": 4,
   "metadata": {
    "collapsed": true
   },
   "outputs": [],
   "source": [
    "NAMES = ['Alice', 'Bob', 'Charlie', 'Dora', 'Eve', 'Fenchurch', 'Guido']"
   ]
  },
  {
   "cell_type": "code",
   "execution_count": 5,
   "metadata": {
    "collapsed": true
   },
   "outputs": [],
   "source": [
    "CITIES = ['London', 'Paris', 'New York', 'Berlin', 'Warsaw', 'Vancouver', 'Amsterdam', 'Rome']"
   ]
  },
  {
   "cell_type": "code",
   "execution_count": 6,
   "metadata": {
    "collapsed": true
   },
   "outputs": [],
   "source": [
    "AGES = [6, 7, 8, 9, 10, np.nan]"
   ]
  },
  {
   "cell_type": "code",
   "execution_count": 7,
   "metadata": {
    "collapsed": true
   },
   "outputs": [],
   "source": [
    "def _yield_names(n):\n",
    "    for _ in range(n):\n",
    "        yield random.choice(NAMES)"
   ]
  },
  {
   "cell_type": "code",
   "execution_count": 8,
   "metadata": {
    "collapsed": true
   },
   "outputs": [],
   "source": [
    "def _yield_age(n):\n",
    "    for _ in range(n):\n",
    "        yield random.choice(AGES)"
   ]
  },
  {
   "cell_type": "code",
   "execution_count": 9,
   "metadata": {
    "collapsed": true
   },
   "outputs": [],
   "source": [
    "def _yield_city(n):\n",
    "    for _ in range(n):\n",
    "        yield random.choice(CITIES)"
   ]
  },
  {
   "cell_type": "code",
   "execution_count": 10,
   "metadata": {
    "collapsed": true
   },
   "outputs": [],
   "source": [
    "def _yield_height(n):\n",
    "    for _ in range(n):\n",
    "        yield 140 + 20 * random.random()"
   ]
  },
  {
   "cell_type": "code",
   "execution_count": 11,
   "metadata": {
    "collapsed": true
   },
   "outputs": [],
   "source": [
    "def make_data(n):\n",
    "    df = pd.DataFrame({\n",
    "        'name': list(_yield_names(n)),\n",
    "        'age': list(_yield_age(n)),\n",
    "        'city': list(_yield_city(n)),\n",
    "        'height': list(_yield_height(n)),\n",
    "    })\n",
    "    target = np.array([random.randint(0, 100) for _ in range(n)])\n",
    "    return df, target"
   ]
  },
  {
   "cell_type": "code",
   "execution_count": 12,
   "metadata": {
    "collapsed": false
   },
   "outputs": [],
   "source": [
    "df, y = make_data(100)\n"
   ]
  },
  {
   "cell_type": "code",
   "execution_count": 13,
   "metadata": {
    "collapsed": false,
    "scrolled": true
   },
   "outputs": [
    {
     "data": {
      "text/html": [
       "<div>\n",
       "<table border=\"1\" class=\"dataframe\">\n",
       "  <thead>\n",
       "    <tr style=\"text-align: right;\">\n",
       "      <th></th>\n",
       "      <th>age</th>\n",
       "      <th>city</th>\n",
       "      <th>height</th>\n",
       "      <th>name</th>\n",
       "    </tr>\n",
       "  </thead>\n",
       "  <tbody>\n",
       "    <tr>\n",
       "      <th>0</th>\n",
       "      <td>8.0</td>\n",
       "      <td>Berlin</td>\n",
       "      <td>158.994973</td>\n",
       "      <td>Alice</td>\n",
       "    </tr>\n",
       "    <tr>\n",
       "      <th>1</th>\n",
       "      <td>6.0</td>\n",
       "      <td>London</td>\n",
       "      <td>157.261123</td>\n",
       "      <td>Bob</td>\n",
       "    </tr>\n",
       "    <tr>\n",
       "      <th>2</th>\n",
       "      <td>8.0</td>\n",
       "      <td>Warsaw</td>\n",
       "      <td>153.257874</td>\n",
       "      <td>Dora</td>\n",
       "    </tr>\n",
       "    <tr>\n",
       "      <th>3</th>\n",
       "      <td>6.0</td>\n",
       "      <td>Berlin</td>\n",
       "      <td>155.748709</td>\n",
       "      <td>Guido</td>\n",
       "    </tr>\n",
       "    <tr>\n",
       "      <th>4</th>\n",
       "      <td>7.0</td>\n",
       "      <td>New York</td>\n",
       "      <td>159.245518</td>\n",
       "      <td>Guido</td>\n",
       "    </tr>\n",
       "  </tbody>\n",
       "</table>\n",
       "</div>"
      ],
      "text/plain": [
       "   age      city      height   name\n",
       "0  8.0    Berlin  158.994973  Alice\n",
       "1  6.0    London  157.261123    Bob\n",
       "2  8.0    Warsaw  153.257874   Dora\n",
       "3  6.0    Berlin  155.748709  Guido\n",
       "4  7.0  New York  159.245518  Guido"
      ]
     },
     "execution_count": 13,
     "metadata": {},
     "output_type": "execute_result"
    }
   ],
   "source": [
    "df.head()"
   ]
  },
  {
   "cell_type": "code",
   "execution_count": 14,
   "metadata": {
    "collapsed": false
   },
   "outputs": [
    {
     "data": {
      "text/plain": [
       "(100, 4)"
      ]
     },
     "execution_count": 14,
     "metadata": {},
     "output_type": "execute_result"
    }
   ],
   "source": [
    "df.shape"
   ]
  },
  {
   "cell_type": "code",
   "execution_count": 15,
   "metadata": {
    "collapsed": false
   },
   "outputs": [
    {
     "data": {
      "text/plain": [
       "array([23, 61, 45,  0, 66, 62, 57,  9, 16,  9])"
      ]
     },
     "execution_count": 15,
     "metadata": {},
     "output_type": "execute_result"
    }
   ],
   "source": [
    "y[:10]"
   ]
  },
  {
   "cell_type": "markdown",
   "metadata": {},
   "source": [
    "## Working with `dstoolbox`"
   ]
  },
  {
   "cell_type": "markdown",
   "metadata": {},
   "source": [
    "This part shows how we can get this dataset to work with `scikit-learn` thanks to `dstoolbox` features."
   ]
  },
  {
   "cell_type": "markdown",
   "metadata": {},
   "source": [
    "### Imports"
   ]
  },
  {
   "cell_type": "code",
   "execution_count": 16,
   "metadata": {
    "collapsed": true
   },
   "outputs": [],
   "source": [
    "from dstoolbox.pipeline import TimedPipeline\n",
    "from dstoolbox.pipeline import DataFrameFeatureUnion\n",
    "from dstoolbox.transformers import ItemSelector\n",
    "from dstoolbox.transformers import ParallelFunctionTransformer\n",
    "from dstoolbox.transformers import XLabelEncoder"
   ]
  },
  {
   "cell_type": "markdown",
   "metadata": {},
   "source": [
    "### Custom functions"
   ]
  },
  {
   "cell_type": "code",
   "execution_count": 17,
   "metadata": {
    "collapsed": true
   },
   "outputs": [],
   "source": [
    "def word_count_e(words):\n",
    "    return np.expand_dims(np.array([word.count('e') for word in words]), axis=1)"
   ]
  },
  {
   "cell_type": "code",
   "execution_count": 18,
   "metadata": {
    "collapsed": true
   },
   "outputs": [],
   "source": [
    "def word_len(words):\n",
    "    return np.expand_dims(np.array([len(word) for word in words]), axis=1)"
   ]
  },
  {
   "cell_type": "markdown",
   "metadata": {},
   "source": [
    "### Define the feature transformation step"
   ]
  },
  {
   "cell_type": "markdown",
   "metadata": {},
   "source": [
    "Here we will define a special FeatureUnion that takes `pandas` DataFrames as input and returns `pandas` DataFrames as output. Within this _DataFrameFeatureUnion_, we will make use of several other `dstoolbox` features that will facilitate the integration of DataFrames with `scikit-learn`."
   ]
  },
  {
   "cell_type": "code",
   "execution_count": 19,
   "metadata": {
    "collapsed": false
   },
   "outputs": [],
   "source": [
    "# Use dstoolbox's DataFrameFeatureUnion, which will return a DataFrame if all intermediate\n",
    "# transformation steps return either a pandas DataFrame or Series object.\n",
    "feature_union = DataFrameFeatureUnion([\n",
    "    # Now we define our feature set.\n",
    "\n",
    "    # A boolean feature, namely, whether age is below 9 years.\n",
    "    ('age_less_than_9', Pipeline([\n",
    "        # ItemSelector allows us to select a specific column from the DataFrame.\n",
    "        ('select_age', ItemSelector('age')),\n",
    "        # The column is 1d but sklearn expects features to be 2d. Therefore, we expand\n",
    "        # the array by adding 1 dimension. Note that we set 'validate=False' --\n",
    "        # otherwise, sklearn will complain because the data is a pandas Series.\n",
    "        ('to_ndarray', FunctionTransformer(partial(np.expand_dims, axis=1), validate=False)),\n",
    "        # Let's impute the NaN values.\n",
    "        ('impute_nan', Imputer(strategy='most_frequent')),\n",
    "        # This FunctionTransformer will return True if age is less than 9.\n",
    "        ('less_than_9', FunctionTransformer(partial(operator.lt, 9))),\n",
    "        # Finally, transform the data to a DataFrame with the name 'age_less_than_9'.\n",
    "        ('to_df', FunctionTransformer(partial(pd.DataFrame, columns=['age_less_than_9']))),\n",
    "    ])),\n",
    "        \n",
    "    # We also have city names; we want to encode those, treating them as categorical.\n",
    "    ('city_label_encoded', Pipeline([\n",
    "        ('select_city', ItemSelector('city')),\n",
    "        # Again, ItemSelector returns a Series, but we want a 2d array.\n",
    "        ('to_ndarray', FunctionTransformer(partial(np.expand_dims, axis=1), validate=False)),\n",
    "        # dstoolbox's XLabelEncoder is similar to sklearn's LabelEncoder but works on feature data.\n",
    "        ('encode', XLabelEncoder()),\n",
    "        # Again, let's transform the ndarray to a pandas DataFrame.\n",
    "        ('to_df', FunctionTransformer(partial(pd.DataFrame, columns=['city_label_encoded']))),\n",
    "    ])),\n",
    "        \n",
    "    # The height feature is fine, let's just take it as it is.\n",
    "    # Since the returned value is already a Series object, no need to transform it further.\n",
    "    ('raw_height', ItemSelector('height')),\n",
    "        \n",
    "    # Finally, we would like to derive 2 features based on the children's names.\n",
    "    # First is the length of the name, second the number of the letter 'e' in the name.\n",
    "    ('name_features', Pipeline([\n",
    "        ('select_name', ItemSelector('name')),\n",
    "        # We can nest several DataFrameFeatureUnions without a problem.\n",
    "        ('name_features', DataFrameFeatureUnion([\n",
    "            # Since determining the length and number of e's is an embarassingly parallel\n",
    "            # task, we use dstoolbox's ParallelFunctionTransformer instead of sklearn's\n",
    "            # FunctionTransformer.\n",
    "            # Notice that we did not use lambdas here, since those cannot be pickled.\n",
    "            ('length', ParallelFunctionTransformer(word_len, validate=False, n_jobs=2)),\n",
    "            ('count_e', ParallelFunctionTransformer(word_count_e, validate=False, n_jobs=2)),\n",
    "        ])),\n",
    "        # Again, transform the output into a DataFrame, this time with 2 columns.\n",
    "        ('to_df', FunctionTransformer(partial(pd.DataFrame, columns=['name_length', 'name_count_of_e']))),\n",
    "    ])),\n",
    "])"
   ]
  },
  {
   "cell_type": "markdown",
   "metadata": {},
   "source": [
    "### Look at the result"
   ]
  },
  {
   "cell_type": "markdown",
   "metadata": {},
   "source": [
    "We promised that we would get back a `pandas` DataFrame, here it is:"
   ]
  },
  {
   "cell_type": "code",
   "execution_count": 20,
   "metadata": {
    "collapsed": true
   },
   "outputs": [],
   "source": [
    "df_transformed = feature_union.fit_transform(df)"
   ]
  },
  {
   "cell_type": "code",
   "execution_count": 21,
   "metadata": {
    "collapsed": false
   },
   "outputs": [
    {
     "data": {
      "text/html": [
       "<div>\n",
       "<table border=\"1\" class=\"dataframe\">\n",
       "  <thead>\n",
       "    <tr style=\"text-align: right;\">\n",
       "      <th></th>\n",
       "      <th>age_less_than_9</th>\n",
       "      <th>city_label_encoded</th>\n",
       "      <th>height</th>\n",
       "      <th>name_length</th>\n",
       "      <th>name_count_of_e</th>\n",
       "    </tr>\n",
       "  </thead>\n",
       "  <tbody>\n",
       "    <tr>\n",
       "      <th>0</th>\n",
       "      <td>False</td>\n",
       "      <td>2</td>\n",
       "      <td>158.994973</td>\n",
       "      <td>5</td>\n",
       "      <td>1</td>\n",
       "    </tr>\n",
       "    <tr>\n",
       "      <th>1</th>\n",
       "      <td>False</td>\n",
       "      <td>3</td>\n",
       "      <td>157.261123</td>\n",
       "      <td>3</td>\n",
       "      <td>0</td>\n",
       "    </tr>\n",
       "    <tr>\n",
       "      <th>2</th>\n",
       "      <td>False</td>\n",
       "      <td>8</td>\n",
       "      <td>153.257874</td>\n",
       "      <td>4</td>\n",
       "      <td>0</td>\n",
       "    </tr>\n",
       "    <tr>\n",
       "      <th>3</th>\n",
       "      <td>False</td>\n",
       "      <td>2</td>\n",
       "      <td>155.748709</td>\n",
       "      <td>5</td>\n",
       "      <td>0</td>\n",
       "    </tr>\n",
       "    <tr>\n",
       "      <th>4</th>\n",
       "      <td>False</td>\n",
       "      <td>4</td>\n",
       "      <td>159.245518</td>\n",
       "      <td>5</td>\n",
       "      <td>0</td>\n",
       "    </tr>\n",
       "  </tbody>\n",
       "</table>\n",
       "</div>"
      ],
      "text/plain": [
       "  age_less_than_9  city_label_encoded      height  name_length  \\\n",
       "0           False                   2  158.994973            5   \n",
       "1           False                   3  157.261123            3   \n",
       "2           False                   8  153.257874            4   \n",
       "3           False                   2  155.748709            5   \n",
       "4           False                   4  159.245518            5   \n",
       "\n",
       "   name_count_of_e  \n",
       "0                1  \n",
       "1                0  \n",
       "2                0  \n",
       "3                0  \n",
       "4                0  "
      ]
     },
     "execution_count": 21,
     "metadata": {},
     "output_type": "execute_result"
    }
   ],
   "source": [
    "df_transformed.head()"
   ]
  },
  {
   "cell_type": "markdown",
   "metadata": {
    "collapsed": true
   },
   "source": [
    "### Full regression pipeline"
   ]
  },
  {
   "cell_type": "markdown",
   "metadata": {},
   "source": [
    "We want to use those features to train an sklearn RandomForestRegressor. For good measure, we also add polynomial features to the mix and put all the ingredients into a Pipeline:"
   ]
  },
  {
   "cell_type": "code",
   "execution_count": 22,
   "metadata": {
    "collapsed": true
   },
   "outputs": [],
   "source": [
    "pipeline = TimedPipeline([\n",
    "    ('features', feature_union),\n",
    "    ('polynomial', PolynomialFeatures()),\n",
    "    ('random_forest', RandomForestRegressor(n_estimators=100)),\n",
    "])"
   ]
  },
  {
   "cell_type": "markdown",
   "metadata": {},
   "source": [
    "As you probably noticed, we did not use a simple `sklearn` Pipeline. Instead, we use a `dstoolbox` TimedPipeline. This special pipeline works just as an `sklearn` Pipeline, except that it prints additional information about the time it took to step through the pipeline steps, and what shape the outcoming data has."
   ]
  },
  {
   "cell_type": "code",
   "execution_count": 23,
   "metadata": {
    "collapsed": false
   },
   "outputs": [
    {
     "name": "stdout",
     "output_type": "stream",
     "text": [
      "{\"name\": \"features\"                    , \"method\": \"fit_transform\"     , \"duration\":        0.349, \"shape\": \"100x5\"}\n",
      "{\"name\": \"polynomial\"                  , \"method\": \"fit\"               , \"duration\":        0.001, \"shape\": \"-\"}\n",
      "{\"name\": \"polynomial\"                  , \"method\": \"transform\"         , \"duration\":        0.001, \"shape\": \"100x21\"}\n",
      "{\"name\": \"polynomial\"                  , \"method\": \"fit_transform\"     , \"duration\":        0.003, \"shape\": \"100x21\"}\n",
      "{\"name\": \"random_forest\"               , \"method\": \"fit\"               , \"duration\":        0.151, \"shape\": \"-\"}\n"
     ]
    },
    {
     "data": {
      "text/plain": [
       "TimedPipeline(sink=<built-in function print>,\n",
       "       steps=[('features', DataFrameFeatureUnion(copy=True, ignore_index=True, n_jobs=1,\n",
       "           transformer_list=[('age_less_than_9', Pipeline(steps=[('select_age', ItemSelector(key='age')), ('to_ndarray', FunctionTransformer(accept_sparse=False,\n",
       "          func=functools.partial(<function expand_dims a...imators=100, n_jobs=1, oob_score=False, random_state=None,\n",
       "           verbose=0, warm_start=False))])"
      ]
     },
     "execution_count": 23,
     "metadata": {},
     "output_type": "execute_result"
    }
   ],
   "source": [
    "pipeline.fit(df, y)"
   ]
  },
  {
   "cell_type": "markdown",
   "metadata": {},
   "source": [
    "We immediately see that the generation of the features is the slowest step, followed by the model fit. Additionally, we see that we that the feature generation step produces 5 features, followed by 21 features after applying the polynomial fatures.\n",
    "\n",
    "This kind of information would be tricky to get without sklearn features alone."
   ]
  },
  {
   "cell_type": "code",
   "execution_count": 24,
   "metadata": {
    "collapsed": false
   },
   "outputs": [
    {
     "name": "stdout",
     "output_type": "stream",
     "text": [
      "{\"name\": \"features\"                    , \"method\": \"transform\"         , \"duration\":        0.329, \"shape\": \"100x5\"}\n",
      "{\"name\": \"polynomial\"                  , \"method\": \"transform\"         , \"duration\":        0.002, \"shape\": \"100x21\"}\n",
      "{\"name\": \"random_forest\"               , \"method\": \"predict\"           , \"duration\":        0.013, \"shape\": \"100\"}\n"
     ]
    }
   ],
   "source": [
    "y_pred = pipeline.predict(df)"
   ]
  },
  {
   "cell_type": "code",
   "execution_count": 25,
   "metadata": {
    "collapsed": false
   },
   "outputs": [
    {
     "data": {
      "text/plain": [
       "114.90231199999999"
      ]
     },
     "execution_count": 25,
     "metadata": {},
     "output_type": "execute_result"
    }
   ],
   "source": [
    "mean_squared_error(y, y_pred)"
   ]
  },
  {
   "cell_type": "markdown",
   "metadata": {},
   "source": [
    "We can now generate a test dataset to validate our model. As the targets are completely random, we will find that our model totally overfits:"
   ]
  },
  {
   "cell_type": "code",
   "execution_count": 26,
   "metadata": {
    "collapsed": true
   },
   "outputs": [],
   "source": [
    "df_test, y_test = make_data(100)"
   ]
  },
  {
   "cell_type": "code",
   "execution_count": 27,
   "metadata": {
    "collapsed": false
   },
   "outputs": [
    {
     "name": "stdout",
     "output_type": "stream",
     "text": [
      "{\"name\": \"features\"                    , \"method\": \"transform\"         , \"duration\":        0.331, \"shape\": \"100x5\"}\n",
      "{\"name\": \"polynomial\"                  , \"method\": \"transform\"         , \"duration\":        0.002, \"shape\": \"100x21\"}\n",
      "{\"name\": \"random_forest\"               , \"method\": \"predict\"           , \"duration\":        0.012, \"shape\": \"100\"}\n"
     ]
    }
   ],
   "source": [
    "y_pred = pipeline.predict(df_test)"
   ]
  },
  {
   "cell_type": "code",
   "execution_count": 28,
   "metadata": {
    "collapsed": false
   },
   "outputs": [
    {
     "data": {
      "text/plain": [
       "862.40673500000014"
      ]
     },
     "execution_count": 28,
     "metadata": {},
     "output_type": "execute_result"
    }
   ],
   "source": [
    "mean_squared_error(y_test, y_pred)"
   ]
  },
  {
   "cell_type": "markdown",
   "metadata": {},
   "source": [
    "## Visualizing pipelines"
   ]
  },
  {
   "cell_type": "markdown",
   "metadata": {},
   "source": [
    "A final goody we want to demonstrate is a tool to visualize Pipelines and FeatureUnions with the help of dstoolbox."
   ]
  },
  {
   "cell_type": "code",
   "execution_count": 29,
   "metadata": {
    "collapsed": true
   },
   "outputs": [],
   "source": [
    "from IPython.display import Image\n",
    "from dstoolbox.visualization import make_graph"
   ]
  },
  {
   "cell_type": "markdown",
   "metadata": {},
   "source": [
    "For this, we first transform the pipeline to a `pydotplus` graph, then visualize that graph. Btw., this also works with normal `sklearn` Pipelines and FeatureUnions.\n",
    "\n",
    "Note that this requires additional packages to be installed, namely `pydotplus` and `graphviz`. Those can be installed via `pip`."
   ]
  },
  {
   "cell_type": "code",
   "execution_count": 30,
   "metadata": {
    "collapsed": false
   },
   "outputs": [
    {
     "name": "stdout",
     "output_type": "stream",
     "text": [
      "Fontconfig warning: ignoring C.UTF-8: not a valid language tag\n",
      "\n"
     ]
    },
    {
     "data": {
      "image/png": "[encoded data removed]",
      "text/plain": [
       "<IPython.core.display.Image object>"
      ]
     },
     "execution_count": 30,
     "metadata": {},
     "output_type": "execute_result"
    }
   ],
   "source": [
    "graph = make_graph('my pipe', pipeline)\n",
    "Image(graph.create_png())"
   ]
  }
 ],
 "metadata": {
  "kernelspec": {
   "display_name": "Python 3",
   "language": "python",
   "name": "python3"
  },
  "language_info": {
   "codemirror_mode": {
    "name": "ipython",
    "version": 3
   },
   "file_extension": ".py",
   "mimetype": "text/x-python",
   "name": "python",
   "nbconvert_exporter": "python",
   "pygments_lexer": "ipython3",
   "version": "3.5.2"
  }
 },
 "nbformat": 4,
 "nbformat_minor": 2
}
